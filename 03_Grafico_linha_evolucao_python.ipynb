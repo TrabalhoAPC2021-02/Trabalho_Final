{
  "nbformat": 4,
  "nbformat_minor": 0,
  "metadata": {
    "colab": {
      "name": "Grafico barra evolucao python.ipynb",
      "provenance": [],
      "authorship_tag": "ABX9TyOsSYsvW3RrwNjWSazuLwtj",
      "include_colab_link": true
    },
    "kernelspec": {
      "name": "python3",
      "display_name": "Python 3"
    },
    "language_info": {
      "name": "python"
    }
  },
  "cells": [
    {
      "cell_type": "markdown",
      "metadata": {
        "id": "view-in-github",
        "colab_type": "text"
      },
      "source": [
        "<a href=\"https://colab.research.google.com/github/TrabalhoAPC2021-02/Trabalho_Final/blob/main/Grafico_barra_evolucao_python.ipynb\" target=\"_parent\"><img src=\"https://colab.research.google.com/assets/colab-badge.svg\" alt=\"Open In Colab\"/></a>"
      ]
    },
    {
      "cell_type": "code",
      "execution_count": null,
      "metadata": {
        "id": "6Yif5JlwtT_C"
      },
      "outputs": [],
      "source": [
        "# bibliotecas\n",
        "import plotly.express as px\n",
        "import pandas as pd\n",
        "import io"
      ]
    },
    {
      "cell_type": "code",
      "source": [
        "# fazer o upload do arquivo .csv no colab\n",
        "# busca o arquivo no diretorio\n",
        "from google.colab import files\n",
        "uploaded = files.upload()"
      ],
      "metadata": {
        "id": "Swgn7Jq3tadK"
      },
      "execution_count": null,
      "outputs": []
    },
    {
      "cell_type": "code",
      "source": [
        "# carrega a tabela para o data frame dados_csv\n",
        "dados_csv = pd.read_csv(io.BytesIO(uploaded['Most Popular Programming Languages from 2005 to 2021.csv']), ';')\n",
        "print(dados_csv)"
      ],
      "metadata": {
        "id": "Rlbvs5b3t_L5"
      },
      "execution_count": null,
      "outputs": []
    },
    {
      "cell_type": "code",
      "source": [
        "# converte os dados em uma lista chamada dados\n",
        "dados = dados_csv.values\n",
        "print(dados)\n",
        "len(dados)"
      ],
      "metadata": {
        "id": "kJa9soGguIn4",
        "colab": {
          "base_uri": "https://localhost:8080/"
        },
        "outputId": "48abf70a-9462-4d58-dbf4-c2ffe6054363"
      },
      "execution_count": null,
      "outputs": [
        {
          "output_type": "stream",
          "name": "stdout",
          "text": [
            "[['January 2005' 0.38 0.38 ... 0.0 1.51 7.79]\n",
            " ['February 2005' 0.37 0.38 ... 0.0 1.45 7.67]\n",
            " ['March 2005' 0.337 0.37 ... 0.0 1.44 7.68]\n",
            " ...\n",
            " ['October 2021' 0.53 0.57 ... 1.59 1.28 0.75]\n",
            " ['November 2021' 0.61 0.7 ... 1.63 1.37 0.76]\n",
            " ['December 2021' 0.7 0.67 ... 1.66 1.25 0.71]]\n"
          ]
        },
        {
          "output_type": "execute_result",
          "data": {
            "text/plain": [
              "204"
            ]
          },
          "metadata": {},
          "execution_count": 6
        }
      ]
    },
    {
      "cell_type": "code",
      "source": [
        "# separa ano do mês\n",
        "ano: [str] = [0 for ff in range(204)] # dimensionando a lista\n",
        "#ano = []\n",
        "i = 0\n",
        "for x in dados:\n",
        "  ano[i] = x[0][len(x[0])-4:len(x[0])]\n",
        "  print(i, ano[i])\n",
        "  i = i + 1\n",
        "len(ano)"
      ],
      "metadata": {
        "id": "HIhJ26dCuMov"
      },
      "execution_count": null,
      "outputs": []
    },
    {
      "cell_type": "code",
      "source": [
        "# agrupar os anos repetidos - eixo x\n",
        "anos_agrupados: [str] = [0 for ff in range(17)] # tamanho da lista - 18 elementos\n",
        "\n",
        "anos_agrupados[0] = ano[0]\n",
        "m = 0\n",
        "for z in ano: # percorre a lista item por item e coloca z\n",
        "  if z != anos_agrupados[m]: # compara ano atual da lista ano com o ano agrupado anteriormente\n",
        "    m = m + 1\n",
        "    anos_agrupados[m] = z\n",
        "\n",
        "print(anos_agrupados)\n",
        "len(anos_agrupados)\n"
      ],
      "metadata": {
        "id": "BuTv_nfkvozt",
        "colab": {
          "base_uri": "https://localhost:8080/"
        },
        "outputId": "0f6770a9-49dd-4f51-a823-2a4fd88340b9"
      },
      "execution_count": null,
      "outputs": [
        {
          "output_type": "stream",
          "name": "stdout",
          "text": [
            "['2005', '2006', '2007', '2008', '2009', '2010', '2011', '2012', '2013', '2014', '2015', '2016', '2017', '2018', '2019', '2020', '2021']\n"
          ]
        },
        {
          "output_type": "execute_result",
          "data": {
            "text/plain": [
              "17"
            ]
          },
          "metadata": {},
          "execution_count": 14
        }
      ]
    },
    {
      "cell_type": "code",
      "source": [
        "# carrega dados da linguagem python na lista valores_python - eixo y\n",
        "valores_python = dados[:,20] # coluna 20 - dados do python\n",
        "print(valores_python)\n",
        "len(valores_python)"
      ],
      "metadata": {
        "id": "ingBtTO8xzy5",
        "colab": {
          "base_uri": "https://localhost:8080/"
        },
        "outputId": "18a41abc-eda5-46e8-c3e5-a0e5e8ee9aa2"
      },
      "execution_count": null,
      "outputs": [
        {
          "output_type": "stream",
          "name": "stdout",
          "text": [
            "[2.91 2.87 2.81 2.78 2.88 2.947 2.98 3.13 3.28 3.47 3.64 3.887 3.968 3.96\n",
            " 3.94 3.81 3.71 3.67 3.58 3.65 3.8 3.92 3.96 3.98 4.15 4.34 4.3 4.39 4.42\n",
            " 4.475 4.35 4.19 4.22 4.27 4.475 4.66 4.85 4.975 5.09 5.06 5.09 5.02 5.06\n",
            " 5.2 5.27 5.6 5.75 5.94 6.26 6.3 6.41 6.35 6.39 6.43 6.54 6.67 6.67 6.8\n",
            " 6.83 6.8 6.56 6.47 6.435 6.27 6.21 6.25 6.25 6.22 6.34 6.435 6.5 6.58\n",
            " 6.725 6.94 6.99 6.9 6.98 6.95 6.95 6.94 7.03 7.26 7.42 7.73 7.84 7.9 8.03\n",
            " 8.08 8.1 8.07 8.1 8.21 8.23 8.28 8.35 8.44 8.62 8.87 9.0 9.17 9.36 9.56\n",
            " 9.71 9.67 9.85 9.85 9.89 9.82 9.95 10.02 9.94 10.05 10.14 10.27 10.17\n",
            " 10.28 10.27 10.44 10.56 10.58 10.71 10.84 11.1 11.12 11.12 11.2 11.34\n",
            " 11.35 11.45 11.58 11.73 11.94 11.98 12.3 12.62 12.8 12.94 13.32 13.68\n",
            " 13.87 14.04 14.31 14.7 14.97 15.31 15.68 16.17 16.59 16.85 17.23 17.54\n",
            " 17.88 18.19 18.67 19.18 19.7 20.26 20.75 21.21 21.68 22.3 22.62 23.06\n",
            " 23.48 23.71 24.16 24.6 24.75 25.16 25.61 26.2 26.65 26.91 27.54 27.99\n",
            " 28.27 28.59 28.77 29.04 29.12 29.23 29.78 30.37 30.5 31.06 31.66 32.11\n",
            " 32.1 31.86 31.75 31.0 30.68 30.5 30.23 30.28 30.18 30.44 30.45 30.74\n",
            " 30.74 30.11 30.14 30.04 29.58]\n"
          ]
        },
        {
          "output_type": "execute_result",
          "data": {
            "text/plain": [
              "204"
            ]
          },
          "metadata": {},
          "execution_count": 16
        }
      ]
    },
    {
      "cell_type": "code",
      "source": [
        "# totalizar dados mensais em anos\n",
        "soma_python: [float] = [0 for hh in range(17)]\n",
        "media_python: [float] = [0 for ii in range(17)]\n",
        "\n",
        "j = 0\n",
        "for z in range(0, len(valores_python)):\n",
        "    if ano[z] == anos_agrupados[j]:\n",
        "        soma_python[j] = soma_python[j] + valores_python[z]\n",
        "        #print(ano[z], soma_python[j], media_python[j])\n",
        "    else:\n",
        "        media_python[j] = soma_python[j] / 12.0 # média anual - 12 meses\n",
        "        print(anos_agrupados[j], soma_python[j], media_python[j]) \n",
        "        j = j + 1\n",
        "        soma_python[j] = soma_python[j] + valores_python[z]\n",
        "    \n",
        "    media_python[j] = soma_python[j] / 12.0\n",
        "    \n",
        "print(anos_agrupados[j], soma_python[j], media_python[j]) \n",
        "print(media_python)\n",
        "len(media_python) # eixo y"
      ],
      "metadata": {
        "id": "2em-c7drxR8Z"
      },
      "execution_count": null,
      "outputs": []
    },
    {
      "cell_type": "code",
      "source": [
        "# plotar grafico de barras dados totalizados por ano da linguagem python\n",
        "fig = px.bar(x=anos_agrupados, y=media_python, title=\"Evolução do uso da linguagem Python nos últimos 17 anos\")\n",
        "fig.update_xaxes(title='Ano', title_font_color='red', ticks='outside', tickfont_color='red')\n",
        "fig.update_yaxes(title='Percentual', title_font_color='red', ticks='outside', tickfont_color='red')\n",
        "fig.show()"
      ],
      "metadata": {
        "id": "Vgw4HFsP0ZvU"
      },
      "execution_count": null,
      "outputs": []
    }
  ]
}
