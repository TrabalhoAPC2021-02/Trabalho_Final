{
 "cells": [
  {
   "cell_type": "code",
   "execution_count": 1,
   "metadata": {},
   "outputs": [],
   "source": [
    "#importando as bibliotecas\n",
    "\n",
    "import pandas as pd    # biblioteca utilizada para arquivos em dataframe\n",
    "import plotly.express as px # biclioteca responsável por plotar os gráficos"
   ]
  },
  {
   "cell_type": "code",
   "execution_count": null,
   "metadata": {},
   "outputs": [],
   "source": [
    "  #criação de um vetor vazio para receber as médias salariais\n",
    "\n",
    "s_av = []       "
   ]
  },
  {
   "cell_type": "code",
   "execution_count": 26,
   "metadata": {},
   "outputs": [
    {
     "data": {
      "text/html": [
       "<div>\n",
       "<style scoped>\n",
       "    .dataframe tbody tr th:only-of-type {\n",
       "        vertical-align: middle;\n",
       "    }\n",
       "\n",
       "    .dataframe tbody tr th {\n",
       "        vertical-align: top;\n",
       "    }\n",
       "\n",
       "    .dataframe thead th {\n",
       "        text-align: right;\n",
       "    }\n",
       "</style>\n",
       "<table border=\"1\" class=\"dataframe\">\n",
       "  <thead>\n",
       "    <tr style=\"text-align: right;\">\n",
       "      <th></th>\n",
       "      <th>Survey Year</th>\n",
       "      <th>Timestamp</th>\n",
       "      <th>SalaryUSD</th>\n",
       "      <th>Country</th>\n",
       "      <th>PrimaryDatabase</th>\n",
       "      <th>YearsWithThisDatabase</th>\n",
       "      <th>OtherDatabases</th>\n",
       "      <th>EmploymentStatus</th>\n",
       "      <th>JobTitle</th>\n",
       "      <th>ManageStaff</th>\n",
       "      <th>YearsWithThisTypeOfJob</th>\n",
       "      <th>HowManyCompanies</th>\n",
       "      <th>OtherPeopleOnYourTeam</th>\n",
       "      <th>CompanyEmployeesOverall</th>\n",
       "      <th>Gender</th>\n",
       "    </tr>\n",
       "  </thead>\n",
       "  <tbody>\n",
       "    <tr>\n",
       "      <th>0</th>\n",
       "      <td>2021</td>\n",
       "      <td>2020-12-10 08:22:42.696</td>\n",
       "      <td>65000.0</td>\n",
       "      <td>Sweden</td>\n",
       "      <td>Microsoft SQL Server</td>\n",
       "      <td>4</td>\n",
       "      <td>Microsoft SQL Server</td>\n",
       "      <td>Full time employee</td>\n",
       "      <td>Developer: Business Intelligence (SSRS, PowerB...</td>\n",
       "      <td>Yes</td>\n",
       "      <td>4</td>\n",
       "      <td>1 (this is the only company where I've had thi...</td>\n",
       "      <td>None</td>\n",
       "      <td>2</td>\n",
       "      <td>Male</td>\n",
       "    </tr>\n",
       "    <tr>\n",
       "      <th>1</th>\n",
       "      <td>2021</td>\n",
       "      <td>2020-12-10 08:23:22.242</td>\n",
       "      <td>145000.0</td>\n",
       "      <td>United States</td>\n",
       "      <td>Microsoft SQL Server</td>\n",
       "      <td>15</td>\n",
       "      <td>Azure SQL DB (any flavor)</td>\n",
       "      <td>Full time employee</td>\n",
       "      <td>DBA (Production Focus - build &amp; troubleshoot s...</td>\n",
       "      <td>No</td>\n",
       "      <td>25</td>\n",
       "      <td>5</td>\n",
       "      <td>None</td>\n",
       "      <td>74</td>\n",
       "      <td>Male</td>\n",
       "    </tr>\n",
       "    <tr>\n",
       "      <th>2</th>\n",
       "      <td>2021</td>\n",
       "      <td>2020-12-10 08:23:37.909</td>\n",
       "      <td>105000.0</td>\n",
       "      <td>United States</td>\n",
       "      <td>Microsoft SQL Server</td>\n",
       "      <td>12</td>\n",
       "      <td>PostgreSQL, Azure SQL DB (any flavor)</td>\n",
       "      <td>Full time employee</td>\n",
       "      <td>DBA (General - splits time evenly between writ...</td>\n",
       "      <td>Yes</td>\n",
       "      <td>6</td>\n",
       "      <td>4</td>\n",
       "      <td>1</td>\n",
       "      <td>500</td>\n",
       "      <td>Male</td>\n",
       "    </tr>\n",
       "    <tr>\n",
       "      <th>3</th>\n",
       "      <td>2021</td>\n",
       "      <td>2020-12-10 08:23:48.152</td>\n",
       "      <td>46482.0</td>\n",
       "      <td>United Kingdom</td>\n",
       "      <td>Microsoft SQL Server</td>\n",
       "      <td>10</td>\n",
       "      <td>Azure SQL DB (any flavor)</td>\n",
       "      <td>Full time employee</td>\n",
       "      <td>DBA (Production Focus - build &amp; troubleshoot s...</td>\n",
       "      <td>No</td>\n",
       "      <td>5</td>\n",
       "      <td>2 (I worked at another similar position elsewh...</td>\n",
       "      <td>None</td>\n",
       "      <td>35</td>\n",
       "      <td>Male</td>\n",
       "    </tr>\n",
       "    <tr>\n",
       "      <th>4</th>\n",
       "      <td>2021</td>\n",
       "      <td>2020-12-10 08:24:03.600</td>\n",
       "      <td>98800.0</td>\n",
       "      <td>United States</td>\n",
       "      <td>Microsoft SQL Server</td>\n",
       "      <td>5</td>\n",
       "      <td>DB2</td>\n",
       "      <td>Full time employee</td>\n",
       "      <td>Developer: Business Intelligence (SSRS, PowerB...</td>\n",
       "      <td>No</td>\n",
       "      <td>5</td>\n",
       "      <td>1 (this is the only company where I've had thi...</td>\n",
       "      <td>None</td>\n",
       "      <td>50</td>\n",
       "      <td>Male</td>\n",
       "    </tr>\n",
       "  </tbody>\n",
       "</table>\n",
       "</div>"
      ],
      "text/plain": [
       "   Survey Year               Timestamp  SalaryUSD         Country  \\\n",
       "0         2021 2020-12-10 08:22:42.696    65000.0          Sweden   \n",
       "1         2021 2020-12-10 08:23:22.242   145000.0   United States   \n",
       "2         2021 2020-12-10 08:23:37.909   105000.0   United States   \n",
       "3         2021 2020-12-10 08:23:48.152    46482.0  United Kingdom   \n",
       "4         2021 2020-12-10 08:24:03.600    98800.0   United States   \n",
       "\n",
       "        PrimaryDatabase  YearsWithThisDatabase  \\\n",
       "0  Microsoft SQL Server                      4   \n",
       "1  Microsoft SQL Server                     15   \n",
       "2  Microsoft SQL Server                     12   \n",
       "3  Microsoft SQL Server                     10   \n",
       "4  Microsoft SQL Server                      5   \n",
       "\n",
       "                          OtherDatabases    EmploymentStatus  \\\n",
       "0                   Microsoft SQL Server  Full time employee   \n",
       "1              Azure SQL DB (any flavor)  Full time employee   \n",
       "2  PostgreSQL, Azure SQL DB (any flavor)  Full time employee   \n",
       "3              Azure SQL DB (any flavor)  Full time employee   \n",
       "4                                    DB2  Full time employee   \n",
       "\n",
       "                                            JobTitle ManageStaff  \\\n",
       "0  Developer: Business Intelligence (SSRS, PowerB...         Yes   \n",
       "1  DBA (Production Focus - build & troubleshoot s...          No   \n",
       "2  DBA (General - splits time evenly between writ...         Yes   \n",
       "3  DBA (Production Focus - build & troubleshoot s...          No   \n",
       "4  Developer: Business Intelligence (SSRS, PowerB...          No   \n",
       "\n",
       "   YearsWithThisTypeOfJob                                   HowManyCompanies  \\\n",
       "0                       4  1 (this is the only company where I've had thi...   \n",
       "1                      25                                                  5   \n",
       "2                       6                                                  4   \n",
       "3                       5  2 (I worked at another similar position elsewh...   \n",
       "4                       5  1 (this is the only company where I've had thi...   \n",
       "\n",
       "  OtherPeopleOnYourTeam CompanyEmployeesOverall Gender  \n",
       "0                  None                       2   Male  \n",
       "1                  None                      74   Male  \n",
       "2                     1                     500   Male  \n",
       "3                  None                      35   Male  \n",
       "4                  None                      50   Male  "
      ]
     },
     "execution_count": 26,
     "metadata": {},
     "output_type": "execute_result"
    }
   ],
   "source": [
    "#Criando dataframe através da leitura da planilha em excel\n",
    "df = pd.read_excel('Data_Professional_full.xlsx')\n",
    "df.head()"
   ]
  },
  {
   "cell_type": "code",
   "execution_count": 20,
   "metadata": {},
   "outputs": [
    {
     "name": "stdout",
     "output_type": "stream",
     "text": [
      "6807\n",
      "109589.19568973115\n"
     ]
    },
    {
     "data": {
      "text/plain": [
       "'\\n#utilização de um laço for para calcular média dos salários dos USA em 2021\\n\\n'"
      ]
     },
     "execution_count": 20,
     "metadata": {},
     "output_type": "execute_result"
    }
   ],
   "source": [
    "#Selecionando os dados dos USA com slários de 2017 a 2021\n",
    "\n",
    "df_usa = df[df['Country'] == 'United States'] \n",
    "salary_usa = df_usa['SalaryUSD'].tolist() # tranformando o dataframe dos usa  com salarios de 2017 a 2021 em lista.\n",
    "\n",
    "#utilização de um laço for para calcular média dos salários dos USA \n",
    "\n",
    "soma_sal_usa = 0\n",
    "\n",
    "for i in range (len(salary_usa)):\n",
    "    soma_sal_usa = soma_sal_usa + salary_usa[i]\n",
    "av_usa = soma_sal_usa/len(salary_usa)\n",
    "print(av_usa)\n"
   ]
  },
  {
   "cell_type": "code",
   "execution_count": 22,
   "metadata": {},
   "outputs": [
    {
     "name": "stdout",
     "output_type": "stream",
     "text": [
      "3\n",
      "57333.333333333336\n"
     ]
    }
   ],
   "source": [
    "#Selecionando os dados dq China com slários de 2017 a 2021\n",
    "\n",
    "df_china = df[df['Country'] == 'China'] \n",
    "salary_china = df_china['SalaryUSD'].tolist() # tranformando o dataframe da china com salarios de 2017 a 2021 em lista.\n",
    "print(len(salary_china))\n",
    "\n",
    "#utilização de um laço for para calcular média dos salários da china \n",
    "\n",
    "soma_sal_china = 0\n",
    "\n",
    "for i in range (len(salary_china)):\n",
    "    soma_sal_china = soma_sal_china + salary_china[i]\n",
    "av_china = soma_sal_china/len(salary_china)\n",
    "print(av_china)\n",
    "\n"
   ]
  },
  {
   "cell_type": "code",
   "execution_count": 27,
   "metadata": {},
   "outputs": [
    {
     "name": "stdout",
     "output_type": "stream",
     "text": [
      "150\n",
      "79777.56\n"
     ]
    }
   ],
   "source": [
    "#Selecionando os dados da Alemanha com slários de 2017 a 2021\n",
    "\n",
    "df_alemanha = df[df['Country'] == 'Germany'] \n",
    "salary_alemanha = df_alemanha['SalaryUSD'].tolist() # tranformando o dataframe da Alemanha com salarios de 2017 a 2021 em lista.\n",
    "print(len(salary_alemanha))\n",
    "\n",
    "#utilização de um laço for para calcular média dos salários da Alemanha\n",
    "\n",
    "soma_sal_alemanha = 0\n",
    "\n",
    "for i in range (len(salary_alemanha)):\n",
    "    soma_sal_alemanha = soma_sal_alemanha + salary_alemanha[i]\n",
    "av_alemanha = soma_sal_alemanha/len(salary_alemanha)\n",
    "print(av_alemanha)\n",
    "\n"
   ]
  },
  {
   "cell_type": "code",
   "execution_count": 29,
   "metadata": {},
   "outputs": [
    {
     "name": "stdout",
     "output_type": "stream",
     "text": [
      "934\n",
      "66656.69426124198\n"
     ]
    }
   ],
   "source": [
    "#Selecionando os dados do Reino unido com slários de 2017 a 2021\n",
    "\n",
    "df_uk = df[df['Country'] == 'United Kingdom'] \n",
    "salary_uk = df_uk['SalaryUSD'].tolist() # tranformando o dataframe do reino unido com salarios de 2017 a 2021 em lista.\n",
    "print(len(salary_uk))\n",
    "\n",
    "#utilização de um laço for para calcular média dos salários do Reino Unido.\n",
    "\n",
    "soma_sal_uk = 0\n",
    "\n",
    "for i in range (len(salary_uk)):\n",
    "    soma_sal_uk = soma_sal_uk + salary_uk[i]\n",
    "av_uk = soma_sal_uk/len(salary_uk)\n",
    "print(av_uk)"
   ]
  },
  {
   "cell_type": "code",
   "execution_count": 30,
   "metadata": {},
   "outputs": [
    {
     "name": "stdout",
     "output_type": "stream",
     "text": [
      "171\n",
      "32729.870467836256\n"
     ]
    }
   ],
   "source": [
    "#Selecionando os dados da Índia com slários de 2017 a 2021\n",
    "\n",
    "df_india = df[df['Country'] == 'India'] \n",
    "salary_india = df_india['SalaryUSD'].tolist() # tranformando o dataframe da India com salarios de 2017 a 2021 em lista.\n",
    "print(len(salary_india))\n",
    "\n",
    "#utilização de um laço for para calcular média dos salários da India.\n",
    "\n",
    "soma_sal_india = 0\n",
    "\n",
    "for i in range (len(salary_india)):\n",
    "    soma_sal_india = soma_sal_india + salary_india[i]\n",
    "av_india = soma_sal_india/len(salary_india)\n",
    "print(av_india)"
   ]
  },
  {
   "cell_type": "code",
   "execution_count": 34,
   "metadata": {},
   "outputs": [
    {
     "name": "stdout",
     "output_type": "stream",
     "text": [
      "52\n",
      "60625.75\n"
     ]
    }
   ],
   "source": [
    "#Selecionando os dados da França com slários de 2017 a 2021\n",
    "\n",
    "df_france = df[df['Country'] == 'France'] \n",
    "salary_france = df_france['SalaryUSD'].tolist() # tranformando o dataframe da França com salarios de 2017 a 2021 em lista.\n",
    "print(len(salary_france))\n",
    "\n",
    "#utilização de um laço for para calcular média dos salários da França.\n",
    "\n",
    "soma_sal_france = 0\n",
    "\n",
    "for i in range (len(salary_france)):\n",
    "    soma_sal_france = soma_sal_france + salary_france[i]\n",
    "av_france = soma_sal_france/len(salary_france)\n",
    "print(av_france)"
   ]
  },
  {
   "cell_type": "code",
   "execution_count": 36,
   "metadata": {},
   "outputs": [
    {
     "name": "stdout",
     "output_type": "stream",
     "text": [
      "47\n",
      "48795.11255319149\n"
     ]
    }
   ],
   "source": [
    "#Selecionando os dados da Itália com slários de 2017 a 2021\n",
    "\n",
    "df_italia = df[df['Country'] == 'Italy'] \n",
    "salary_italia = df_italia['SalaryUSD'].tolist() # tranformando o dataframe da Itália com salarios de 2017 a 2021 em lista.\n",
    "print(len(salary_italia))\n",
    "\n",
    "#utilização de um laço for para calcular média dos salários da Itália.\n",
    "\n",
    "soma_sal_italia = 0\n",
    "\n",
    "for i in range (len(salary_italia)):\n",
    "    soma_sal_italia = soma_sal_italia + salary_italia[i]\n",
    "av_italia = soma_sal_italia/len(salary_italia)\n",
    "print(av_italia)"
   ]
  },
  {
   "cell_type": "code",
   "execution_count": 37,
   "metadata": {},
   "outputs": [
    {
     "name": "stdout",
     "output_type": "stream",
     "text": [
      "378\n",
      "80342.5001058201\n"
     ]
    }
   ],
   "source": [
    "#Selecionando os dados da Canadá com slários de 2017 a 2021\n",
    "\n",
    "df_canada = df[df['Country'] == 'Canada'] \n",
    "salary_canada = df_canada['SalaryUSD'].tolist() # tranformando o dataframe do Canadá com salarios de 2017 a 2021 em lista.\n",
    "print(len(salary_canada))\n",
    "\n",
    "#utilização de um laço for para calcular média dos salários do Canadá.\n",
    "\n",
    "soma_sal_canada = 0\n",
    "\n",
    "for i in range (len(salary_canada)):\n",
    "    soma_sal_canada = soma_sal_canada + salary_canada[i]\n",
    "av_canada = soma_sal_canada/len(salary_canada)\n",
    "print(av_canada)"
   ]
  },
  {
   "cell_type": "code",
   "execution_count": 38,
   "metadata": {},
   "outputs": [
    {
     "name": "stdout",
     "output_type": "stream",
     "text": [
      "48\n",
      "27639.916666666668\n"
     ]
    }
   ],
   "source": [
    "#Selecionando os dados da Russia com slários de 2017 a 2021\n",
    "\n",
    "df_russia = df[df['Country'] == 'Russia'] \n",
    "salary_russia = df_russia['SalaryUSD'].tolist() # tranformando o dataframe do Russia com salarios de 2017 a 2021 em lista.\n",
    "print(len(salary_russia))\n",
    "\n",
    "#utilização de um laço for para calcular média dos salários do Russia.\n",
    "\n",
    "soma_sal_russia = 0\n",
    "\n",
    "for i in range (len(salary_russia)):\n",
    "    soma_sal_russia = soma_sal_russia + salary_russia[i]\n",
    "av_russia = soma_sal_russia/len(salary_russia)\n",
    "print(av_russia)"
   ]
  },
  {
   "cell_type": "code",
   "execution_count": 40,
   "metadata": {},
   "outputs": [
    {
     "name": "stdout",
     "output_type": "stream",
     "text": [
      "56\n",
      "27996.75\n"
     ]
    }
   ],
   "source": [
    "#Selecionando os dados do Brasil com slários de 2017 a 2021\n",
    "\n",
    "df_br = df[df['Country'] == 'Brazil'] \n",
    "salary_br = df_br['SalaryUSD'].tolist() # tranformando o dataframe do Brasil com salarios de 2017 a 2021 em lista.\n",
    "print(len(salary_br))\n",
    "\n",
    "#utilização de um laço for para calcular média dos salários do Brasil.\n",
    "\n",
    "soma_sal_br = 0\n",
    "\n",
    "for i in range (len(salary_br)):\n",
    "    soma_sal_br = soma_sal_br + salary_br[i]\n",
    "av_br = soma_sal_br/len(salary_br)\n",
    "print(av_br)"
   ]
  },
  {
   "cell_type": "code",
   "execution_count": 41,
   "metadata": {},
   "outputs": [
    {
     "name": "stdout",
     "output_type": "stream",
     "text": [
      "255\n",
      "93446.25709803922\n"
     ]
    }
   ],
   "source": [
    "#Selecionando os dados da Austrália com slários de 2017 a 2021\n",
    "\n",
    "df_australia = df[df['Country'] == 'Australia'] \n",
    "salary_australia = df_australia['SalaryUSD'].tolist() # tranformando o dataframe do Austrália com salarios de 2017 a 2021 em lista.\n",
    "print(len(salary_australia))\n",
    "\n",
    "#utilização de um laço for para calcular média dos salários da Austrália.\n",
    "\n",
    "soma_sal_australia = 0\n",
    "\n",
    "for i in range (len(salary_australia)):\n",
    "    soma_sal_australia = soma_sal_australia + salary_australia[i]\n",
    "av_australia = soma_sal_australia/len(salary_australia)\n",
    "print(av_australia)"
   ]
  },
  {
   "cell_type": "code",
   "execution_count": null,
   "metadata": {},
   "outputs": [],
   "source": [
    "#Selecionando os dados da Africa do sul com slários de 2017 a 2021\n",
    "\n",
    "df_africasul = df[df['Country'] == 'South Africa'] \n",
    "salary_africasul = df_africasul['SalaryUSD'].tolist() # tranformando o dataframe da Africa do Sul com salarios de 2017 a 2021 em lista.\n",
    "print(len(salary_africasul))\n",
    "\n",
    "#utilização de um laço for para calcular média dos salários da africa do sul.\n",
    "\n",
    "soma_sal_africasul = 0\n",
    "\n",
    "for i in range (len(salary_africasul)):\n",
    "    soma_sal_africasul = soma_sal_africasul + salary_africasul[i]\n",
    "av_africasul = soma_sal_africasul/len(salary_africasul)\n",
    "print(av_africasul)"
   ]
  },
  {
   "cell_type": "code",
   "execution_count": 46,
   "metadata": {},
   "outputs": [
    {
     "name": "stdout",
     "output_type": "stream",
     "text": [
      "         Country  Salary Average\n",
      "             USA   109589.195690\n",
      "           China    57333.333333\n",
      "         Germany    79777.560000\n",
      "  United Kingdom    66656.694261\n",
      "           India    32729.870468\n",
      "          France    60625.750000\n",
      "           Italy    48795.112553\n",
      "          Canada    80342.500106\n",
      "          Russia    27639.916667\n",
      "          Brazil    27996.750000\n",
      "       Australia    93446.257098\n",
      "    South Africa    55847.116341\n"
     ]
    },
    {
     "data": {
      "application/vnd.plotly.v1+json": {
       "config": {
        "plotlyServerURL": "https://plot.ly"
       },
       "data": [
        {
         "alignmentgroup": "True",
         "hovertemplate": "Country=%{x}<br>Salary Average=%{y}<extra></extra>",
         "legendgroup": "",
         "marker": {
          "color": "#636efa",
          "pattern": {
           "shape": ""
          }
         },
         "name": "",
         "offsetgroup": "",
         "orientation": "v",
         "showlegend": false,
         "textposition": "auto",
         "type": "bar",
         "x": [
          "USA",
          "China",
          "Germany",
          "United Kingdom",
          "India",
          "France",
          "Italy",
          "Canada",
          "Russia",
          "Brazil",
          "Australia",
          "South Africa"
         ],
         "xaxis": "x",
         "y": [
          109589.19568973115,
          57333.333333333336,
          79777.56,
          66656.69426124198,
          32729.870467836256,
          60625.75,
          48795.11255319149,
          80342.5001058201,
          27639.916666666668,
          27996.75,
          93446.25709803922,
          55847.116341463414
         ],
         "yaxis": "y"
        }
       ],
       "layout": {
        "barmode": "relative",
        "legend": {
         "tracegroupgap": 0
        },
        "margin": {
         "t": 60
        },
        "template": {
         "data": {
          "bar": [
           {
            "error_x": {
             "color": "#2a3f5f"
            },
            "error_y": {
             "color": "#2a3f5f"
            },
            "marker": {
             "line": {
              "color": "#E5ECF6",
              "width": 0.5
             },
             "pattern": {
              "fillmode": "overlay",
              "size": 10,
              "solidity": 0.2
             }
            },
            "type": "bar"
           }
          ],
          "barpolar": [
           {
            "marker": {
             "line": {
              "color": "#E5ECF6",
              "width": 0.5
             },
             "pattern": {
              "fillmode": "overlay",
              "size": 10,
              "solidity": 0.2
             }
            },
            "type": "barpolar"
           }
          ],
          "carpet": [
           {
            "aaxis": {
             "endlinecolor": "#2a3f5f",
             "gridcolor": "white",
             "linecolor": "white",
             "minorgridcolor": "white",
             "startlinecolor": "#2a3f5f"
            },
            "baxis": {
             "endlinecolor": "#2a3f5f",
             "gridcolor": "white",
             "linecolor": "white",
             "minorgridcolor": "white",
             "startlinecolor": "#2a3f5f"
            },
            "type": "carpet"
           }
          ],
          "choropleth": [
           {
            "colorbar": {
             "outlinewidth": 0,
             "ticks": ""
            },
            "type": "choropleth"
           }
          ],
          "contour": [
           {
            "colorbar": {
             "outlinewidth": 0,
             "ticks": ""
            },
            "colorscale": [
             [
              0,
              "#0d0887"
             ],
             [
              0.1111111111111111,
              "#46039f"
             ],
             [
              0.2222222222222222,
              "#7201a8"
             ],
             [
              0.3333333333333333,
              "#9c179e"
             ],
             [
              0.4444444444444444,
              "#bd3786"
             ],
             [
              0.5555555555555556,
              "#d8576b"
             ],
             [
              0.6666666666666666,
              "#ed7953"
             ],
             [
              0.7777777777777778,
              "#fb9f3a"
             ],
             [
              0.8888888888888888,
              "#fdca26"
             ],
             [
              1,
              "#f0f921"
             ]
            ],
            "type": "contour"
           }
          ],
          "contourcarpet": [
           {
            "colorbar": {
             "outlinewidth": 0,
             "ticks": ""
            },
            "type": "contourcarpet"
           }
          ],
          "heatmap": [
           {
            "colorbar": {
             "outlinewidth": 0,
             "ticks": ""
            },
            "colorscale": [
             [
              0,
              "#0d0887"
             ],
             [
              0.1111111111111111,
              "#46039f"
             ],
             [
              0.2222222222222222,
              "#7201a8"
             ],
             [
              0.3333333333333333,
              "#9c179e"
             ],
             [
              0.4444444444444444,
              "#bd3786"
             ],
             [
              0.5555555555555556,
              "#d8576b"
             ],
             [
              0.6666666666666666,
              "#ed7953"
             ],
             [
              0.7777777777777778,
              "#fb9f3a"
             ],
             [
              0.8888888888888888,
              "#fdca26"
             ],
             [
              1,
              "#f0f921"
             ]
            ],
            "type": "heatmap"
           }
          ],
          "heatmapgl": [
           {
            "colorbar": {
             "outlinewidth": 0,
             "ticks": ""
            },
            "colorscale": [
             [
              0,
              "#0d0887"
             ],
             [
              0.1111111111111111,
              "#46039f"
             ],
             [
              0.2222222222222222,
              "#7201a8"
             ],
             [
              0.3333333333333333,
              "#9c179e"
             ],
             [
              0.4444444444444444,
              "#bd3786"
             ],
             [
              0.5555555555555556,
              "#d8576b"
             ],
             [
              0.6666666666666666,
              "#ed7953"
             ],
             [
              0.7777777777777778,
              "#fb9f3a"
             ],
             [
              0.8888888888888888,
              "#fdca26"
             ],
             [
              1,
              "#f0f921"
             ]
            ],
            "type": "heatmapgl"
           }
          ],
          "histogram": [
           {
            "marker": {
             "pattern": {
              "fillmode": "overlay",
              "size": 10,
              "solidity": 0.2
             }
            },
            "type": "histogram"
           }
          ],
          "histogram2d": [
           {
            "colorbar": {
             "outlinewidth": 0,
             "ticks": ""
            },
            "colorscale": [
             [
              0,
              "#0d0887"
             ],
             [
              0.1111111111111111,
              "#46039f"
             ],
             [
              0.2222222222222222,
              "#7201a8"
             ],
             [
              0.3333333333333333,
              "#9c179e"
             ],
             [
              0.4444444444444444,
              "#bd3786"
             ],
             [
              0.5555555555555556,
              "#d8576b"
             ],
             [
              0.6666666666666666,
              "#ed7953"
             ],
             [
              0.7777777777777778,
              "#fb9f3a"
             ],
             [
              0.8888888888888888,
              "#fdca26"
             ],
             [
              1,
              "#f0f921"
             ]
            ],
            "type": "histogram2d"
           }
          ],
          "histogram2dcontour": [
           {
            "colorbar": {
             "outlinewidth": 0,
             "ticks": ""
            },
            "colorscale": [
             [
              0,
              "#0d0887"
             ],
             [
              0.1111111111111111,
              "#46039f"
             ],
             [
              0.2222222222222222,
              "#7201a8"
             ],
             [
              0.3333333333333333,
              "#9c179e"
             ],
             [
              0.4444444444444444,
              "#bd3786"
             ],
             [
              0.5555555555555556,
              "#d8576b"
             ],
             [
              0.6666666666666666,
              "#ed7953"
             ],
             [
              0.7777777777777778,
              "#fb9f3a"
             ],
             [
              0.8888888888888888,
              "#fdca26"
             ],
             [
              1,
              "#f0f921"
             ]
            ],
            "type": "histogram2dcontour"
           }
          ],
          "mesh3d": [
           {
            "colorbar": {
             "outlinewidth": 0,
             "ticks": ""
            },
            "type": "mesh3d"
           }
          ],
          "parcoords": [
           {
            "line": {
             "colorbar": {
              "outlinewidth": 0,
              "ticks": ""
             }
            },
            "type": "parcoords"
           }
          ],
          "pie": [
           {
            "automargin": true,
            "type": "pie"
           }
          ],
          "scatter": [
           {
            "marker": {
             "colorbar": {
              "outlinewidth": 0,
              "ticks": ""
             }
            },
            "type": "scatter"
           }
          ],
          "scatter3d": [
           {
            "line": {
             "colorbar": {
              "outlinewidth": 0,
              "ticks": ""
             }
            },
            "marker": {
             "colorbar": {
              "outlinewidth": 0,
              "ticks": ""
             }
            },
            "type": "scatter3d"
           }
          ],
          "scattercarpet": [
           {
            "marker": {
             "colorbar": {
              "outlinewidth": 0,
              "ticks": ""
             }
            },
            "type": "scattercarpet"
           }
          ],
          "scattergeo": [
           {
            "marker": {
             "colorbar": {
              "outlinewidth": 0,
              "ticks": ""
             }
            },
            "type": "scattergeo"
           }
          ],
          "scattergl": [
           {
            "marker": {
             "colorbar": {
              "outlinewidth": 0,
              "ticks": ""
             }
            },
            "type": "scattergl"
           }
          ],
          "scattermapbox": [
           {
            "marker": {
             "colorbar": {
              "outlinewidth": 0,
              "ticks": ""
             }
            },
            "type": "scattermapbox"
           }
          ],
          "scatterpolar": [
           {
            "marker": {
             "colorbar": {
              "outlinewidth": 0,
              "ticks": ""
             }
            },
            "type": "scatterpolar"
           }
          ],
          "scatterpolargl": [
           {
            "marker": {
             "colorbar": {
              "outlinewidth": 0,
              "ticks": ""
             }
            },
            "type": "scatterpolargl"
           }
          ],
          "scatterternary": [
           {
            "marker": {
             "colorbar": {
              "outlinewidth": 0,
              "ticks": ""
             }
            },
            "type": "scatterternary"
           }
          ],
          "surface": [
           {
            "colorbar": {
             "outlinewidth": 0,
             "ticks": ""
            },
            "colorscale": [
             [
              0,
              "#0d0887"
             ],
             [
              0.1111111111111111,
              "#46039f"
             ],
             [
              0.2222222222222222,
              "#7201a8"
             ],
             [
              0.3333333333333333,
              "#9c179e"
             ],
             [
              0.4444444444444444,
              "#bd3786"
             ],
             [
              0.5555555555555556,
              "#d8576b"
             ],
             [
              0.6666666666666666,
              "#ed7953"
             ],
             [
              0.7777777777777778,
              "#fb9f3a"
             ],
             [
              0.8888888888888888,
              "#fdca26"
             ],
             [
              1,
              "#f0f921"
             ]
            ],
            "type": "surface"
           }
          ],
          "table": [
           {
            "cells": {
             "fill": {
              "color": "#EBF0F8"
             },
             "line": {
              "color": "white"
             }
            },
            "header": {
             "fill": {
              "color": "#C8D4E3"
             },
             "line": {
              "color": "white"
             }
            },
            "type": "table"
           }
          ]
         },
         "layout": {
          "annotationdefaults": {
           "arrowcolor": "#2a3f5f",
           "arrowhead": 0,
           "arrowwidth": 1
          },
          "autotypenumbers": "strict",
          "coloraxis": {
           "colorbar": {
            "outlinewidth": 0,
            "ticks": ""
           }
          },
          "colorscale": {
           "diverging": [
            [
             0,
             "#8e0152"
            ],
            [
             0.1,
             "#c51b7d"
            ],
            [
             0.2,
             "#de77ae"
            ],
            [
             0.3,
             "#f1b6da"
            ],
            [
             0.4,
             "#fde0ef"
            ],
            [
             0.5,
             "#f7f7f7"
            ],
            [
             0.6,
             "#e6f5d0"
            ],
            [
             0.7,
             "#b8e186"
            ],
            [
             0.8,
             "#7fbc41"
            ],
            [
             0.9,
             "#4d9221"
            ],
            [
             1,
             "#276419"
            ]
           ],
           "sequential": [
            [
             0,
             "#0d0887"
            ],
            [
             0.1111111111111111,
             "#46039f"
            ],
            [
             0.2222222222222222,
             "#7201a8"
            ],
            [
             0.3333333333333333,
             "#9c179e"
            ],
            [
             0.4444444444444444,
             "#bd3786"
            ],
            [
             0.5555555555555556,
             "#d8576b"
            ],
            [
             0.6666666666666666,
             "#ed7953"
            ],
            [
             0.7777777777777778,
             "#fb9f3a"
            ],
            [
             0.8888888888888888,
             "#fdca26"
            ],
            [
             1,
             "#f0f921"
            ]
           ],
           "sequentialminus": [
            [
             0,
             "#0d0887"
            ],
            [
             0.1111111111111111,
             "#46039f"
            ],
            [
             0.2222222222222222,
             "#7201a8"
            ],
            [
             0.3333333333333333,
             "#9c179e"
            ],
            [
             0.4444444444444444,
             "#bd3786"
            ],
            [
             0.5555555555555556,
             "#d8576b"
            ],
            [
             0.6666666666666666,
             "#ed7953"
            ],
            [
             0.7777777777777778,
             "#fb9f3a"
            ],
            [
             0.8888888888888888,
             "#fdca26"
            ],
            [
             1,
             "#f0f921"
            ]
           ]
          },
          "colorway": [
           "#636efa",
           "#EF553B",
           "#00cc96",
           "#ab63fa",
           "#FFA15A",
           "#19d3f3",
           "#FF6692",
           "#B6E880",
           "#FF97FF",
           "#FECB52"
          ],
          "font": {
           "color": "#2a3f5f"
          },
          "geo": {
           "bgcolor": "white",
           "lakecolor": "white",
           "landcolor": "#E5ECF6",
           "showlakes": true,
           "showland": true,
           "subunitcolor": "white"
          },
          "hoverlabel": {
           "align": "left"
          },
          "hovermode": "closest",
          "mapbox": {
           "style": "light"
          },
          "paper_bgcolor": "white",
          "plot_bgcolor": "#E5ECF6",
          "polar": {
           "angularaxis": {
            "gridcolor": "white",
            "linecolor": "white",
            "ticks": ""
           },
           "bgcolor": "#E5ECF6",
           "radialaxis": {
            "gridcolor": "white",
            "linecolor": "white",
            "ticks": ""
           }
          },
          "scene": {
           "xaxis": {
            "backgroundcolor": "#E5ECF6",
            "gridcolor": "white",
            "gridwidth": 2,
            "linecolor": "white",
            "showbackground": true,
            "ticks": "",
            "zerolinecolor": "white"
           },
           "yaxis": {
            "backgroundcolor": "#E5ECF6",
            "gridcolor": "white",
            "gridwidth": 2,
            "linecolor": "white",
            "showbackground": true,
            "ticks": "",
            "zerolinecolor": "white"
           },
           "zaxis": {
            "backgroundcolor": "#E5ECF6",
            "gridcolor": "white",
            "gridwidth": 2,
            "linecolor": "white",
            "showbackground": true,
            "ticks": "",
            "zerolinecolor": "white"
           }
          },
          "shapedefaults": {
           "line": {
            "color": "#2a3f5f"
           }
          },
          "ternary": {
           "aaxis": {
            "gridcolor": "white",
            "linecolor": "white",
            "ticks": ""
           },
           "baxis": {
            "gridcolor": "white",
            "linecolor": "white",
            "ticks": ""
           },
           "bgcolor": "#E5ECF6",
           "caxis": {
            "gridcolor": "white",
            "linecolor": "white",
            "ticks": ""
           }
          },
          "title": {
           "x": 0.05
          },
          "xaxis": {
           "automargin": true,
           "gridcolor": "white",
           "linecolor": "white",
           "ticks": "",
           "title": {
            "standoff": 15
           },
           "zerolinecolor": "white",
           "zerolinewidth": 2
          },
          "yaxis": {
           "automargin": true,
           "gridcolor": "white",
           "linecolor": "white",
           "ticks": "",
           "title": {
            "standoff": 15
           },
           "zerolinecolor": "white",
           "zerolinewidth": 2
          }
         }
        },
        "xaxis": {
         "anchor": "y",
         "domain": [
          0,
          1
         ],
         "title": {
          "text": "Country"
         }
        },
        "yaxis": {
         "anchor": "x",
         "domain": [
          0,
          1
         ],
         "title": {
          "text": "Salary Average"
         }
        }
       }
      }
     },
     "metadata": {},
     "output_type": "display_data"
    }
   ],
   "source": [
    "#Criar um novo dataframe com dados das médias salariais dos paises\n",
    "coluna = ['Country', 'Salary Average']\n",
    "linha = ['','','','','','','','','','','','']\n",
    "dados  = [['USA', av_usa], ['China', av_china], ['Germany', av_alemanha], ['United Kingdom', av_uk], ['India', av_india], ['France', av_france], ['Italy', av_italia], ['Canada', av_canada], ['Russia', av_russia], ['Brazil', av_br], ['Australia', av_australia], ['South Africa', av_africasul]] \n",
    "tabela = pd.DataFrame(data=dados, index = linha, columns = coluna)\n",
    "print(tabela)\n",
    "\n",
    "px.bar(tabela, x = 'Country', y='Salary Average')"
   ]
  }
 ],
 "metadata": {
  "interpreter": {
   "hash": "8ecffdc6c758d8d591c9db2dd61d4239b732fc0649a1249e1bcab96bc3159102"
  },
  "kernelspec": {
   "display_name": "Python 3.9.7 ('base')",
   "language": "python",
   "name": "python3"
  },
  "language_info": {
   "codemirror_mode": {
    "name": "ipython",
    "version": 3
   },
   "file_extension": ".py",
   "mimetype": "text/x-python",
   "name": "python",
   "nbconvert_exporter": "python",
   "pygments_lexer": "ipython3",
   "version": "3.9.7"
  },
  "orig_nbformat": 4
 },
 "nbformat": 4,
 "nbformat_minor": 2
}
