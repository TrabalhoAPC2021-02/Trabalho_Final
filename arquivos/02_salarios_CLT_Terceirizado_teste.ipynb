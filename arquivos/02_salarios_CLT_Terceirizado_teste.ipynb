{
  "cells": [
    {
      "cell_type": "markdown",
      "metadata": {
        "id": "view-in-github",
        "colab_type": "text"
      },
      "source": [
        "<a href=\"https://colab.research.google.com/github/TrabalhoAPC2021-02/Trabalho_Final/blob/main/arquivos/02_salarios_CLT_Terceirizado_teste.ipynb\" target=\"_parent\"><img src=\"https://colab.research.google.com/assets/colab-badge.svg\" alt=\"Open In Colab\"/></a>"
      ]
    },
    {
      "cell_type": "code",
      "execution_count": 1,
      "metadata": {
        "id": "bbVzIr3RI2PS"
      },
      "outputs": [],
      "source": [
        "import pandas as pd # importando a biblioteca pandas para leitura de dados\n",
        "import plotly.express as px # importando plotly para criação de gráficos\n"
      ]
    },
    {
      "cell_type": "code",
      "source": [
        "#import io\n",
        "#from google.colab import files\n",
        "#uploaded = files.upload()"
      ],
      "metadata": {
        "id": "tPs2BJ6vK1VI"
      },
      "execution_count": null,
      "outputs": []
    },
    {
      "cell_type": "code",
      "execution_count": 4,
      "metadata": {
        "id": "rl_r-YykI2PY",
        "outputId": "c95725a5-a8a1-4916-8551-6a2d06235471",
        "colab": {
          "base_uri": "https://localhost:8080/",
          "height": 348
        }
      },
      "outputs": [
        {
          "output_type": "stream",
          "name": "stderr",
          "text": [
            "/usr/local/lib/python3.7/dist-packages/IPython/core/interactiveshell.py:2882: FutureWarning: In a future version of pandas all arguments of read_csv except for the argument 'filepath_or_buffer' will be keyword-only\n",
            "  exec(code_obj, self.user_global_ns, self.user_ns)\n"
          ]
        },
        {
          "output_type": "error",
          "ename": "UnicodeDecodeError",
          "evalue": "ignored",
          "traceback": [
            "\u001b[0;31m---------------------------------------------------------------------------\u001b[0m",
            "\u001b[0;31mUnicodeDecodeError\u001b[0m                        Traceback (most recent call last)",
            "\u001b[0;32m<ipython-input-4-81e2622f25cd>\u001b[0m in \u001b[0;36m<module>\u001b[0;34m()\u001b[0m\n\u001b[1;32m      1\u001b[0m \u001b[0;31m# definindo um dataframe a partir do arquivo\u001b[0m\u001b[0;34m\u001b[0m\u001b[0;34m\u001b[0m\u001b[0;34m\u001b[0m\u001b[0m\n\u001b[1;32m      2\u001b[0m \u001b[0mend_github_csv\u001b[0m \u001b[0;34m=\u001b[0m \u001b[0;34m'https://raw.githubusercontent.com/TrabalhoAPC2021-02/Trabalho_Final/main/arquivos/02_salarios_CLT_Terceirizado.csv'\u001b[0m\u001b[0;34m\u001b[0m\u001b[0;34m\u001b[0m\u001b[0m\n\u001b[0;32m----> 3\u001b[0;31m \u001b[0mdf\u001b[0m \u001b[0;34m=\u001b[0m \u001b[0mpd\u001b[0m\u001b[0;34m.\u001b[0m\u001b[0mread_csv\u001b[0m\u001b[0;34m(\u001b[0m\u001b[0mend_github_csv\u001b[0m\u001b[0;34m,\u001b[0m \u001b[0;34m';'\u001b[0m\u001b[0;34m)\u001b[0m\u001b[0;34m\u001b[0m\u001b[0;34m\u001b[0m\u001b[0m\n\u001b[0m\u001b[1;32m      4\u001b[0m \u001b[0;34m\u001b[0m\u001b[0m\n\u001b[1;32m      5\u001b[0m \u001b[0;31m#df = pd.read_excel(io.BytesIO(uploaded['sala.xlsx']))\u001b[0m\u001b[0;34m\u001b[0m\u001b[0;34m\u001b[0m\u001b[0;34m\u001b[0m\u001b[0m\n",
            "\u001b[0;32m/usr/local/lib/python3.7/dist-packages/pandas/util/_decorators.py\u001b[0m in \u001b[0;36mwrapper\u001b[0;34m(*args, **kwargs)\u001b[0m\n\u001b[1;32m    309\u001b[0m                     \u001b[0mstacklevel\u001b[0m\u001b[0;34m=\u001b[0m\u001b[0mstacklevel\u001b[0m\u001b[0;34m,\u001b[0m\u001b[0;34m\u001b[0m\u001b[0;34m\u001b[0m\u001b[0m\n\u001b[1;32m    310\u001b[0m                 )\n\u001b[0;32m--> 311\u001b[0;31m             \u001b[0;32mreturn\u001b[0m \u001b[0mfunc\u001b[0m\u001b[0;34m(\u001b[0m\u001b[0;34m*\u001b[0m\u001b[0margs\u001b[0m\u001b[0;34m,\u001b[0m \u001b[0;34m**\u001b[0m\u001b[0mkwargs\u001b[0m\u001b[0;34m)\u001b[0m\u001b[0;34m\u001b[0m\u001b[0;34m\u001b[0m\u001b[0m\n\u001b[0m\u001b[1;32m    312\u001b[0m \u001b[0;34m\u001b[0m\u001b[0m\n\u001b[1;32m    313\u001b[0m         \u001b[0;32mreturn\u001b[0m \u001b[0mwrapper\u001b[0m\u001b[0;34m\u001b[0m\u001b[0;34m\u001b[0m\u001b[0m\n",
            "\u001b[0;32m/usr/local/lib/python3.7/dist-packages/pandas/io/parsers/readers.py\u001b[0m in \u001b[0;36mread_csv\u001b[0;34m(filepath_or_buffer, sep, delimiter, header, names, index_col, usecols, squeeze, prefix, mangle_dupe_cols, dtype, engine, converters, true_values, false_values, skipinitialspace, skiprows, skipfooter, nrows, na_values, keep_default_na, na_filter, verbose, skip_blank_lines, parse_dates, infer_datetime_format, keep_date_col, date_parser, dayfirst, cache_dates, iterator, chunksize, compression, thousands, decimal, lineterminator, quotechar, quoting, doublequote, escapechar, comment, encoding, encoding_errors, dialect, error_bad_lines, warn_bad_lines, on_bad_lines, delim_whitespace, low_memory, memory_map, float_precision, storage_options)\u001b[0m\n\u001b[1;32m    584\u001b[0m     \u001b[0mkwds\u001b[0m\u001b[0;34m.\u001b[0m\u001b[0mupdate\u001b[0m\u001b[0;34m(\u001b[0m\u001b[0mkwds_defaults\u001b[0m\u001b[0;34m)\u001b[0m\u001b[0;34m\u001b[0m\u001b[0;34m\u001b[0m\u001b[0m\n\u001b[1;32m    585\u001b[0m \u001b[0;34m\u001b[0m\u001b[0m\n\u001b[0;32m--> 586\u001b[0;31m     \u001b[0;32mreturn\u001b[0m \u001b[0m_read\u001b[0m\u001b[0;34m(\u001b[0m\u001b[0mfilepath_or_buffer\u001b[0m\u001b[0;34m,\u001b[0m \u001b[0mkwds\u001b[0m\u001b[0;34m)\u001b[0m\u001b[0;34m\u001b[0m\u001b[0;34m\u001b[0m\u001b[0m\n\u001b[0m\u001b[1;32m    587\u001b[0m \u001b[0;34m\u001b[0m\u001b[0m\n\u001b[1;32m    588\u001b[0m \u001b[0;34m\u001b[0m\u001b[0m\n",
            "\u001b[0;32m/usr/local/lib/python3.7/dist-packages/pandas/io/parsers/readers.py\u001b[0m in \u001b[0;36m_read\u001b[0;34m(filepath_or_buffer, kwds)\u001b[0m\n\u001b[1;32m    480\u001b[0m \u001b[0;34m\u001b[0m\u001b[0m\n\u001b[1;32m    481\u001b[0m     \u001b[0;31m# Create the parser.\u001b[0m\u001b[0;34m\u001b[0m\u001b[0;34m\u001b[0m\u001b[0;34m\u001b[0m\u001b[0m\n\u001b[0;32m--> 482\u001b[0;31m     \u001b[0mparser\u001b[0m \u001b[0;34m=\u001b[0m \u001b[0mTextFileReader\u001b[0m\u001b[0;34m(\u001b[0m\u001b[0mfilepath_or_buffer\u001b[0m\u001b[0;34m,\u001b[0m \u001b[0;34m**\u001b[0m\u001b[0mkwds\u001b[0m\u001b[0;34m)\u001b[0m\u001b[0;34m\u001b[0m\u001b[0;34m\u001b[0m\u001b[0m\n\u001b[0m\u001b[1;32m    483\u001b[0m \u001b[0;34m\u001b[0m\u001b[0m\n\u001b[1;32m    484\u001b[0m     \u001b[0;32mif\u001b[0m \u001b[0mchunksize\u001b[0m \u001b[0;32mor\u001b[0m \u001b[0miterator\u001b[0m\u001b[0;34m:\u001b[0m\u001b[0;34m\u001b[0m\u001b[0;34m\u001b[0m\u001b[0m\n",
            "\u001b[0;32m/usr/local/lib/python3.7/dist-packages/pandas/io/parsers/readers.py\u001b[0m in \u001b[0;36m__init__\u001b[0;34m(self, f, engine, **kwds)\u001b[0m\n\u001b[1;32m    809\u001b[0m             \u001b[0mself\u001b[0m\u001b[0;34m.\u001b[0m\u001b[0moptions\u001b[0m\u001b[0;34m[\u001b[0m\u001b[0;34m\"has_index_names\"\u001b[0m\u001b[0;34m]\u001b[0m \u001b[0;34m=\u001b[0m \u001b[0mkwds\u001b[0m\u001b[0;34m[\u001b[0m\u001b[0;34m\"has_index_names\"\u001b[0m\u001b[0;34m]\u001b[0m\u001b[0;34m\u001b[0m\u001b[0;34m\u001b[0m\u001b[0m\n\u001b[1;32m    810\u001b[0m \u001b[0;34m\u001b[0m\u001b[0m\n\u001b[0;32m--> 811\u001b[0;31m         \u001b[0mself\u001b[0m\u001b[0;34m.\u001b[0m\u001b[0m_engine\u001b[0m \u001b[0;34m=\u001b[0m \u001b[0mself\u001b[0m\u001b[0;34m.\u001b[0m\u001b[0m_make_engine\u001b[0m\u001b[0;34m(\u001b[0m\u001b[0mself\u001b[0m\u001b[0;34m.\u001b[0m\u001b[0mengine\u001b[0m\u001b[0;34m)\u001b[0m\u001b[0;34m\u001b[0m\u001b[0;34m\u001b[0m\u001b[0m\n\u001b[0m\u001b[1;32m    812\u001b[0m \u001b[0;34m\u001b[0m\u001b[0m\n\u001b[1;32m    813\u001b[0m     \u001b[0;32mdef\u001b[0m \u001b[0mclose\u001b[0m\u001b[0;34m(\u001b[0m\u001b[0mself\u001b[0m\u001b[0;34m)\u001b[0m\u001b[0;34m:\u001b[0m\u001b[0;34m\u001b[0m\u001b[0;34m\u001b[0m\u001b[0m\n",
            "\u001b[0;32m/usr/local/lib/python3.7/dist-packages/pandas/io/parsers/readers.py\u001b[0m in \u001b[0;36m_make_engine\u001b[0;34m(self, engine)\u001b[0m\n\u001b[1;32m   1038\u001b[0m             )\n\u001b[1;32m   1039\u001b[0m         \u001b[0;31m# error: Too many arguments for \"ParserBase\"\u001b[0m\u001b[0;34m\u001b[0m\u001b[0;34m\u001b[0m\u001b[0;34m\u001b[0m\u001b[0m\n\u001b[0;32m-> 1040\u001b[0;31m         \u001b[0;32mreturn\u001b[0m \u001b[0mmapping\u001b[0m\u001b[0;34m[\u001b[0m\u001b[0mengine\u001b[0m\u001b[0;34m]\u001b[0m\u001b[0;34m(\u001b[0m\u001b[0mself\u001b[0m\u001b[0;34m.\u001b[0m\u001b[0mf\u001b[0m\u001b[0;34m,\u001b[0m \u001b[0;34m**\u001b[0m\u001b[0mself\u001b[0m\u001b[0;34m.\u001b[0m\u001b[0moptions\u001b[0m\u001b[0;34m)\u001b[0m  \u001b[0;31m# type: ignore[call-arg]\u001b[0m\u001b[0;34m\u001b[0m\u001b[0;34m\u001b[0m\u001b[0m\n\u001b[0m\u001b[1;32m   1041\u001b[0m \u001b[0;34m\u001b[0m\u001b[0m\n\u001b[1;32m   1042\u001b[0m     \u001b[0;32mdef\u001b[0m \u001b[0m_failover_to_python\u001b[0m\u001b[0;34m(\u001b[0m\u001b[0mself\u001b[0m\u001b[0;34m)\u001b[0m\u001b[0;34m:\u001b[0m\u001b[0;34m\u001b[0m\u001b[0;34m\u001b[0m\u001b[0m\n",
            "\u001b[0;32m/usr/local/lib/python3.7/dist-packages/pandas/io/parsers/c_parser_wrapper.py\u001b[0m in \u001b[0;36m__init__\u001b[0;34m(self, src, **kwds)\u001b[0m\n\u001b[1;32m     67\u001b[0m         \u001b[0mkwds\u001b[0m\u001b[0;34m[\u001b[0m\u001b[0;34m\"dtype\"\u001b[0m\u001b[0;34m]\u001b[0m \u001b[0;34m=\u001b[0m \u001b[0mensure_dtype_objs\u001b[0m\u001b[0;34m(\u001b[0m\u001b[0mkwds\u001b[0m\u001b[0;34m.\u001b[0m\u001b[0mget\u001b[0m\u001b[0;34m(\u001b[0m\u001b[0;34m\"dtype\"\u001b[0m\u001b[0;34m,\u001b[0m \u001b[0;32mNone\u001b[0m\u001b[0;34m)\u001b[0m\u001b[0;34m)\u001b[0m\u001b[0;34m\u001b[0m\u001b[0;34m\u001b[0m\u001b[0m\n\u001b[1;32m     68\u001b[0m         \u001b[0;32mtry\u001b[0m\u001b[0;34m:\u001b[0m\u001b[0;34m\u001b[0m\u001b[0;34m\u001b[0m\u001b[0m\n\u001b[0;32m---> 69\u001b[0;31m             \u001b[0mself\u001b[0m\u001b[0;34m.\u001b[0m\u001b[0m_reader\u001b[0m \u001b[0;34m=\u001b[0m \u001b[0mparsers\u001b[0m\u001b[0;34m.\u001b[0m\u001b[0mTextReader\u001b[0m\u001b[0;34m(\u001b[0m\u001b[0mself\u001b[0m\u001b[0;34m.\u001b[0m\u001b[0mhandles\u001b[0m\u001b[0;34m.\u001b[0m\u001b[0mhandle\u001b[0m\u001b[0;34m,\u001b[0m \u001b[0;34m**\u001b[0m\u001b[0mkwds\u001b[0m\u001b[0;34m)\u001b[0m\u001b[0;34m\u001b[0m\u001b[0;34m\u001b[0m\u001b[0m\n\u001b[0m\u001b[1;32m     70\u001b[0m         \u001b[0;32mexcept\u001b[0m \u001b[0mException\u001b[0m\u001b[0;34m:\u001b[0m\u001b[0;34m\u001b[0m\u001b[0;34m\u001b[0m\u001b[0m\n\u001b[1;32m     71\u001b[0m             \u001b[0mself\u001b[0m\u001b[0;34m.\u001b[0m\u001b[0mhandles\u001b[0m\u001b[0;34m.\u001b[0m\u001b[0mclose\u001b[0m\u001b[0;34m(\u001b[0m\u001b[0;34m)\u001b[0m\u001b[0;34m\u001b[0m\u001b[0;34m\u001b[0m\u001b[0m\n",
            "\u001b[0;32m/usr/local/lib/python3.7/dist-packages/pandas/_libs/parsers.pyx\u001b[0m in \u001b[0;36mpandas._libs.parsers.TextReader.__cinit__\u001b[0;34m()\u001b[0m\n",
            "\u001b[0;32m/usr/local/lib/python3.7/dist-packages/pandas/_libs/parsers.pyx\u001b[0m in \u001b[0;36mpandas._libs.parsers.TextReader._get_header\u001b[0;34m()\u001b[0m\n",
            "\u001b[0;32m/usr/local/lib/python3.7/dist-packages/pandas/_libs/parsers.pyx\u001b[0m in \u001b[0;36mpandas._libs.parsers.TextReader._tokenize_rows\u001b[0;34m()\u001b[0m\n",
            "\u001b[0;32m/usr/local/lib/python3.7/dist-packages/pandas/_libs/parsers.pyx\u001b[0m in \u001b[0;36mpandas._libs.parsers.raise_parser_error\u001b[0;34m()\u001b[0m\n",
            "\u001b[0;31mUnicodeDecodeError\u001b[0m: 'utf-8' codec can't decode byte 0xa0 in position 2453: invalid start byte"
          ]
        }
      ],
      "source": [
        "# definindo um dataframe a partir do arquivo \n",
        "end_github_csv = 'https://raw.githubusercontent.com/TrabalhoAPC2021-02/Trabalho_Final/main/arquivos/02_salarios_CLT_Terceirizado.csv'\n",
        "df = pd.read_csv(end_github_csv, ';')\n",
        "\n",
        "#df = pd.read_excel(io.BytesIO(uploaded['sala.xlsx'])) \n",
        "df"
      ]
    },
    {
      "cell_type": "code",
      "execution_count": null,
      "metadata": {
        "id": "1RQgn0czI2Pb"
      },
      "outputs": [],
      "source": [
        "# vendo valores repetidos\n",
        "\n",
        "df['Cargo'].value_counts()"
      ]
    },
    {
      "cell_type": "code",
      "source": [
        "df['Especialidade'].value_counts()"
      ],
      "metadata": {
        "id": "P-wRVMaABC0g",
        "outputId": "d660ed16-7ec9-4706-830a-c87609006ba8",
        "colab": {
          "base_uri": "https://localhost:8080/"
        }
      },
      "execution_count": null,
      "outputs": [
        {
          "output_type": "execute_result",
          "data": {
            "text/plain": [
              "                 47\n",
              "Mainframe         6\n",
              "Unix              3\n",
              "C#                3\n",
              "Java              3\n",
              "PHP               3\n",
              "Python            2\n",
              "Oracle PL/SQL     2\n",
              "Delphi            2\n",
              "ABAP              2\n",
              "Java Script       1\n",
              " Cobol            1\n",
              "Visual Basic      1\n",
              "Client/Sever      1\n",
              "Linux             1\n",
              "C++               1\n",
              "ASP               1\n",
              "Windows           1\n",
              "Redes             1\n",
              "ERP               1\n",
              "Visual Studio     1\n",
              "Name: Especialidade, dtype: int64"
            ]
          },
          "metadata": {},
          "execution_count": 39
        }
      ]
    },
    {
      "cell_type": "code",
      "execution_count": null,
      "metadata": {
        "id": "dbclQ_-oI2Pc"
      },
      "outputs": [],
      "source": [
        "# criando um data frame para os cargos mais repetidos\n",
        "\n",
        "programador = df[df['Cargo'] == 'Programador']\n",
        "anpro = df[df['Cargo'] == 'Analista Programador']\n",
        "ansup = df[df['Cargo'] == 'Analista de Suporte']\n",
        "ansis = df[df['Cargo'] == 'Analista de sistemas']"
      ]
    },
    {
      "cell_type": "code",
      "execution_count": null,
      "metadata": {
        "id": "KK_6zOYBI2Pe"
      },
      "outputs": [],
      "source": [
        "programador"
      ]
    },
    {
      "cell_type": "code",
      "execution_count": null,
      "metadata": {
        "id": "0yul_DN7I2Pf"
      },
      "outputs": [],
      "source": [
        "anpro"
      ]
    },
    {
      "cell_type": "code",
      "execution_count": null,
      "metadata": {
        "id": "2rh_n0JfI2Pg"
      },
      "outputs": [],
      "source": [
        "ansup"
      ]
    },
    {
      "cell_type": "code",
      "execution_count": null,
      "metadata": {
        "id": "EfYn_PmvI2Pi"
      },
      "outputs": [],
      "source": [
        "ansis"
      ]
    },
    {
      "cell_type": "code",
      "execution_count": null,
      "metadata": {
        "id": "N6Y4POFRI2Pj"
      },
      "outputs": [],
      "source": [
        "# usando if para selecionar qual coluna será feita a média\n",
        "\n",
        "tipo_sal = input('Digite qual média de salário quer visualizar(CLT/Terceiro):')\n",
        "\n",
        "# usando a estrutura de repetição while para caso digitar um valor inválido, repetir até digitar o certo\n",
        "\n",
        "while tipo_sal != 'Terceiro' and tipo_sal != 'CLT':\n",
        "    print('Digite um valor válido')\n",
        "    tipo_sal = input('Digite qual média de salário quer visualizar(CLT/Terceiro):')\n",
        "  \n",
        "if tipo_sal == 'Terceiro':\n",
        "# transformando a coluna 'Terceiro' para uma variável de tipo lista em cada data frame\n",
        "    t_programador = programador['Terceiro'].tolist()\n",
        "    t_anpro = anpro['Terceiro'].tolist()\n",
        "    t_ansup =ansup['Terceiro'].tolist()\n",
        "    t_ansis = ansis['Terceiro'].tolist()\n",
        "\n",
        "# usando o for para criar uma média para cada cargo\n",
        "    soma_t_pro = 0\n",
        "    for i in range (len(t_programador)):\n",
        "        soma_t_pro = soma_t_pro + t_programador[i]\n",
        "    media_pro = soma_t_pro/len(t_programador)\n",
        "    print(soma_t_pro, media_pro)\n",
        "\n",
        "    soma_t_anpro = 0\n",
        "    for i in range (len(t_anpro)):\n",
        "        soma_t_anpro = soma_t_anpro + t_anpro[i]\n",
        "    media_anpro = soma_t_anpro/len(t_anpro)\n",
        "    print(soma_t_anpro, media_anpro)\n",
        "\n",
        "    soma_t_ansup = 0\n",
        "    for i in range (len(t_ansup)):\n",
        "        soma_t_ansup = soma_t_ansup + t_ansup[i]\n",
        "    media_ansup = soma_t_ansup/len(t_ansup)\n",
        "    print(soma_t_ansup, media_ansup)\n",
        "\n",
        "    soma_t_ansis = 0\n",
        "    for i in range (len(t_ansis)):\n",
        "        soma_t_ansis = soma_t_ansis + t_ansis[i]\n",
        "    media_ansis = soma_t_ansis/len(t_ansis)\n",
        "    print(soma_t_ansis, media_ansis)\n",
        "\n",
        "# criando um novo dataframe\n",
        "\n",
        "    column = ['Cargo', 'Terceiro']\n",
        "    line = ['', '','','']\n",
        "    dados = [['Analista de Suporte', media_ansup], ['Programador', media_pro], ['Analista programador', media_anpro]\n",
        "    , ['Analista de sistemas', media_ansis]]\n",
        "    tb = pd.DataFrame(data=dados, index=line, columns=column) \n",
        "    print(tb)\n",
        "\n",
        "# para o CLT\n",
        "\n",
        "elif tipo_sal == 'CLT':\n",
        "\n",
        "    clt_programador = programador['CLT'].tolist()\n",
        "    clt_anpro = anpro['CLT'].tolist()\n",
        "    clt_ansup =ansup['CLT'].tolist()\n",
        "    clt_ansis = ansis['CLT'].tolist()\n",
        "\n",
        "    soma_clt_pro = 0\n",
        "    for i in range (len(clt_programador)):\n",
        "        soma_clt_pro = soma_clt_pro + clt_programador[i]\n",
        "    media_clt_pro = soma_clt_pro/len(clt_programador)\n",
        "    print(soma_clt_pro, media_clt_pro)\n",
        "\n",
        "    soma_clt_anpro = 0\n",
        "    for i in range (len(clt_anpro)):\n",
        "        soma_clt_anpro = soma_clt_anpro + clt_anpro[i]\n",
        "    media_clt_anpro = soma_clt_anpro/len(clt_anpro)\n",
        "    print(soma_clt_anpro, media_clt_anpro)\n",
        "\n",
        "    soma_clt_ansup = 0\n",
        "    for i in range (len(clt_ansup)):\n",
        "        soma_clt_ansup = soma_clt_ansup + clt_ansup[i]\n",
        "    media_clt_ansup = soma_clt_ansup/len(clt_ansup)\n",
        "    print(soma_clt_ansup, media_clt_ansup)\n",
        "\n",
        "    soma_clt_ansis = 0\n",
        "    for i in range (len(clt_ansis)):\n",
        "        soma_clt_ansis = soma_clt_ansis + clt_ansis[i]\n",
        "    media_clt_ansis = soma_clt_ansis/len(clt_ansis)\n",
        "    print(soma_clt_ansis, media_clt_ansis)\n",
        "\n",
        "    column = ['Cargo', 'Terceiro']\n",
        "    line = ['', '','','']\n",
        "    dados = [['Analista de Suporte', media_clt_ansup], ['Programador', media_clt_pro], \n",
        "    ['Analista programador', media_clt_anpro]\n",
        "    ,['Analista de sistemas', media_clt_ansis]]\n",
        "    tb = pd.DataFrame(data=dados, index=line, columns=column) \n",
        "    print(tb)\n",
        "    \n"
      ]
    },
    {
      "cell_type": "code",
      "execution_count": null,
      "metadata": {
        "id": "WmplXKfMI2Pn"
      },
      "outputs": [],
      "source": [
        "# usando um input para definir o tipo  de gráfico\n",
        "\n",
        "tipo_g = input('Qual tipo de gráfico você quer ver?(Tunel/Barra):')\n"
      ]
    },
    {
      "cell_type": "code",
      "execution_count": null,
      "metadata": {
        "id": "0tKb-mEQI2Po"
      },
      "outputs": [],
      "source": [
        "# criando um gráfico de barra \n",
        "if tipo_g == 'Barra':  \n",
        "    barra = px.bar(tb, x = 'Cargo', y = 'Terceiro', color='Terceiro',template='plotly_dark', width=600)\n",
        "    display(barra)\n",
        "# criando um gráfico de túnel\n",
        "elif tipo_g == 'Tunel':\n",
        "    pizza = px.funnel(tb, x='Terceiro', y='Cargo', color_discrete_sequence=px.colors.sequential.Viridis, title='Pizza/Terceiro')\n",
        "    pizza.show()"
      ]
    }
  ],
  "metadata": {
    "interpreter": {
      "hash": "f9f85f796d01129d0dd105a088854619f454435301f6ffec2fea96ecbd9be4ac"
    },
    "kernelspec": {
      "display_name": "Python 3.9.12 64-bit",
      "language": "python",
      "name": "python3"
    },
    "language_info": {
      "codemirror_mode": {
        "name": "ipython",
        "version": 3
      },
      "file_extension": ".py",
      "mimetype": "text/x-python",
      "name": "python",
      "nbconvert_exporter": "python",
      "pygments_lexer": "ipython3",
      "version": "3.10.2"
    },
    "orig_nbformat": 4,
    "colab": {
      "name": "oi.ipynb",
      "provenance": [],
      "include_colab_link": true
    }
  },
  "nbformat": 4,
  "nbformat_minor": 0
}