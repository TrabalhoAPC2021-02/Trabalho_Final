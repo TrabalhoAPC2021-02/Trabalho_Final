{
  "cells": [
    {
      "cell_type": "markdown",
      "metadata": {
        "id": "view-in-github",
        "colab_type": "text"
      },
      "source": [
        "<a href=\"https://colab.research.google.com/github/TrabalhoAPC2021-02/Trabalho_Final/blob/main/arquivos/01_salarios_g12.ipynb\" target=\"_parent\"><img src=\"https://colab.research.google.com/assets/colab-badge.svg\" alt=\"Open In Colab\"/></a>"
      ]
    },
    {
      "cell_type": "code",
      "execution_count": 27,
      "metadata": {
        "id": "0ceGcJitsVLR"
      },
      "outputs": [],
      "source": [
        "#importando as bibliotecas\n",
        "\n",
        "import pandas as pd    # biblioteca utilizada para arquivos em dataframe\n",
        "import plotly.express as px # biclioteca responsável por plotar os gráficos"
      ]
    },
    {
      "cell_type": "code",
      "execution_count": 28,
      "metadata": {
        "id": "C-m8BzHisVLV"
      },
      "outputs": [],
      "source": [
        "s_av =[]   # vetor que receberá as médias salariais \n",
        "country = [] # vetor para receber o nome do país"
      ]
    },
    {
      "cell_type": "code",
      "execution_count": 36,
      "metadata": {
        "id": "lbhDh8_LsVLX",
        "outputId": "324a4c82-650f-46c8-9ea8-f52a4a4fd899",
        "colab": {
          "base_uri": "https://localhost:8080/",
          "height": 261
        }
      },
      "outputs": [
        {
          "output_type": "stream",
          "name": "stderr",
          "text": [
            "/usr/local/lib/python3.7/dist-packages/IPython/core/interactiveshell.py:2882: FutureWarning: In a future version of pandas all arguments of read_csv except for the argument 'filepath_or_buffer' will be keyword-only\n",
            "  exec(code_obj, self.user_global_ns, self.user_ns)\n"
          ]
        },
        {
          "output_type": "execute_result",
          "data": {
            "text/plain": [
              "   Survey Year           Timestamp  SalaryUSD         Country  \\\n",
              "0         2021  12/10/2020 8:23:22  145000,00   United States   \n",
              "1         2021  12/10/2020 8:23:38  105000,00   United States   \n",
              "2         2021  12/10/2020 8:23:48   46482,00  United Kingdom   \n",
              "3         2021  12/10/2020 8:24:04   98800,00   United States   \n",
              "4         2021  12/10/2020 8:24:45  100800,00   United States   \n",
              "\n",
              "        PrimaryDatabase    EmploymentStatus Gender  \n",
              "0  Microsoft SQL Server  Full time employee   Male  \n",
              "1  Microsoft SQL Server  Full time employee   Male  \n",
              "2  Microsoft SQL Server  Full time employee   Male  \n",
              "3  Microsoft SQL Server  Full time employee   Male  \n",
              "4  Microsoft SQL Server  Full time employee   Male  "
            ],
            "text/html": [
              "\n",
              "  <div id=\"df-bc2738df-da30-4967-ad9e-79cfc2d4962f\">\n",
              "    <div class=\"colab-df-container\">\n",
              "      <div>\n",
              "<style scoped>\n",
              "    .dataframe tbody tr th:only-of-type {\n",
              "        vertical-align: middle;\n",
              "    }\n",
              "\n",
              "    .dataframe tbody tr th {\n",
              "        vertical-align: top;\n",
              "    }\n",
              "\n",
              "    .dataframe thead th {\n",
              "        text-align: right;\n",
              "    }\n",
              "</style>\n",
              "<table border=\"1\" class=\"dataframe\">\n",
              "  <thead>\n",
              "    <tr style=\"text-align: right;\">\n",
              "      <th></th>\n",
              "      <th>Survey Year</th>\n",
              "      <th>Timestamp</th>\n",
              "      <th>SalaryUSD</th>\n",
              "      <th>Country</th>\n",
              "      <th>PrimaryDatabase</th>\n",
              "      <th>EmploymentStatus</th>\n",
              "      <th>Gender</th>\n",
              "    </tr>\n",
              "  </thead>\n",
              "  <tbody>\n",
              "    <tr>\n",
              "      <th>0</th>\n",
              "      <td>2021</td>\n",
              "      <td>12/10/2020 8:23:22</td>\n",
              "      <td>145000,00</td>\n",
              "      <td>United States</td>\n",
              "      <td>Microsoft SQL Server</td>\n",
              "      <td>Full time employee</td>\n",
              "      <td>Male</td>\n",
              "    </tr>\n",
              "    <tr>\n",
              "      <th>1</th>\n",
              "      <td>2021</td>\n",
              "      <td>12/10/2020 8:23:38</td>\n",
              "      <td>105000,00</td>\n",
              "      <td>United States</td>\n",
              "      <td>Microsoft SQL Server</td>\n",
              "      <td>Full time employee</td>\n",
              "      <td>Male</td>\n",
              "    </tr>\n",
              "    <tr>\n",
              "      <th>2</th>\n",
              "      <td>2021</td>\n",
              "      <td>12/10/2020 8:23:48</td>\n",
              "      <td>46482,00</td>\n",
              "      <td>United Kingdom</td>\n",
              "      <td>Microsoft SQL Server</td>\n",
              "      <td>Full time employee</td>\n",
              "      <td>Male</td>\n",
              "    </tr>\n",
              "    <tr>\n",
              "      <th>3</th>\n",
              "      <td>2021</td>\n",
              "      <td>12/10/2020 8:24:04</td>\n",
              "      <td>98800,00</td>\n",
              "      <td>United States</td>\n",
              "      <td>Microsoft SQL Server</td>\n",
              "      <td>Full time employee</td>\n",
              "      <td>Male</td>\n",
              "    </tr>\n",
              "    <tr>\n",
              "      <th>4</th>\n",
              "      <td>2021</td>\n",
              "      <td>12/10/2020 8:24:45</td>\n",
              "      <td>100800,00</td>\n",
              "      <td>United States</td>\n",
              "      <td>Microsoft SQL Server</td>\n",
              "      <td>Full time employee</td>\n",
              "      <td>Male</td>\n",
              "    </tr>\n",
              "  </tbody>\n",
              "</table>\n",
              "</div>\n",
              "      <button class=\"colab-df-convert\" onclick=\"convertToInteractive('df-bc2738df-da30-4967-ad9e-79cfc2d4962f')\"\n",
              "              title=\"Convert this dataframe to an interactive table.\"\n",
              "              style=\"display:none;\">\n",
              "        \n",
              "  <svg xmlns=\"http://www.w3.org/2000/svg\" height=\"24px\"viewBox=\"0 0 24 24\"\n",
              "       width=\"24px\">\n",
              "    <path d=\"M0 0h24v24H0V0z\" fill=\"none\"/>\n",
              "    <path d=\"M18.56 5.44l.94 2.06.94-2.06 2.06-.94-2.06-.94-.94-2.06-.94 2.06-2.06.94zm-11 1L8.5 8.5l.94-2.06 2.06-.94-2.06-.94L8.5 2.5l-.94 2.06-2.06.94zm10 10l.94 2.06.94-2.06 2.06-.94-2.06-.94-.94-2.06-.94 2.06-2.06.94z\"/><path d=\"M17.41 7.96l-1.37-1.37c-.4-.4-.92-.59-1.43-.59-.52 0-1.04.2-1.43.59L10.3 9.45l-7.72 7.72c-.78.78-.78 2.05 0 2.83L4 21.41c.39.39.9.59 1.41.59.51 0 1.02-.2 1.41-.59l7.78-7.78 2.81-2.81c.8-.78.8-2.07 0-2.86zM5.41 20L4 18.59l7.72-7.72 1.47 1.35L5.41 20z\"/>\n",
              "  </svg>\n",
              "      </button>\n",
              "      \n",
              "  <style>\n",
              "    .colab-df-container {\n",
              "      display:flex;\n",
              "      flex-wrap:wrap;\n",
              "      gap: 12px;\n",
              "    }\n",
              "\n",
              "    .colab-df-convert {\n",
              "      background-color: #E8F0FE;\n",
              "      border: none;\n",
              "      border-radius: 50%;\n",
              "      cursor: pointer;\n",
              "      display: none;\n",
              "      fill: #1967D2;\n",
              "      height: 32px;\n",
              "      padding: 0 0 0 0;\n",
              "      width: 32px;\n",
              "    }\n",
              "\n",
              "    .colab-df-convert:hover {\n",
              "      background-color: #E2EBFA;\n",
              "      box-shadow: 0px 1px 2px rgba(60, 64, 67, 0.3), 0px 1px 3px 1px rgba(60, 64, 67, 0.15);\n",
              "      fill: #174EA6;\n",
              "    }\n",
              "\n",
              "    [theme=dark] .colab-df-convert {\n",
              "      background-color: #3B4455;\n",
              "      fill: #D2E3FC;\n",
              "    }\n",
              "\n",
              "    [theme=dark] .colab-df-convert:hover {\n",
              "      background-color: #434B5C;\n",
              "      box-shadow: 0px 1px 3px 1px rgba(0, 0, 0, 0.15);\n",
              "      filter: drop-shadow(0px 1px 2px rgba(0, 0, 0, 0.3));\n",
              "      fill: #FFFFFF;\n",
              "    }\n",
              "  </style>\n",
              "\n",
              "      <script>\n",
              "        const buttonEl =\n",
              "          document.querySelector('#df-bc2738df-da30-4967-ad9e-79cfc2d4962f button.colab-df-convert');\n",
              "        buttonEl.style.display =\n",
              "          google.colab.kernel.accessAllowed ? 'block' : 'none';\n",
              "\n",
              "        async function convertToInteractive(key) {\n",
              "          const element = document.querySelector('#df-bc2738df-da30-4967-ad9e-79cfc2d4962f');\n",
              "          const dataTable =\n",
              "            await google.colab.kernel.invokeFunction('convertToInteractive',\n",
              "                                                     [key], {});\n",
              "          if (!dataTable) return;\n",
              "\n",
              "          const docLinkHtml = 'Like what you see? Visit the ' +\n",
              "            '<a target=\"_blank\" href=https://colab.research.google.com/notebooks/data_table.ipynb>data table notebook</a>'\n",
              "            + ' to learn more about interactive tables.';\n",
              "          element.innerHTML = '';\n",
              "          dataTable['output_type'] = 'display_data';\n",
              "          await google.colab.output.renderOutput(dataTable, element);\n",
              "          const docLink = document.createElement('div');\n",
              "          docLink.innerHTML = docLinkHtml;\n",
              "          element.appendChild(docLink);\n",
              "        }\n",
              "      </script>\n",
              "    </div>\n",
              "  </div>\n",
              "  "
            ]
          },
          "metadata": {},
          "execution_count": 36
        }
      ],
      "source": [
        "#Criando dataframe através da leitura da planilha em excel\n",
        "end_github_csv = 'https://raw.githubusercontent.com/TrabalhoAPC2021-02/Trabalho_Final/main/arquivos/01_Data_Professional_partial.csv'\n",
        "df = pd.read_csv(end_github_csv, ';')\n",
        "#df = pd.read_excel('Data_Professional_full.xlsx')\n",
        "df.head()"
      ]
    },
    {
      "cell_type": "code",
      "execution_count": 33,
      "metadata": {
        "id": "eJNYeDmtsVLZ",
        "outputId": "356e9907-ad49-44b0-9404-57175f616c90",
        "colab": {
          "base_uri": "https://localhost:8080/",
          "height": 235
        }
      },
      "outputs": [
        {
          "output_type": "error",
          "ename": "TypeError",
          "evalue": "ignored",
          "traceback": [
            "\u001b[0;31m---------------------------------------------------------------------------\u001b[0m",
            "\u001b[0;31mTypeError\u001b[0m                                 Traceback (most recent call last)",
            "\u001b[0;32m<ipython-input-33-86c8763e9ff2>\u001b[0m in \u001b[0;36m<module>\u001b[0;34m()\u001b[0m\n\u001b[1;32m      2\u001b[0m \u001b[0;34m\u001b[0m\u001b[0m\n\u001b[1;32m      3\u001b[0m \u001b[0mdf_usa\u001b[0m \u001b[0;34m=\u001b[0m \u001b[0mdf\u001b[0m\u001b[0;34m[\u001b[0m\u001b[0mdf\u001b[0m\u001b[0;34m[\u001b[0m\u001b[0;34m'Country'\u001b[0m\u001b[0;34m]\u001b[0m \u001b[0;34m==\u001b[0m \u001b[0;34m'United States'\u001b[0m\u001b[0;34m]\u001b[0m\u001b[0;34m\u001b[0m\u001b[0;34m\u001b[0m\u001b[0m\n\u001b[0;32m----> 4\u001b[0;31m \u001b[0msalary_usa\u001b[0m \u001b[0;34m=\u001b[0m \u001b[0mint\u001b[0m\u001b[0;34m(\u001b[0m\u001b[0mdf_usa\u001b[0m\u001b[0;34m[\u001b[0m\u001b[0;34m'SalaryUSD'\u001b[0m\u001b[0;34m]\u001b[0m\u001b[0;34m.\u001b[0m\u001b[0mtolist\u001b[0m\u001b[0;34m(\u001b[0m\u001b[0;34m)\u001b[0m\u001b[0;34m)\u001b[0m \u001b[0;31m# tranformando o dataframe dos usa  com salarios de 2017 a 2021 em lista.\u001b[0m\u001b[0;34m\u001b[0m\u001b[0;34m\u001b[0m\u001b[0m\n\u001b[0m\u001b[1;32m      5\u001b[0m \u001b[0;34m\u001b[0m\u001b[0m\n\u001b[1;32m      6\u001b[0m \u001b[0;31m#utilização de um laço for para calcular média dos salários dos USA\u001b[0m\u001b[0;34m\u001b[0m\u001b[0;34m\u001b[0m\u001b[0;34m\u001b[0m\u001b[0m\n",
            "\u001b[0;31mTypeError\u001b[0m: int() argument must be a string, a bytes-like object or a number, not 'list'"
          ]
        }
      ],
      "source": [
        "#Selecionando os dados dos USA com slários de 2017 a 2021\n",
        "\n",
        "df_usa = df[df['Country'] == 'United States'] \n",
        "salary_usa = df_usa['SalaryUSD'].tolist() # tranformando o dataframe dos usa  com salarios de 2017 a 2021 em lista.\n",
        "\n",
        "#utilização de um laço for para calcular média dos salários dos USA \n",
        "\n",
        "soma_sal_usa = 0\n",
        "\n",
        "for i in range (len(salary_usa)):\n",
        "    soma_sal_usa = soma_sal_usa + salary_usa[i]\n",
        "av_usa = soma_sal_usa/len(salary_usa)\n",
        "\n",
        "s_av.append(av_usa)    # recebendo a media salarial\n",
        "country.append('USA')  # recebendo o código do país"
      ]
    },
    {
      "cell_type": "code",
      "execution_count": null,
      "metadata": {
        "id": "wTcnbQZTsVLb"
      },
      "outputs": [],
      "source": [
        "#Selecionando os dados dq China com slários de 2017 a 2021\n",
        "\n",
        "df_china = df[df['Country'] == 'China'] \n",
        "salary_china = df_china['SalaryUSD'].tolist() # tranformando o dataframe da china com salarios de 2017 a 2021 em lista.\n",
        "\n",
        "#utilização de um laço for para calcular média dos salários da china \n",
        "\n",
        "soma_sal_china = 0\n",
        "\n",
        "for i in range (len(salary_china)):\n",
        "    soma_sal_china = soma_sal_china + salary_china[i]\n",
        "av_china = soma_sal_china/len(salary_china)\n",
        "s_av.append(av_china)\n",
        "country.append('CHN')"
      ]
    },
    {
      "cell_type": "code",
      "execution_count": null,
      "metadata": {
        "id": "RQbQcipJsVLc"
      },
      "outputs": [],
      "source": [
        "#Selecionando os dados da Alemanha com slários de 2017 a 2021\n",
        "\n",
        "df_alemanha = df[df['Country'] == 'Germany'] \n",
        "salary_alemanha = df_alemanha['SalaryUSD'].tolist() # tranformando o dataframe da Alemanha com salarios de 2017 a 2021 em lista.\n",
        "\n",
        "#utilização de um laço for para calcular média dos salários da Alemanha\n",
        "\n",
        "soma_sal_alemanha = 0\n",
        "\n",
        "for i in range (len(salary_alemanha)):\n",
        "    soma_sal_alemanha = soma_sal_alemanha + salary_alemanha[i]\n",
        "av_alemanha = soma_sal_alemanha/len(salary_alemanha)\n",
        "s_av.append(av_alemanha)\n",
        "country.append('DEU')"
      ]
    },
    {
      "cell_type": "code",
      "execution_count": null,
      "metadata": {
        "id": "iMSGiq3msVLd"
      },
      "outputs": [],
      "source": [
        "#Selecionando os dados do Reino unido com slários de 2017 a 2021\n",
        "\n",
        "df_uk = df[df['Country'] == 'United Kingdom'] \n",
        "salary_uk = df_uk['SalaryUSD'].tolist() # tranformando o dataframe do reino unido com salarios de 2017 a 2021 em lista.\n",
        "\n",
        "#utilização de um laço for para calcular média dos salários do Reino Unido.\n",
        "\n",
        "soma_sal_uk = 0\n",
        "\n",
        "for i in range (len(salary_uk)):\n",
        "    soma_sal_uk = soma_sal_uk + salary_uk[i]\n",
        "av_uk = soma_sal_uk/len(salary_uk)\n",
        "s_av.append(av_uk)\n",
        "country.append('GBR')"
      ]
    },
    {
      "cell_type": "code",
      "execution_count": null,
      "metadata": {
        "id": "cMTz76vQsVLe"
      },
      "outputs": [],
      "source": [
        "#Selecionando os dados da Índia com slários de 2017 a 2021\n",
        "\n",
        "df_india = df[df['Country'] == 'India'] \n",
        "salary_india = df_india['SalaryUSD'].tolist() # tranformando o dataframe da India com salarios de 2017 a 2021 em lista.\n",
        "\n",
        "#utilização de um laço for para calcular média dos salários da India.\n",
        "\n",
        "soma_sal_india = 0\n",
        "\n",
        "for i in range (len(salary_india)):\n",
        "    soma_sal_india = soma_sal_india + salary_india[i]\n",
        "av_india = soma_sal_india/len(salary_india)\n",
        "s_av.append(av_india)\n",
        "country.append('IND')"
      ]
    },
    {
      "cell_type": "code",
      "execution_count": null,
      "metadata": {
        "id": "z2n8jqiPsVLf"
      },
      "outputs": [],
      "source": [
        "#Selecionando os dados da França com slários de 2017 a 2021\n",
        "\n",
        "df_france = df[df['Country'] == 'France'] \n",
        "salary_france = df_france['SalaryUSD'].tolist() # tranformando o dataframe da França com salarios de 2017 a 2021 em lista.\n",
        "\n",
        "#utilização de um laço for para calcular média dos salários da França.\n",
        "\n",
        "soma_sal_france = 0\n",
        "\n",
        "for i in range (len(salary_france)):\n",
        "    soma_sal_france = soma_sal_france + salary_france[i]\n",
        "av_france = soma_sal_france/len(salary_france)\n",
        "s_av.append(av_france)\n",
        "country.append('FRA')"
      ]
    },
    {
      "cell_type": "code",
      "execution_count": null,
      "metadata": {
        "id": "n3V8ilCWsVLg"
      },
      "outputs": [],
      "source": [
        "#Selecionando os dados da Itália com slários de 2017 a 2021\n",
        "\n",
        "df_italia = df[df['Country'] == 'Italy'] \n",
        "salary_italia = df_italia['SalaryUSD'].tolist() # tranformando o dataframe da Itália com salarios de 2017 a 2021 em lista.\n",
        "\n",
        "#utilização de um laço for para calcular média dos salários da Itália.\n",
        "\n",
        "soma_sal_italia = 0\n",
        "\n",
        "for i in range (len(salary_italia)):\n",
        "    soma_sal_italia = soma_sal_italia + salary_italia[i]\n",
        "av_italia = soma_sal_italia/len(salary_italia)\n",
        "s_av.append(av_italia)\n",
        "country.append('ITA')"
      ]
    },
    {
      "cell_type": "code",
      "execution_count": null,
      "metadata": {
        "id": "bzHmV_3osVLi"
      },
      "outputs": [],
      "source": [
        "#Selecionando os dados da Canadá com slários de 2017 a 2021\n",
        "\n",
        "df_canada = df[df['Country'] == 'Canada'] \n",
        "salary_canada = df_canada['SalaryUSD'].tolist() # tranformando o dataframe do Canadá com salarios de 2017 a 2021 em lista.\n",
        "\n",
        "#utilização de um laço for para calcular média dos salários do Canadá.\n",
        "\n",
        "soma_sal_canada = 0\n",
        "\n",
        "for i in range (len(salary_canada)):\n",
        "    soma_sal_canada = soma_sal_canada + salary_canada[i]\n",
        "av_canada = soma_sal_canada/len(salary_canada)\n",
        "s_av.append(av_canada)\n",
        "country.append('CAN')"
      ]
    },
    {
      "cell_type": "code",
      "execution_count": null,
      "metadata": {
        "id": "iMHrOrwBsVLj"
      },
      "outputs": [],
      "source": [
        "#Selecionando os dados da Russia com slários de 2017 a 2021\n",
        "\n",
        "df_russia = df[df['Country'] == 'Russia'] \n",
        "salary_russia = df_russia['SalaryUSD'].tolist() # tranformando o dataframe do Russia com salarios de 2017 a 2021 em lista.\n",
        "\n",
        "#utilização de um laço for para calcular média dos salários do Russia.\n",
        "\n",
        "soma_sal_russia = 0\n",
        "\n",
        "for i in range (len(salary_russia)):\n",
        "    soma_sal_russia = soma_sal_russia + salary_russia[i]\n",
        "av_russia = soma_sal_russia/len(salary_russia)\n",
        "s_av.append(av_russia)\n",
        "country.append('RUS')"
      ]
    },
    {
      "cell_type": "code",
      "execution_count": null,
      "metadata": {
        "id": "Zt2n0DvKsVLk"
      },
      "outputs": [],
      "source": [
        "#Selecionando os dados do Brasil com slários de 2017 a 2021\n",
        "\n",
        "df_br = df[df['Country'] == 'Brazil'] \n",
        "salary_br = df_br['SalaryUSD'].tolist() # tranformando o dataframe do Brasil com salarios de 2017 a 2021 em lista.\n",
        "\n",
        "#utilização de um laço for para calcular média dos salários do Brasil.\n",
        "\n",
        "soma_sal_br = 0\n",
        "\n",
        "for i in range (len(salary_br)):\n",
        "    soma_sal_br = soma_sal_br + salary_br[i]\n",
        "av_br = soma_sal_br/len(salary_br)\n",
        "s_av.append(av_br)\n",
        "country.append('BRA')"
      ]
    },
    {
      "cell_type": "code",
      "execution_count": null,
      "metadata": {
        "id": "HUua9CKvsVLl"
      },
      "outputs": [],
      "source": [
        "#Selecionando os dados da Austrália com slários de 2017 a 2021\n",
        "\n",
        "df_australia = df[df['Country'] == 'Australia'] \n",
        "salary_australia = df_australia['SalaryUSD'].tolist() # tranformando o dataframe do Austrália com salarios de 2017 a 2021 em lista.\n",
        "\n",
        "#utilização de um laço for para calcular média dos salários da Austrália.\n",
        "\n",
        "soma_sal_australia = 0\n",
        "\n",
        "for i in range (len(salary_australia)):\n",
        "    soma_sal_australia = soma_sal_australia + salary_australia[i]\n",
        "av_australia = soma_sal_australia/len(salary_australia)\n",
        "s_av.append(av_australia)\n",
        "country.append('AUS')"
      ]
    },
    {
      "cell_type": "code",
      "execution_count": null,
      "metadata": {
        "id": "Z9NkVj9ssVLl"
      },
      "outputs": [],
      "source": [
        "#Selecionando os dados da Africa do sul com slários de 2017 a 2021\n",
        "\n",
        "df_africasul = df[df['Country'] == 'South Africa'] \n",
        "salary_africasul = df_africasul['SalaryUSD'].tolist() # tranformando o dataframe da Africa do Sul com salarios de 2017 a 2021 em lista.\n",
        "\n",
        "#utilização de um laço for para calcular média dos salários da africa do sul.\n",
        "\n",
        "soma_sal_africasul = 0\n",
        "\n",
        "for i in range (len(salary_africasul)):\n",
        "    soma_sal_africasul = soma_sal_africasul + salary_africasul[i]\n",
        "av_africasul = soma_sal_africasul/len(salary_africasul)\n",
        "s_av.append(av_africasul)\n",
        "country.append('ZAF')"
      ]
    },
    {
      "cell_type": "code",
      "execution_count": null,
      "metadata": {
        "id": "CrTbEAF2sVLm",
        "outputId": "2f07d923-13a9-44f3-d138-cb8dbb0ba595"
      },
      "outputs": [
        {
          "name": "stdout",
          "output_type": "stream",
          "text": [
            "[109589.19568973115, 57333.333333333336, 79777.56, 66656.69426124198, 32729.870467836256, 60625.75, 48795.11255319149, 80342.5001058201, 27639.916666666668, 27996.75, 93446.25709803922, 55847.116341463414]\n",
            "['USA', 'CHN', 'DEU', 'GBR', 'IND', 'FRA', 'ITA', 'CAN', 'RUS', 'BRA', 'AUS', 'ZAF']\n"
          ]
        }
      ],
      "source": [
        "print(s_av)\n",
        "print(country)"
      ]
    },
    {
      "cell_type": "code",
      "execution_count": null,
      "metadata": {
        "id": "SlXG915wsVLn",
        "outputId": "c7879fc9-5571-4763-c1e5-6692fe30533d"
      },
      "outputs": [
        {
          "data": {
            "application/vnd.plotly.v1+json": {
              "config": {
                "plotlyServerURL": "https://plot.ly"
              },
              "data": [
                {
                  "alignmentgroup": "True",
                  "hovertemplate": "x=%{x}<br>y=%{y}<extra></extra>",
                  "legendgroup": "",
                  "marker": {
                    "color": "#636efa",
                    "pattern": {
                      "shape": ""
                    }
                  },
                  "name": "",
                  "offsetgroup": "",
                  "orientation": "v",
                  "showlegend": false,
                  "textposition": "auto",
                  "type": "bar",
                  "x": [
                    "USA",
                    "CHN",
                    "DEU",
                    "GBR",
                    "IND",
                    "FRA",
                    "ITA",
                    "CAN",
                    "RUS",
                    "BRA",
                    "AUS",
                    "ZAF"
                  ],
                  "xaxis": "x",
                  "y": [
                    109589.19568973115,
                    57333.333333333336,
                    79777.56,
                    66656.69426124198,
                    32729.870467836256,
                    60625.75,
                    48795.11255319149,
                    80342.5001058201,
                    27639.916666666668,
                    27996.75,
                    93446.25709803922,
                    55847.116341463414
                  ],
                  "yaxis": "y"
                }
              ],
              "layout": {
                "barmode": "relative",
                "legend": {
                  "tracegroupgap": 0
                },
                "template": {
                  "data": {
                    "bar": [
                      {
                        "error_x": {
                          "color": "#2a3f5f"
                        },
                        "error_y": {
                          "color": "#2a3f5f"
                        },
                        "marker": {
                          "line": {
                            "color": "#E5ECF6",
                            "width": 0.5
                          },
                          "pattern": {
                            "fillmode": "overlay",
                            "size": 10,
                            "solidity": 0.2
                          }
                        },
                        "type": "bar"
                      }
                    ],
                    "barpolar": [
                      {
                        "marker": {
                          "line": {
                            "color": "#E5ECF6",
                            "width": 0.5
                          },
                          "pattern": {
                            "fillmode": "overlay",
                            "size": 10,
                            "solidity": 0.2
                          }
                        },
                        "type": "barpolar"
                      }
                    ],
                    "carpet": [
                      {
                        "aaxis": {
                          "endlinecolor": "#2a3f5f",
                          "gridcolor": "white",
                          "linecolor": "white",
                          "minorgridcolor": "white",
                          "startlinecolor": "#2a3f5f"
                        },
                        "baxis": {
                          "endlinecolor": "#2a3f5f",
                          "gridcolor": "white",
                          "linecolor": "white",
                          "minorgridcolor": "white",
                          "startlinecolor": "#2a3f5f"
                        },
                        "type": "carpet"
                      }
                    ],
                    "choropleth": [
                      {
                        "colorbar": {
                          "outlinewidth": 0,
                          "ticks": ""
                        },
                        "type": "choropleth"
                      }
                    ],
                    "contour": [
                      {
                        "colorbar": {
                          "outlinewidth": 0,
                          "ticks": ""
                        },
                        "colorscale": [
                          [
                            0,
                            "#0d0887"
                          ],
                          [
                            0.1111111111111111,
                            "#46039f"
                          ],
                          [
                            0.2222222222222222,
                            "#7201a8"
                          ],
                          [
                            0.3333333333333333,
                            "#9c179e"
                          ],
                          [
                            0.4444444444444444,
                            "#bd3786"
                          ],
                          [
                            0.5555555555555556,
                            "#d8576b"
                          ],
                          [
                            0.6666666666666666,
                            "#ed7953"
                          ],
                          [
                            0.7777777777777778,
                            "#fb9f3a"
                          ],
                          [
                            0.8888888888888888,
                            "#fdca26"
                          ],
                          [
                            1,
                            "#f0f921"
                          ]
                        ],
                        "type": "contour"
                      }
                    ],
                    "contourcarpet": [
                      {
                        "colorbar": {
                          "outlinewidth": 0,
                          "ticks": ""
                        },
                        "type": "contourcarpet"
                      }
                    ],
                    "heatmap": [
                      {
                        "colorbar": {
                          "outlinewidth": 0,
                          "ticks": ""
                        },
                        "colorscale": [
                          [
                            0,
                            "#0d0887"
                          ],
                          [
                            0.1111111111111111,
                            "#46039f"
                          ],
                          [
                            0.2222222222222222,
                            "#7201a8"
                          ],
                          [
                            0.3333333333333333,
                            "#9c179e"
                          ],
                          [
                            0.4444444444444444,
                            "#bd3786"
                          ],
                          [
                            0.5555555555555556,
                            "#d8576b"
                          ],
                          [
                            0.6666666666666666,
                            "#ed7953"
                          ],
                          [
                            0.7777777777777778,
                            "#fb9f3a"
                          ],
                          [
                            0.8888888888888888,
                            "#fdca26"
                          ],
                          [
                            1,
                            "#f0f921"
                          ]
                        ],
                        "type": "heatmap"
                      }
                    ],
                    "heatmapgl": [
                      {
                        "colorbar": {
                          "outlinewidth": 0,
                          "ticks": ""
                        },
                        "colorscale": [
                          [
                            0,
                            "#0d0887"
                          ],
                          [
                            0.1111111111111111,
                            "#46039f"
                          ],
                          [
                            0.2222222222222222,
                            "#7201a8"
                          ],
                          [
                            0.3333333333333333,
                            "#9c179e"
                          ],
                          [
                            0.4444444444444444,
                            "#bd3786"
                          ],
                          [
                            0.5555555555555556,
                            "#d8576b"
                          ],
                          [
                            0.6666666666666666,
                            "#ed7953"
                          ],
                          [
                            0.7777777777777778,
                            "#fb9f3a"
                          ],
                          [
                            0.8888888888888888,
                            "#fdca26"
                          ],
                          [
                            1,
                            "#f0f921"
                          ]
                        ],
                        "type": "heatmapgl"
                      }
                    ],
                    "histogram": [
                      {
                        "marker": {
                          "pattern": {
                            "fillmode": "overlay",
                            "size": 10,
                            "solidity": 0.2
                          }
                        },
                        "type": "histogram"
                      }
                    ],
                    "histogram2d": [
                      {
                        "colorbar": {
                          "outlinewidth": 0,
                          "ticks": ""
                        },
                        "colorscale": [
                          [
                            0,
                            "#0d0887"
                          ],
                          [
                            0.1111111111111111,
                            "#46039f"
                          ],
                          [
                            0.2222222222222222,
                            "#7201a8"
                          ],
                          [
                            0.3333333333333333,
                            "#9c179e"
                          ],
                          [
                            0.4444444444444444,
                            "#bd3786"
                          ],
                          [
                            0.5555555555555556,
                            "#d8576b"
                          ],
                          [
                            0.6666666666666666,
                            "#ed7953"
                          ],
                          [
                            0.7777777777777778,
                            "#fb9f3a"
                          ],
                          [
                            0.8888888888888888,
                            "#fdca26"
                          ],
                          [
                            1,
                            "#f0f921"
                          ]
                        ],
                        "type": "histogram2d"
                      }
                    ],
                    "histogram2dcontour": [
                      {
                        "colorbar": {
                          "outlinewidth": 0,
                          "ticks": ""
                        },
                        "colorscale": [
                          [
                            0,
                            "#0d0887"
                          ],
                          [
                            0.1111111111111111,
                            "#46039f"
                          ],
                          [
                            0.2222222222222222,
                            "#7201a8"
                          ],
                          [
                            0.3333333333333333,
                            "#9c179e"
                          ],
                          [
                            0.4444444444444444,
                            "#bd3786"
                          ],
                          [
                            0.5555555555555556,
                            "#d8576b"
                          ],
                          [
                            0.6666666666666666,
                            "#ed7953"
                          ],
                          [
                            0.7777777777777778,
                            "#fb9f3a"
                          ],
                          [
                            0.8888888888888888,
                            "#fdca26"
                          ],
                          [
                            1,
                            "#f0f921"
                          ]
                        ],
                        "type": "histogram2dcontour"
                      }
                    ],
                    "mesh3d": [
                      {
                        "colorbar": {
                          "outlinewidth": 0,
                          "ticks": ""
                        },
                        "type": "mesh3d"
                      }
                    ],
                    "parcoords": [
                      {
                        "line": {
                          "colorbar": {
                            "outlinewidth": 0,
                            "ticks": ""
                          }
                        },
                        "type": "parcoords"
                      }
                    ],
                    "pie": [
                      {
                        "automargin": true,
                        "type": "pie"
                      }
                    ],
                    "scatter": [
                      {
                        "marker": {
                          "colorbar": {
                            "outlinewidth": 0,
                            "ticks": ""
                          }
                        },
                        "type": "scatter"
                      }
                    ],
                    "scatter3d": [
                      {
                        "line": {
                          "colorbar": {
                            "outlinewidth": 0,
                            "ticks": ""
                          }
                        },
                        "marker": {
                          "colorbar": {
                            "outlinewidth": 0,
                            "ticks": ""
                          }
                        },
                        "type": "scatter3d"
                      }
                    ],
                    "scattercarpet": [
                      {
                        "marker": {
                          "colorbar": {
                            "outlinewidth": 0,
                            "ticks": ""
                          }
                        },
                        "type": "scattercarpet"
                      }
                    ],
                    "scattergeo": [
                      {
                        "marker": {
                          "colorbar": {
                            "outlinewidth": 0,
                            "ticks": ""
                          }
                        },
                        "type": "scattergeo"
                      }
                    ],
                    "scattergl": [
                      {
                        "marker": {
                          "colorbar": {
                            "outlinewidth": 0,
                            "ticks": ""
                          }
                        },
                        "type": "scattergl"
                      }
                    ],
                    "scattermapbox": [
                      {
                        "marker": {
                          "colorbar": {
                            "outlinewidth": 0,
                            "ticks": ""
                          }
                        },
                        "type": "scattermapbox"
                      }
                    ],
                    "scatterpolar": [
                      {
                        "marker": {
                          "colorbar": {
                            "outlinewidth": 0,
                            "ticks": ""
                          }
                        },
                        "type": "scatterpolar"
                      }
                    ],
                    "scatterpolargl": [
                      {
                        "marker": {
                          "colorbar": {
                            "outlinewidth": 0,
                            "ticks": ""
                          }
                        },
                        "type": "scatterpolargl"
                      }
                    ],
                    "scatterternary": [
                      {
                        "marker": {
                          "colorbar": {
                            "outlinewidth": 0,
                            "ticks": ""
                          }
                        },
                        "type": "scatterternary"
                      }
                    ],
                    "surface": [
                      {
                        "colorbar": {
                          "outlinewidth": 0,
                          "ticks": ""
                        },
                        "colorscale": [
                          [
                            0,
                            "#0d0887"
                          ],
                          [
                            0.1111111111111111,
                            "#46039f"
                          ],
                          [
                            0.2222222222222222,
                            "#7201a8"
                          ],
                          [
                            0.3333333333333333,
                            "#9c179e"
                          ],
                          [
                            0.4444444444444444,
                            "#bd3786"
                          ],
                          [
                            0.5555555555555556,
                            "#d8576b"
                          ],
                          [
                            0.6666666666666666,
                            "#ed7953"
                          ],
                          [
                            0.7777777777777778,
                            "#fb9f3a"
                          ],
                          [
                            0.8888888888888888,
                            "#fdca26"
                          ],
                          [
                            1,
                            "#f0f921"
                          ]
                        ],
                        "type": "surface"
                      }
                    ],
                    "table": [
                      {
                        "cells": {
                          "fill": {
                            "color": "#EBF0F8"
                          },
                          "line": {
                            "color": "white"
                          }
                        },
                        "header": {
                          "fill": {
                            "color": "#C8D4E3"
                          },
                          "line": {
                            "color": "white"
                          }
                        },
                        "type": "table"
                      }
                    ]
                  },
                  "layout": {
                    "annotationdefaults": {
                      "arrowcolor": "#2a3f5f",
                      "arrowhead": 0,
                      "arrowwidth": 1
                    },
                    "autotypenumbers": "strict",
                    "coloraxis": {
                      "colorbar": {
                        "outlinewidth": 0,
                        "ticks": ""
                      }
                    },
                    "colorscale": {
                      "diverging": [
                        [
                          0,
                          "#8e0152"
                        ],
                        [
                          0.1,
                          "#c51b7d"
                        ],
                        [
                          0.2,
                          "#de77ae"
                        ],
                        [
                          0.3,
                          "#f1b6da"
                        ],
                        [
                          0.4,
                          "#fde0ef"
                        ],
                        [
                          0.5,
                          "#f7f7f7"
                        ],
                        [
                          0.6,
                          "#e6f5d0"
                        ],
                        [
                          0.7,
                          "#b8e186"
                        ],
                        [
                          0.8,
                          "#7fbc41"
                        ],
                        [
                          0.9,
                          "#4d9221"
                        ],
                        [
                          1,
                          "#276419"
                        ]
                      ],
                      "sequential": [
                        [
                          0,
                          "#0d0887"
                        ],
                        [
                          0.1111111111111111,
                          "#46039f"
                        ],
                        [
                          0.2222222222222222,
                          "#7201a8"
                        ],
                        [
                          0.3333333333333333,
                          "#9c179e"
                        ],
                        [
                          0.4444444444444444,
                          "#bd3786"
                        ],
                        [
                          0.5555555555555556,
                          "#d8576b"
                        ],
                        [
                          0.6666666666666666,
                          "#ed7953"
                        ],
                        [
                          0.7777777777777778,
                          "#fb9f3a"
                        ],
                        [
                          0.8888888888888888,
                          "#fdca26"
                        ],
                        [
                          1,
                          "#f0f921"
                        ]
                      ],
                      "sequentialminus": [
                        [
                          0,
                          "#0d0887"
                        ],
                        [
                          0.1111111111111111,
                          "#46039f"
                        ],
                        [
                          0.2222222222222222,
                          "#7201a8"
                        ],
                        [
                          0.3333333333333333,
                          "#9c179e"
                        ],
                        [
                          0.4444444444444444,
                          "#bd3786"
                        ],
                        [
                          0.5555555555555556,
                          "#d8576b"
                        ],
                        [
                          0.6666666666666666,
                          "#ed7953"
                        ],
                        [
                          0.7777777777777778,
                          "#fb9f3a"
                        ],
                        [
                          0.8888888888888888,
                          "#fdca26"
                        ],
                        [
                          1,
                          "#f0f921"
                        ]
                      ]
                    },
                    "colorway": [
                      "#636efa",
                      "#EF553B",
                      "#00cc96",
                      "#ab63fa",
                      "#FFA15A",
                      "#19d3f3",
                      "#FF6692",
                      "#B6E880",
                      "#FF97FF",
                      "#FECB52"
                    ],
                    "font": {
                      "color": "#2a3f5f"
                    },
                    "geo": {
                      "bgcolor": "white",
                      "lakecolor": "white",
                      "landcolor": "#E5ECF6",
                      "showlakes": true,
                      "showland": true,
                      "subunitcolor": "white"
                    },
                    "hoverlabel": {
                      "align": "left"
                    },
                    "hovermode": "closest",
                    "mapbox": {
                      "style": "light"
                    },
                    "paper_bgcolor": "white",
                    "plot_bgcolor": "#E5ECF6",
                    "polar": {
                      "angularaxis": {
                        "gridcolor": "white",
                        "linecolor": "white",
                        "ticks": ""
                      },
                      "bgcolor": "#E5ECF6",
                      "radialaxis": {
                        "gridcolor": "white",
                        "linecolor": "white",
                        "ticks": ""
                      }
                    },
                    "scene": {
                      "xaxis": {
                        "backgroundcolor": "#E5ECF6",
                        "gridcolor": "white",
                        "gridwidth": 2,
                        "linecolor": "white",
                        "showbackground": true,
                        "ticks": "",
                        "zerolinecolor": "white"
                      },
                      "yaxis": {
                        "backgroundcolor": "#E5ECF6",
                        "gridcolor": "white",
                        "gridwidth": 2,
                        "linecolor": "white",
                        "showbackground": true,
                        "ticks": "",
                        "zerolinecolor": "white"
                      },
                      "zaxis": {
                        "backgroundcolor": "#E5ECF6",
                        "gridcolor": "white",
                        "gridwidth": 2,
                        "linecolor": "white",
                        "showbackground": true,
                        "ticks": "",
                        "zerolinecolor": "white"
                      }
                    },
                    "shapedefaults": {
                      "line": {
                        "color": "#2a3f5f"
                      }
                    },
                    "ternary": {
                      "aaxis": {
                        "gridcolor": "white",
                        "linecolor": "white",
                        "ticks": ""
                      },
                      "baxis": {
                        "gridcolor": "white",
                        "linecolor": "white",
                        "ticks": ""
                      },
                      "bgcolor": "#E5ECF6",
                      "caxis": {
                        "gridcolor": "white",
                        "linecolor": "white",
                        "ticks": ""
                      }
                    },
                    "title": {
                      "x": 0.05
                    },
                    "xaxis": {
                      "automargin": true,
                      "gridcolor": "white",
                      "linecolor": "white",
                      "ticks": "",
                      "title": {
                        "standoff": 15
                      },
                      "zerolinecolor": "white",
                      "zerolinewidth": 2
                    },
                    "yaxis": {
                      "automargin": true,
                      "gridcolor": "white",
                      "linecolor": "white",
                      "ticks": "",
                      "title": {
                        "standoff": 15
                      },
                      "zerolinecolor": "white",
                      "zerolinewidth": 2
                    }
                  }
                },
                "title": {
                  "text": "Average"
                },
                "xaxis": {
                  "anchor": "y",
                  "domain": [
                    0,
                    1
                  ],
                  "title": {
                    "text": "Country"
                  }
                },
                "yaxis": {
                  "anchor": "x",
                  "domain": [
                    0,
                    1
                  ],
                  "title": {
                    "text": "Average annual salary [USD]"
                  }
                }
              }
            }
          },
          "metadata": {},
          "output_type": "display_data"
        }
      ],
      "source": [
        "#Método 2 para criar o gráfico, através da combinação dos vetores criados no início.\n",
        "fig = px.bar(x=country, y=s_av, title='Average')\n",
        "fig.update_xaxes(title='Country')\n",
        "fig.update_yaxes(title='Average annual salary [USD]')\n",
        "fig.show()"
      ]
    },
    {
      "cell_type": "code",
      "execution_count": null,
      "metadata": {
        "id": "0Yc5drWgsVLo",
        "outputId": "f8a408d5-4aee-4a5e-e0bb-82d886261a66"
      },
      "outputs": [
        {
          "name": "stdout",
          "output_type": "stream",
          "text": [
            "   Country  Average annual salary [USD]\n",
            "0      USA                109589.195690\n",
            "1      CHN                 57333.333333\n",
            "2      DEU                 79777.560000\n",
            "3      GBR                 66656.694261\n",
            "4      IND                 32729.870468\n",
            "5      FRA                 60625.750000\n",
            "6      ITA                 48795.112553\n",
            "7      CAN                 80342.500106\n",
            "8      RUS                 27639.916667\n",
            "9      BRA                 27996.750000\n",
            "10     AUS                 93446.257098\n",
            "11     ZAF                 55847.116341\n"
          ]
        },
        {
          "data": {
            "application/vnd.plotly.v1+json": {
              "config": {
                "plotlyServerURL": "https://plot.ly"
              },
              "data": [
                {
                  "geo": "geo",
                  "hovertemplate": "color=USA<br>Average annual salary [USD]=%{marker.size}<br>Country=%{location}<extra></extra>",
                  "legendgroup": "USA",
                  "locations": [
                    "USA"
                  ],
                  "marker": {
                    "color": "#636efa",
                    "size": [
                      109589.19568973115
                    ],
                    "sizemode": "area",
                    "sizeref": 273.9729892243279,
                    "symbol": "circle"
                  },
                  "mode": "markers",
                  "name": "USA",
                  "showlegend": true,
                  "type": "scattergeo"
                },
                {
                  "geo": "geo",
                  "hovertemplate": "color=CHN<br>Average annual salary [USD]=%{marker.size}<br>Country=%{location}<extra></extra>",
                  "legendgroup": "CHN",
                  "locations": [
                    "CHN"
                  ],
                  "marker": {
                    "color": "#EF553B",
                    "size": [
                      57333.333333333336
                    ],
                    "sizemode": "area",
                    "sizeref": 273.9729892243279,
                    "symbol": "circle"
                  },
                  "mode": "markers",
                  "name": "CHN",
                  "showlegend": true,
                  "type": "scattergeo"
                },
                {
                  "geo": "geo",
                  "hovertemplate": "color=DEU<br>Average annual salary [USD]=%{marker.size}<br>Country=%{location}<extra></extra>",
                  "legendgroup": "DEU",
                  "locations": [
                    "DEU"
                  ],
                  "marker": {
                    "color": "#00cc96",
                    "size": [
                      79777.56
                    ],
                    "sizemode": "area",
                    "sizeref": 273.9729892243279,
                    "symbol": "circle"
                  },
                  "mode": "markers",
                  "name": "DEU",
                  "showlegend": true,
                  "type": "scattergeo"
                },
                {
                  "geo": "geo",
                  "hovertemplate": "color=GBR<br>Average annual salary [USD]=%{marker.size}<br>Country=%{location}<extra></extra>",
                  "legendgroup": "GBR",
                  "locations": [
                    "GBR"
                  ],
                  "marker": {
                    "color": "#ab63fa",
                    "size": [
                      66656.69426124198
                    ],
                    "sizemode": "area",
                    "sizeref": 273.9729892243279,
                    "symbol": "circle"
                  },
                  "mode": "markers",
                  "name": "GBR",
                  "showlegend": true,
                  "type": "scattergeo"
                },
                {
                  "geo": "geo",
                  "hovertemplate": "color=IND<br>Average annual salary [USD]=%{marker.size}<br>Country=%{location}<extra></extra>",
                  "legendgroup": "IND",
                  "locations": [
                    "IND"
                  ],
                  "marker": {
                    "color": "#FFA15A",
                    "size": [
                      32729.870467836256
                    ],
                    "sizemode": "area",
                    "sizeref": 273.9729892243279,
                    "symbol": "circle"
                  },
                  "mode": "markers",
                  "name": "IND",
                  "showlegend": true,
                  "type": "scattergeo"
                },
                {
                  "geo": "geo",
                  "hovertemplate": "color=FRA<br>Average annual salary [USD]=%{marker.size}<br>Country=%{location}<extra></extra>",
                  "legendgroup": "FRA",
                  "locations": [
                    "FRA"
                  ],
                  "marker": {
                    "color": "#19d3f3",
                    "size": [
                      60625.75
                    ],
                    "sizemode": "area",
                    "sizeref": 273.9729892243279,
                    "symbol": "circle"
                  },
                  "mode": "markers",
                  "name": "FRA",
                  "showlegend": true,
                  "type": "scattergeo"
                },
                {
                  "geo": "geo",
                  "hovertemplate": "color=ITA<br>Average annual salary [USD]=%{marker.size}<br>Country=%{location}<extra></extra>",
                  "legendgroup": "ITA",
                  "locations": [
                    "ITA"
                  ],
                  "marker": {
                    "color": "#FF6692",
                    "size": [
                      48795.11255319149
                    ],
                    "sizemode": "area",
                    "sizeref": 273.9729892243279,
                    "symbol": "circle"
                  },
                  "mode": "markers",
                  "name": "ITA",
                  "showlegend": true,
                  "type": "scattergeo"
                },
                {
                  "geo": "geo",
                  "hovertemplate": "color=CAN<br>Average annual salary [USD]=%{marker.size}<br>Country=%{location}<extra></extra>",
                  "legendgroup": "CAN",
                  "locations": [
                    "CAN"
                  ],
                  "marker": {
                    "color": "#B6E880",
                    "size": [
                      80342.5001058201
                    ],
                    "sizemode": "area",
                    "sizeref": 273.9729892243279,
                    "symbol": "circle"
                  },
                  "mode": "markers",
                  "name": "CAN",
                  "showlegend": true,
                  "type": "scattergeo"
                },
                {
                  "geo": "geo",
                  "hovertemplate": "color=RUS<br>Average annual salary [USD]=%{marker.size}<br>Country=%{location}<extra></extra>",
                  "legendgroup": "RUS",
                  "locations": [
                    "RUS"
                  ],
                  "marker": {
                    "color": "#FF97FF",
                    "size": [
                      27639.916666666668
                    ],
                    "sizemode": "area",
                    "sizeref": 273.9729892243279,
                    "symbol": "circle"
                  },
                  "mode": "markers",
                  "name": "RUS",
                  "showlegend": true,
                  "type": "scattergeo"
                },
                {
                  "geo": "geo",
                  "hovertemplate": "color=BRA<br>Average annual salary [USD]=%{marker.size}<br>Country=%{location}<extra></extra>",
                  "legendgroup": "BRA",
                  "locations": [
                    "BRA"
                  ],
                  "marker": {
                    "color": "#FECB52",
                    "size": [
                      27996.75
                    ],
                    "sizemode": "area",
                    "sizeref": 273.9729892243279,
                    "symbol": "circle"
                  },
                  "mode": "markers",
                  "name": "BRA",
                  "showlegend": true,
                  "type": "scattergeo"
                },
                {
                  "geo": "geo",
                  "hovertemplate": "color=AUS<br>Average annual salary [USD]=%{marker.size}<br>Country=%{location}<extra></extra>",
                  "legendgroup": "AUS",
                  "locations": [
                    "AUS"
                  ],
                  "marker": {
                    "color": "#636efa",
                    "size": [
                      93446.25709803922
                    ],
                    "sizemode": "area",
                    "sizeref": 273.9729892243279,
                    "symbol": "circle"
                  },
                  "mode": "markers",
                  "name": "AUS",
                  "showlegend": true,
                  "type": "scattergeo"
                },
                {
                  "geo": "geo",
                  "hovertemplate": "color=ZAF<br>Average annual salary [USD]=%{marker.size}<br>Country=%{location}<extra></extra>",
                  "legendgroup": "ZAF",
                  "locations": [
                    "ZAF"
                  ],
                  "marker": {
                    "color": "#EF553B",
                    "size": [
                      55847.116341463414
                    ],
                    "sizemode": "area",
                    "sizeref": 273.9729892243279,
                    "symbol": "circle"
                  },
                  "mode": "markers",
                  "name": "ZAF",
                  "showlegend": true,
                  "type": "scattergeo"
                }
              ],
              "layout": {
                "geo": {
                  "center": {},
                  "domain": {
                    "x": [
                      0,
                      1
                    ],
                    "y": [
                      0,
                      1
                    ]
                  },
                  "projection": {
                    "type": "natural earth"
                  }
                },
                "legend": {
                  "itemsizing": "constant",
                  "title": {
                    "text": "color"
                  },
                  "tracegroupgap": 0
                },
                "template": {
                  "data": {
                    "bar": [
                      {
                        "error_x": {
                          "color": "#2a3f5f"
                        },
                        "error_y": {
                          "color": "#2a3f5f"
                        },
                        "marker": {
                          "line": {
                            "color": "#E5ECF6",
                            "width": 0.5
                          },
                          "pattern": {
                            "fillmode": "overlay",
                            "size": 10,
                            "solidity": 0.2
                          }
                        },
                        "type": "bar"
                      }
                    ],
                    "barpolar": [
                      {
                        "marker": {
                          "line": {
                            "color": "#E5ECF6",
                            "width": 0.5
                          },
                          "pattern": {
                            "fillmode": "overlay",
                            "size": 10,
                            "solidity": 0.2
                          }
                        },
                        "type": "barpolar"
                      }
                    ],
                    "carpet": [
                      {
                        "aaxis": {
                          "endlinecolor": "#2a3f5f",
                          "gridcolor": "white",
                          "linecolor": "white",
                          "minorgridcolor": "white",
                          "startlinecolor": "#2a3f5f"
                        },
                        "baxis": {
                          "endlinecolor": "#2a3f5f",
                          "gridcolor": "white",
                          "linecolor": "white",
                          "minorgridcolor": "white",
                          "startlinecolor": "#2a3f5f"
                        },
                        "type": "carpet"
                      }
                    ],
                    "choropleth": [
                      {
                        "colorbar": {
                          "outlinewidth": 0,
                          "ticks": ""
                        },
                        "type": "choropleth"
                      }
                    ],
                    "contour": [
                      {
                        "colorbar": {
                          "outlinewidth": 0,
                          "ticks": ""
                        },
                        "colorscale": [
                          [
                            0,
                            "#0d0887"
                          ],
                          [
                            0.1111111111111111,
                            "#46039f"
                          ],
                          [
                            0.2222222222222222,
                            "#7201a8"
                          ],
                          [
                            0.3333333333333333,
                            "#9c179e"
                          ],
                          [
                            0.4444444444444444,
                            "#bd3786"
                          ],
                          [
                            0.5555555555555556,
                            "#d8576b"
                          ],
                          [
                            0.6666666666666666,
                            "#ed7953"
                          ],
                          [
                            0.7777777777777778,
                            "#fb9f3a"
                          ],
                          [
                            0.8888888888888888,
                            "#fdca26"
                          ],
                          [
                            1,
                            "#f0f921"
                          ]
                        ],
                        "type": "contour"
                      }
                    ],
                    "contourcarpet": [
                      {
                        "colorbar": {
                          "outlinewidth": 0,
                          "ticks": ""
                        },
                        "type": "contourcarpet"
                      }
                    ],
                    "heatmap": [
                      {
                        "colorbar": {
                          "outlinewidth": 0,
                          "ticks": ""
                        },
                        "colorscale": [
                          [
                            0,
                            "#0d0887"
                          ],
                          [
                            0.1111111111111111,
                            "#46039f"
                          ],
                          [
                            0.2222222222222222,
                            "#7201a8"
                          ],
                          [
                            0.3333333333333333,
                            "#9c179e"
                          ],
                          [
                            0.4444444444444444,
                            "#bd3786"
                          ],
                          [
                            0.5555555555555556,
                            "#d8576b"
                          ],
                          [
                            0.6666666666666666,
                            "#ed7953"
                          ],
                          [
                            0.7777777777777778,
                            "#fb9f3a"
                          ],
                          [
                            0.8888888888888888,
                            "#fdca26"
                          ],
                          [
                            1,
                            "#f0f921"
                          ]
                        ],
                        "type": "heatmap"
                      }
                    ],
                    "heatmapgl": [
                      {
                        "colorbar": {
                          "outlinewidth": 0,
                          "ticks": ""
                        },
                        "colorscale": [
                          [
                            0,
                            "#0d0887"
                          ],
                          [
                            0.1111111111111111,
                            "#46039f"
                          ],
                          [
                            0.2222222222222222,
                            "#7201a8"
                          ],
                          [
                            0.3333333333333333,
                            "#9c179e"
                          ],
                          [
                            0.4444444444444444,
                            "#bd3786"
                          ],
                          [
                            0.5555555555555556,
                            "#d8576b"
                          ],
                          [
                            0.6666666666666666,
                            "#ed7953"
                          ],
                          [
                            0.7777777777777778,
                            "#fb9f3a"
                          ],
                          [
                            0.8888888888888888,
                            "#fdca26"
                          ],
                          [
                            1,
                            "#f0f921"
                          ]
                        ],
                        "type": "heatmapgl"
                      }
                    ],
                    "histogram": [
                      {
                        "marker": {
                          "pattern": {
                            "fillmode": "overlay",
                            "size": 10,
                            "solidity": 0.2
                          }
                        },
                        "type": "histogram"
                      }
                    ],
                    "histogram2d": [
                      {
                        "colorbar": {
                          "outlinewidth": 0,
                          "ticks": ""
                        },
                        "colorscale": [
                          [
                            0,
                            "#0d0887"
                          ],
                          [
                            0.1111111111111111,
                            "#46039f"
                          ],
                          [
                            0.2222222222222222,
                            "#7201a8"
                          ],
                          [
                            0.3333333333333333,
                            "#9c179e"
                          ],
                          [
                            0.4444444444444444,
                            "#bd3786"
                          ],
                          [
                            0.5555555555555556,
                            "#d8576b"
                          ],
                          [
                            0.6666666666666666,
                            "#ed7953"
                          ],
                          [
                            0.7777777777777778,
                            "#fb9f3a"
                          ],
                          [
                            0.8888888888888888,
                            "#fdca26"
                          ],
                          [
                            1,
                            "#f0f921"
                          ]
                        ],
                        "type": "histogram2d"
                      }
                    ],
                    "histogram2dcontour": [
                      {
                        "colorbar": {
                          "outlinewidth": 0,
                          "ticks": ""
                        },
                        "colorscale": [
                          [
                            0,
                            "#0d0887"
                          ],
                          [
                            0.1111111111111111,
                            "#46039f"
                          ],
                          [
                            0.2222222222222222,
                            "#7201a8"
                          ],
                          [
                            0.3333333333333333,
                            "#9c179e"
                          ],
                          [
                            0.4444444444444444,
                            "#bd3786"
                          ],
                          [
                            0.5555555555555556,
                            "#d8576b"
                          ],
                          [
                            0.6666666666666666,
                            "#ed7953"
                          ],
                          [
                            0.7777777777777778,
                            "#fb9f3a"
                          ],
                          [
                            0.8888888888888888,
                            "#fdca26"
                          ],
                          [
                            1,
                            "#f0f921"
                          ]
                        ],
                        "type": "histogram2dcontour"
                      }
                    ],
                    "mesh3d": [
                      {
                        "colorbar": {
                          "outlinewidth": 0,
                          "ticks": ""
                        },
                        "type": "mesh3d"
                      }
                    ],
                    "parcoords": [
                      {
                        "line": {
                          "colorbar": {
                            "outlinewidth": 0,
                            "ticks": ""
                          }
                        },
                        "type": "parcoords"
                      }
                    ],
                    "pie": [
                      {
                        "automargin": true,
                        "type": "pie"
                      }
                    ],
                    "scatter": [
                      {
                        "marker": {
                          "colorbar": {
                            "outlinewidth": 0,
                            "ticks": ""
                          }
                        },
                        "type": "scatter"
                      }
                    ],
                    "scatter3d": [
                      {
                        "line": {
                          "colorbar": {
                            "outlinewidth": 0,
                            "ticks": ""
                          }
                        },
                        "marker": {
                          "colorbar": {
                            "outlinewidth": 0,
                            "ticks": ""
                          }
                        },
                        "type": "scatter3d"
                      }
                    ],
                    "scattercarpet": [
                      {
                        "marker": {
                          "colorbar": {
                            "outlinewidth": 0,
                            "ticks": ""
                          }
                        },
                        "type": "scattercarpet"
                      }
                    ],
                    "scattergeo": [
                      {
                        "marker": {
                          "colorbar": {
                            "outlinewidth": 0,
                            "ticks": ""
                          }
                        },
                        "type": "scattergeo"
                      }
                    ],
                    "scattergl": [
                      {
                        "marker": {
                          "colorbar": {
                            "outlinewidth": 0,
                            "ticks": ""
                          }
                        },
                        "type": "scattergl"
                      }
                    ],
                    "scattermapbox": [
                      {
                        "marker": {
                          "colorbar": {
                            "outlinewidth": 0,
                            "ticks": ""
                          }
                        },
                        "type": "scattermapbox"
                      }
                    ],
                    "scatterpolar": [
                      {
                        "marker": {
                          "colorbar": {
                            "outlinewidth": 0,
                            "ticks": ""
                          }
                        },
                        "type": "scatterpolar"
                      }
                    ],
                    "scatterpolargl": [
                      {
                        "marker": {
                          "colorbar": {
                            "outlinewidth": 0,
                            "ticks": ""
                          }
                        },
                        "type": "scatterpolargl"
                      }
                    ],
                    "scatterternary": [
                      {
                        "marker": {
                          "colorbar": {
                            "outlinewidth": 0,
                            "ticks": ""
                          }
                        },
                        "type": "scatterternary"
                      }
                    ],
                    "surface": [
                      {
                        "colorbar": {
                          "outlinewidth": 0,
                          "ticks": ""
                        },
                        "colorscale": [
                          [
                            0,
                            "#0d0887"
                          ],
                          [
                            0.1111111111111111,
                            "#46039f"
                          ],
                          [
                            0.2222222222222222,
                            "#7201a8"
                          ],
                          [
                            0.3333333333333333,
                            "#9c179e"
                          ],
                          [
                            0.4444444444444444,
                            "#bd3786"
                          ],
                          [
                            0.5555555555555556,
                            "#d8576b"
                          ],
                          [
                            0.6666666666666666,
                            "#ed7953"
                          ],
                          [
                            0.7777777777777778,
                            "#fb9f3a"
                          ],
                          [
                            0.8888888888888888,
                            "#fdca26"
                          ],
                          [
                            1,
                            "#f0f921"
                          ]
                        ],
                        "type": "surface"
                      }
                    ],
                    "table": [
                      {
                        "cells": {
                          "fill": {
                            "color": "#EBF0F8"
                          },
                          "line": {
                            "color": "white"
                          }
                        },
                        "header": {
                          "fill": {
                            "color": "#C8D4E3"
                          },
                          "line": {
                            "color": "white"
                          }
                        },
                        "type": "table"
                      }
                    ]
                  },
                  "layout": {
                    "annotationdefaults": {
                      "arrowcolor": "#2a3f5f",
                      "arrowhead": 0,
                      "arrowwidth": 1
                    },
                    "autotypenumbers": "strict",
                    "coloraxis": {
                      "colorbar": {
                        "outlinewidth": 0,
                        "ticks": ""
                      }
                    },
                    "colorscale": {
                      "diverging": [
                        [
                          0,
                          "#8e0152"
                        ],
                        [
                          0.1,
                          "#c51b7d"
                        ],
                        [
                          0.2,
                          "#de77ae"
                        ],
                        [
                          0.3,
                          "#f1b6da"
                        ],
                        [
                          0.4,
                          "#fde0ef"
                        ],
                        [
                          0.5,
                          "#f7f7f7"
                        ],
                        [
                          0.6,
                          "#e6f5d0"
                        ],
                        [
                          0.7,
                          "#b8e186"
                        ],
                        [
                          0.8,
                          "#7fbc41"
                        ],
                        [
                          0.9,
                          "#4d9221"
                        ],
                        [
                          1,
                          "#276419"
                        ]
                      ],
                      "sequential": [
                        [
                          0,
                          "#0d0887"
                        ],
                        [
                          0.1111111111111111,
                          "#46039f"
                        ],
                        [
                          0.2222222222222222,
                          "#7201a8"
                        ],
                        [
                          0.3333333333333333,
                          "#9c179e"
                        ],
                        [
                          0.4444444444444444,
                          "#bd3786"
                        ],
                        [
                          0.5555555555555556,
                          "#d8576b"
                        ],
                        [
                          0.6666666666666666,
                          "#ed7953"
                        ],
                        [
                          0.7777777777777778,
                          "#fb9f3a"
                        ],
                        [
                          0.8888888888888888,
                          "#fdca26"
                        ],
                        [
                          1,
                          "#f0f921"
                        ]
                      ],
                      "sequentialminus": [
                        [
                          0,
                          "#0d0887"
                        ],
                        [
                          0.1111111111111111,
                          "#46039f"
                        ],
                        [
                          0.2222222222222222,
                          "#7201a8"
                        ],
                        [
                          0.3333333333333333,
                          "#9c179e"
                        ],
                        [
                          0.4444444444444444,
                          "#bd3786"
                        ],
                        [
                          0.5555555555555556,
                          "#d8576b"
                        ],
                        [
                          0.6666666666666666,
                          "#ed7953"
                        ],
                        [
                          0.7777777777777778,
                          "#fb9f3a"
                        ],
                        [
                          0.8888888888888888,
                          "#fdca26"
                        ],
                        [
                          1,
                          "#f0f921"
                        ]
                      ]
                    },
                    "colorway": [
                      "#636efa",
                      "#EF553B",
                      "#00cc96",
                      "#ab63fa",
                      "#FFA15A",
                      "#19d3f3",
                      "#FF6692",
                      "#B6E880",
                      "#FF97FF",
                      "#FECB52"
                    ],
                    "font": {
                      "color": "#2a3f5f"
                    },
                    "geo": {
                      "bgcolor": "white",
                      "lakecolor": "white",
                      "landcolor": "#E5ECF6",
                      "showlakes": true,
                      "showland": true,
                      "subunitcolor": "white"
                    },
                    "hoverlabel": {
                      "align": "left"
                    },
                    "hovermode": "closest",
                    "mapbox": {
                      "style": "light"
                    },
                    "paper_bgcolor": "white",
                    "plot_bgcolor": "#E5ECF6",
                    "polar": {
                      "angularaxis": {
                        "gridcolor": "white",
                        "linecolor": "white",
                        "ticks": ""
                      },
                      "bgcolor": "#E5ECF6",
                      "radialaxis": {
                        "gridcolor": "white",
                        "linecolor": "white",
                        "ticks": ""
                      }
                    },
                    "scene": {
                      "xaxis": {
                        "backgroundcolor": "#E5ECF6",
                        "gridcolor": "white",
                        "gridwidth": 2,
                        "linecolor": "white",
                        "showbackground": true,
                        "ticks": "",
                        "zerolinecolor": "white"
                      },
                      "yaxis": {
                        "backgroundcolor": "#E5ECF6",
                        "gridcolor": "white",
                        "gridwidth": 2,
                        "linecolor": "white",
                        "showbackground": true,
                        "ticks": "",
                        "zerolinecolor": "white"
                      },
                      "zaxis": {
                        "backgroundcolor": "#E5ECF6",
                        "gridcolor": "white",
                        "gridwidth": 2,
                        "linecolor": "white",
                        "showbackground": true,
                        "ticks": "",
                        "zerolinecolor": "white"
                      }
                    },
                    "shapedefaults": {
                      "line": {
                        "color": "#2a3f5f"
                      }
                    },
                    "ternary": {
                      "aaxis": {
                        "gridcolor": "white",
                        "linecolor": "white",
                        "ticks": ""
                      },
                      "baxis": {
                        "gridcolor": "white",
                        "linecolor": "white",
                        "ticks": ""
                      },
                      "bgcolor": "#E5ECF6",
                      "caxis": {
                        "gridcolor": "white",
                        "linecolor": "white",
                        "ticks": ""
                      }
                    },
                    "title": {
                      "x": 0.05
                    },
                    "xaxis": {
                      "automargin": true,
                      "gridcolor": "white",
                      "linecolor": "white",
                      "ticks": "",
                      "title": {
                        "standoff": 15
                      },
                      "zerolinecolor": "white",
                      "zerolinewidth": 2
                    },
                    "yaxis": {
                      "automargin": true,
                      "gridcolor": "white",
                      "linecolor": "white",
                      "ticks": "",
                      "title": {
                        "standoff": 15
                      },
                      "zerolinecolor": "white",
                      "zerolinewidth": 2
                    }
                  }
                },
                "title": {
                  "text": "Média de salário anual dos profissionais de TI dos paises do G12*"
                }
              }
            }
          },
          "metadata": {},
          "output_type": "display_data"
        }
      ],
      "source": [
        "df_sv = pd.DataFrame(list(zip(country,s_av)), columns = ['Country','Average annual salary [USD]'])\n",
        "print(df_sv)\n",
        "\n",
        "fig = px.scatter_geo(df_sv, locations='Country', size='Average annual salary [USD]',color=country , projection=\"natural earth\", title=f'Média de salário anual dos profissionais de TI dos paises do G12*')\n",
        "fig.show()\n"
      ]
    }
  ],
  "metadata": {
    "interpreter": {
      "hash": "8ecffdc6c758d8d591c9db2dd61d4239b732fc0649a1249e1bcab96bc3159102"
    },
    "kernelspec": {
      "display_name": "Python 3.9.7 ('base')",
      "language": "python",
      "name": "python3"
    },
    "language_info": {
      "codemirror_mode": {
        "name": "ipython",
        "version": 3
      },
      "file_extension": ".py",
      "mimetype": "text/x-python",
      "name": "python",
      "nbconvert_exporter": "python",
      "pygments_lexer": "ipython3",
      "version": "3.9.7"
    },
    "orig_nbformat": 4,
    "colab": {
      "name": "01_salarios_g12.ipynb",
      "provenance": [],
      "include_colab_link": true
    }
  },
  "nbformat": 4,
  "nbformat_minor": 0
}