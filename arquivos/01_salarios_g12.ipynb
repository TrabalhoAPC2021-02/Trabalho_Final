{
 "cells": [
  {
   "cell_type": "code",
   "execution_count": 1,
   "metadata": {},
   "outputs": [],
   "source": [
    "#importando as bibliotecas\n",
    "\n",
    "import pandas as pd    # biblioteca utilizada para arquivos em dataframe\n",
    "import plotly.express as px # biclioteca responsável por plotar os gráficos"
   ]
  },
  {
   "cell_type": "code",
   "execution_count": 2,
   "metadata": {},
   "outputs": [],
   "source": [
    "s_av =[]   # vetor que receberá as médias salariais \n",
    "country = [] # vetor para receber o nome do país"
   ]
  },
  {
   "cell_type": "code",
   "execution_count": 3,
   "metadata": {},
   "outputs": [
    {
     "data": {
      "text/html": [
       "<div>\n",
       "<style scoped>\n",
       "    .dataframe tbody tr th:only-of-type {\n",
       "        vertical-align: middle;\n",
       "    }\n",
       "\n",
       "    .dataframe tbody tr th {\n",
       "        vertical-align: top;\n",
       "    }\n",
       "\n",
       "    .dataframe thead th {\n",
       "        text-align: right;\n",
       "    }\n",
       "</style>\n",
       "<table border=\"1\" class=\"dataframe\">\n",
       "  <thead>\n",
       "    <tr style=\"text-align: right;\">\n",
       "      <th></th>\n",
       "      <th>Survey Year</th>\n",
       "      <th>Timestamp</th>\n",
       "      <th>SalaryUSD</th>\n",
       "      <th>Country</th>\n",
       "      <th>PrimaryDatabase</th>\n",
       "      <th>YearsWithThisDatabase</th>\n",
       "      <th>OtherDatabases</th>\n",
       "      <th>EmploymentStatus</th>\n",
       "      <th>JobTitle</th>\n",
       "      <th>ManageStaff</th>\n",
       "      <th>YearsWithThisTypeOfJob</th>\n",
       "      <th>HowManyCompanies</th>\n",
       "      <th>OtherPeopleOnYourTeam</th>\n",
       "      <th>CompanyEmployeesOverall</th>\n",
       "      <th>Gender</th>\n",
       "    </tr>\n",
       "  </thead>\n",
       "  <tbody>\n",
       "    <tr>\n",
       "      <th>0</th>\n",
       "      <td>2021</td>\n",
       "      <td>2020-12-10 08:22:42.696</td>\n",
       "      <td>65000.0</td>\n",
       "      <td>Sweden</td>\n",
       "      <td>Microsoft SQL Server</td>\n",
       "      <td>4</td>\n",
       "      <td>Microsoft SQL Server</td>\n",
       "      <td>Full time employee</td>\n",
       "      <td>Developer: Business Intelligence (SSRS, PowerB...</td>\n",
       "      <td>Yes</td>\n",
       "      <td>4</td>\n",
       "      <td>1 (this is the only company where I've had thi...</td>\n",
       "      <td>None</td>\n",
       "      <td>2</td>\n",
       "      <td>Male</td>\n",
       "    </tr>\n",
       "    <tr>\n",
       "      <th>1</th>\n",
       "      <td>2021</td>\n",
       "      <td>2020-12-10 08:23:22.242</td>\n",
       "      <td>145000.0</td>\n",
       "      <td>United States</td>\n",
       "      <td>Microsoft SQL Server</td>\n",
       "      <td>15</td>\n",
       "      <td>Azure SQL DB (any flavor)</td>\n",
       "      <td>Full time employee</td>\n",
       "      <td>DBA (Production Focus - build &amp; troubleshoot s...</td>\n",
       "      <td>No</td>\n",
       "      <td>25</td>\n",
       "      <td>5</td>\n",
       "      <td>None</td>\n",
       "      <td>74</td>\n",
       "      <td>Male</td>\n",
       "    </tr>\n",
       "    <tr>\n",
       "      <th>2</th>\n",
       "      <td>2021</td>\n",
       "      <td>2020-12-10 08:23:37.909</td>\n",
       "      <td>105000.0</td>\n",
       "      <td>United States</td>\n",
       "      <td>Microsoft SQL Server</td>\n",
       "      <td>12</td>\n",
       "      <td>PostgreSQL, Azure SQL DB (any flavor)</td>\n",
       "      <td>Full time employee</td>\n",
       "      <td>DBA (General - splits time evenly between writ...</td>\n",
       "      <td>Yes</td>\n",
       "      <td>6</td>\n",
       "      <td>4</td>\n",
       "      <td>1</td>\n",
       "      <td>500</td>\n",
       "      <td>Male</td>\n",
       "    </tr>\n",
       "    <tr>\n",
       "      <th>3</th>\n",
       "      <td>2021</td>\n",
       "      <td>2020-12-10 08:23:48.152</td>\n",
       "      <td>46482.0</td>\n",
       "      <td>United Kingdom</td>\n",
       "      <td>Microsoft SQL Server</td>\n",
       "      <td>10</td>\n",
       "      <td>Azure SQL DB (any flavor)</td>\n",
       "      <td>Full time employee</td>\n",
       "      <td>DBA (Production Focus - build &amp; troubleshoot s...</td>\n",
       "      <td>No</td>\n",
       "      <td>5</td>\n",
       "      <td>2 (I worked at another similar position elsewh...</td>\n",
       "      <td>None</td>\n",
       "      <td>35</td>\n",
       "      <td>Male</td>\n",
       "    </tr>\n",
       "    <tr>\n",
       "      <th>4</th>\n",
       "      <td>2021</td>\n",
       "      <td>2020-12-10 08:24:03.600</td>\n",
       "      <td>98800.0</td>\n",
       "      <td>United States</td>\n",
       "      <td>Microsoft SQL Server</td>\n",
       "      <td>5</td>\n",
       "      <td>DB2</td>\n",
       "      <td>Full time employee</td>\n",
       "      <td>Developer: Business Intelligence (SSRS, PowerB...</td>\n",
       "      <td>No</td>\n",
       "      <td>5</td>\n",
       "      <td>1 (this is the only company where I've had thi...</td>\n",
       "      <td>None</td>\n",
       "      <td>50</td>\n",
       "      <td>Male</td>\n",
       "    </tr>\n",
       "  </tbody>\n",
       "</table>\n",
       "</div>"
      ],
      "text/plain": [
       "   Survey Year               Timestamp  SalaryUSD         Country  \\\n",
       "0         2021 2020-12-10 08:22:42.696    65000.0          Sweden   \n",
       "1         2021 2020-12-10 08:23:22.242   145000.0   United States   \n",
       "2         2021 2020-12-10 08:23:37.909   105000.0   United States   \n",
       "3         2021 2020-12-10 08:23:48.152    46482.0  United Kingdom   \n",
       "4         2021 2020-12-10 08:24:03.600    98800.0   United States   \n",
       "\n",
       "        PrimaryDatabase  YearsWithThisDatabase  \\\n",
       "0  Microsoft SQL Server                      4   \n",
       "1  Microsoft SQL Server                     15   \n",
       "2  Microsoft SQL Server                     12   \n",
       "3  Microsoft SQL Server                     10   \n",
       "4  Microsoft SQL Server                      5   \n",
       "\n",
       "                          OtherDatabases    EmploymentStatus  \\\n",
       "0                   Microsoft SQL Server  Full time employee   \n",
       "1              Azure SQL DB (any flavor)  Full time employee   \n",
       "2  PostgreSQL, Azure SQL DB (any flavor)  Full time employee   \n",
       "3              Azure SQL DB (any flavor)  Full time employee   \n",
       "4                                    DB2  Full time employee   \n",
       "\n",
       "                                            JobTitle ManageStaff  \\\n",
       "0  Developer: Business Intelligence (SSRS, PowerB...         Yes   \n",
       "1  DBA (Production Focus - build & troubleshoot s...          No   \n",
       "2  DBA (General - splits time evenly between writ...         Yes   \n",
       "3  DBA (Production Focus - build & troubleshoot s...          No   \n",
       "4  Developer: Business Intelligence (SSRS, PowerB...          No   \n",
       "\n",
       "   YearsWithThisTypeOfJob                                   HowManyCompanies  \\\n",
       "0                       4  1 (this is the only company where I've had thi...   \n",
       "1                      25                                                  5   \n",
       "2                       6                                                  4   \n",
       "3                       5  2 (I worked at another similar position elsewh...   \n",
       "4                       5  1 (this is the only company where I've had thi...   \n",
       "\n",
       "  OtherPeopleOnYourTeam CompanyEmployeesOverall Gender  \n",
       "0                  None                       2   Male  \n",
       "1                  None                      74   Male  \n",
       "2                     1                     500   Male  \n",
       "3                  None                      35   Male  \n",
       "4                  None                      50   Male  "
      ]
     },
     "execution_count": 3,
     "metadata": {},
     "output_type": "execute_result"
    }
   ],
   "source": [
    "#Criando dataframe através da leitura da planilha em excel\n",
    "df = pd.read_excel('Data_Professional_full.xlsx')\n",
    "df.head()"
   ]
  },
  {
   "cell_type": "code",
   "execution_count": 4,
   "metadata": {},
   "outputs": [],
   "source": [
    "#Selecionando os dados dos USA com slários de 2017 a 2021\n",
    "\n",
    "df_usa = df[df['Country'] == 'United States'] \n",
    "salary_usa = df_usa['SalaryUSD'].tolist() # tranformando o dataframe dos usa  com salarios de 2017 a 2021 em lista.\n",
    "\n",
    "#utilização de um laço for para calcular média dos salários dos USA \n",
    "\n",
    "soma_sal_usa = 0\n",
    "\n",
    "for i in range (len(salary_usa)):\n",
    "    soma_sal_usa = soma_sal_usa + salary_usa[i]\n",
    "av_usa = soma_sal_usa/len(salary_usa)\n",
    "\n",
    "s_av.append(av_usa)    # recebendo a media salarial\n",
    "country.append('USA')  # recebendo o código do país"
   ]
  },
  {
   "cell_type": "code",
   "execution_count": 5,
   "metadata": {},
   "outputs": [],
   "source": [
    "#Selecionando os dados dq China com slários de 2017 a 2021\n",
    "\n",
    "df_china = df[df['Country'] == 'China'] \n",
    "salary_china = df_china['SalaryUSD'].tolist() # tranformando o dataframe da china com salarios de 2017 a 2021 em lista.\n",
    "\n",
    "#utilização de um laço for para calcular média dos salários da china \n",
    "\n",
    "soma_sal_china = 0\n",
    "\n",
    "for i in range (len(salary_china)):\n",
    "    soma_sal_china = soma_sal_china + salary_china[i]\n",
    "av_china = soma_sal_china/len(salary_china)\n",
    "s_av.append(av_china)\n",
    "country.append('CHN')"
   ]
  },
  {
   "cell_type": "code",
   "execution_count": 6,
   "metadata": {},
   "outputs": [],
   "source": [
    "#Selecionando os dados da Alemanha com slários de 2017 a 2021\n",
    "\n",
    "df_alemanha = df[df['Country'] == 'Germany'] \n",
    "salary_alemanha = df_alemanha['SalaryUSD'].tolist() # tranformando o dataframe da Alemanha com salarios de 2017 a 2021 em lista.\n",
    "\n",
    "#utilização de um laço for para calcular média dos salários da Alemanha\n",
    "\n",
    "soma_sal_alemanha = 0\n",
    "\n",
    "for i in range (len(salary_alemanha)):\n",
    "    soma_sal_alemanha = soma_sal_alemanha + salary_alemanha[i]\n",
    "av_alemanha = soma_sal_alemanha/len(salary_alemanha)\n",
    "s_av.append(av_alemanha)\n",
    "country.append('DEU')"
   ]
  },
  {
   "cell_type": "code",
   "execution_count": 7,
   "metadata": {},
   "outputs": [],
   "source": [
    "#Selecionando os dados do Reino unido com slários de 2017 a 2021\n",
    "\n",
    "df_uk = df[df['Country'] == 'United Kingdom'] \n",
    "salary_uk = df_uk['SalaryUSD'].tolist() # tranformando o dataframe do reino unido com salarios de 2017 a 2021 em lista.\n",
    "\n",
    "#utilização de um laço for para calcular média dos salários do Reino Unido.\n",
    "\n",
    "soma_sal_uk = 0\n",
    "\n",
    "for i in range (len(salary_uk)):\n",
    "    soma_sal_uk = soma_sal_uk + salary_uk[i]\n",
    "av_uk = soma_sal_uk/len(salary_uk)\n",
    "s_av.append(av_uk)\n",
    "country.append('GBR')"
   ]
  },
  {
   "cell_type": "code",
   "execution_count": 8,
   "metadata": {},
   "outputs": [],
   "source": [
    "#Selecionando os dados da Índia com slários de 2017 a 2021\n",
    "\n",
    "df_india = df[df['Country'] == 'India'] \n",
    "salary_india = df_india['SalaryUSD'].tolist() # tranformando o dataframe da India com salarios de 2017 a 2021 em lista.\n",
    "\n",
    "#utilização de um laço for para calcular média dos salários da India.\n",
    "\n",
    "soma_sal_india = 0\n",
    "\n",
    "for i in range (len(salary_india)):\n",
    "    soma_sal_india = soma_sal_india + salary_india[i]\n",
    "av_india = soma_sal_india/len(salary_india)\n",
    "s_av.append(av_india)\n",
    "country.append('IND')"
   ]
  },
  {
   "cell_type": "code",
   "execution_count": 9,
   "metadata": {},
   "outputs": [],
   "source": [
    "#Selecionando os dados da França com slários de 2017 a 2021\n",
    "\n",
    "df_france = df[df['Country'] == 'France'] \n",
    "salary_france = df_france['SalaryUSD'].tolist() # tranformando o dataframe da França com salarios de 2017 a 2021 em lista.\n",
    "\n",
    "#utilização de um laço for para calcular média dos salários da França.\n",
    "\n",
    "soma_sal_france = 0\n",
    "\n",
    "for i in range (len(salary_france)):\n",
    "    soma_sal_france = soma_sal_france + salary_france[i]\n",
    "av_france = soma_sal_france/len(salary_france)\n",
    "s_av.append(av_france)\n",
    "country.append('FRA')"
   ]
  },
  {
   "cell_type": "code",
   "execution_count": 10,
   "metadata": {},
   "outputs": [],
   "source": [
    "#Selecionando os dados da Itália com slários de 2017 a 2021\n",
    "\n",
    "df_italia = df[df['Country'] == 'Italy'] \n",
    "salary_italia = df_italia['SalaryUSD'].tolist() # tranformando o dataframe da Itália com salarios de 2017 a 2021 em lista.\n",
    "\n",
    "#utilização de um laço for para calcular média dos salários da Itália.\n",
    "\n",
    "soma_sal_italia = 0\n",
    "\n",
    "for i in range (len(salary_italia)):\n",
    "    soma_sal_italia = soma_sal_italia + salary_italia[i]\n",
    "av_italia = soma_sal_italia/len(salary_italia)\n",
    "s_av.append(av_italia)\n",
    "country.append('ITA')"
   ]
  },
  {
   "cell_type": "code",
   "execution_count": 11,
   "metadata": {},
   "outputs": [],
   "source": [
    "#Selecionando os dados da Canadá com slários de 2017 a 2021\n",
    "\n",
    "df_canada = df[df['Country'] == 'Canada'] \n",
    "salary_canada = df_canada['SalaryUSD'].tolist() # tranformando o dataframe do Canadá com salarios de 2017 a 2021 em lista.\n",
    "\n",
    "#utilização de um laço for para calcular média dos salários do Canadá.\n",
    "\n",
    "soma_sal_canada = 0\n",
    "\n",
    "for i in range (len(salary_canada)):\n",
    "    soma_sal_canada = soma_sal_canada + salary_canada[i]\n",
    "av_canada = soma_sal_canada/len(salary_canada)\n",
    "s_av.append(av_canada)\n",
    "country.append('CAN')"
   ]
  },
  {
   "cell_type": "code",
   "execution_count": 12,
   "metadata": {},
   "outputs": [],
   "source": [
    "#Selecionando os dados da Russia com slários de 2017 a 2021\n",
    "\n",
    "df_russia = df[df['Country'] == 'Russia'] \n",
    "salary_russia = df_russia['SalaryUSD'].tolist() # tranformando o dataframe do Russia com salarios de 2017 a 2021 em lista.\n",
    "\n",
    "#utilização de um laço for para calcular média dos salários do Russia.\n",
    "\n",
    "soma_sal_russia = 0\n",
    "\n",
    "for i in range (len(salary_russia)):\n",
    "    soma_sal_russia = soma_sal_russia + salary_russia[i]\n",
    "av_russia = soma_sal_russia/len(salary_russia)\n",
    "s_av.append(av_russia)\n",
    "country.append('RUS')"
   ]
  },
  {
   "cell_type": "code",
   "execution_count": 13,
   "metadata": {},
   "outputs": [],
   "source": [
    "#Selecionando os dados do Brasil com slários de 2017 a 2021\n",
    "\n",
    "df_br = df[df['Country'] == 'Brazil'] \n",
    "salary_br = df_br['SalaryUSD'].tolist() # tranformando o dataframe do Brasil com salarios de 2017 a 2021 em lista.\n",
    "\n",
    "#utilização de um laço for para calcular média dos salários do Brasil.\n",
    "\n",
    "soma_sal_br = 0\n",
    "\n",
    "for i in range (len(salary_br)):\n",
    "    soma_sal_br = soma_sal_br + salary_br[i]\n",
    "av_br = soma_sal_br/len(salary_br)\n",
    "s_av.append(av_br)\n",
    "country.append('BRA')"
   ]
  },
  {
   "cell_type": "code",
   "execution_count": 14,
   "metadata": {},
   "outputs": [],
   "source": [
    "#Selecionando os dados da Austrália com slários de 2017 a 2021\n",
    "\n",
    "df_australia = df[df['Country'] == 'Australia'] \n",
    "salary_australia = df_australia['SalaryUSD'].tolist() # tranformando o dataframe do Austrália com salarios de 2017 a 2021 em lista.\n",
    "\n",
    "#utilização de um laço for para calcular média dos salários da Austrália.\n",
    "\n",
    "soma_sal_australia = 0\n",
    "\n",
    "for i in range (len(salary_australia)):\n",
    "    soma_sal_australia = soma_sal_australia + salary_australia[i]\n",
    "av_australia = soma_sal_australia/len(salary_australia)\n",
    "s_av.append(av_australia)\n",
    "country.append('AUS')"
   ]
  },
  {
   "cell_type": "code",
   "execution_count": 15,
   "metadata": {},
   "outputs": [],
   "source": [
    "#Selecionando os dados da Africa do sul com slários de 2017 a 2021\n",
    "\n",
    "df_africasul = df[df['Country'] == 'South Africa'] \n",
    "salary_africasul = df_africasul['SalaryUSD'].tolist() # tranformando o dataframe da Africa do Sul com salarios de 2017 a 2021 em lista.\n",
    "\n",
    "#utilização de um laço for para calcular média dos salários da africa do sul.\n",
    "\n",
    "soma_sal_africasul = 0\n",
    "\n",
    "for i in range (len(salary_africasul)):\n",
    "    soma_sal_africasul = soma_sal_africasul + salary_africasul[i]\n",
    "av_africasul = soma_sal_africasul/len(salary_africasul)\n",
    "s_av.append(av_africasul)\n",
    "country.append('ZAF')"
   ]
  },
  {
   "cell_type": "code",
   "execution_count": 16,
   "metadata": {},
   "outputs": [
    {
     "name": "stdout",
     "output_type": "stream",
     "text": [
      "[109589.19568973115, 57333.333333333336, 79777.56, 66656.69426124198, 32729.870467836256, 60625.75, 48795.11255319149, 80342.5001058201, 27639.916666666668, 27996.75, 93446.25709803922, 55847.116341463414]\n",
      "['USA', 'CHN', 'DEU', 'GBR', 'IND', 'FRA', 'ITA', 'CAN', 'RUS', 'BRA', 'AUS', 'ZAF']\n"
     ]
    }
   ],
   "source": [
    "print(s_av)\n",
    "print(country)"
   ]
  },
  {
   "cell_type": "code",
   "execution_count": 18,
   "metadata": {},
   "outputs": [
    {
     "data": {
      "application/vnd.plotly.v1+json": {
       "config": {
        "plotlyServerURL": "https://plot.ly"
       },
       "data": [
        {
         "alignmentgroup": "True",
         "hovertemplate": "x=%{x}<br>y=%{y}<extra></extra>",
         "legendgroup": "",
         "marker": {
          "color": "#636efa",
          "pattern": {
           "shape": ""
          }
         },
         "name": "",
         "offsetgroup": "",
         "orientation": "v",
         "showlegend": false,
         "textposition": "auto",
         "type": "bar",
         "x": [
          "USA",
          "CHN",
          "DEU",
          "GBR",
          "IND",
          "FRA",
          "ITA",
          "CAN",
          "RUS",
          "BRA",
          "AUS",
          "ZAF"
         ],
         "xaxis": "x",
         "y": [
          109589.19568973115,
          57333.333333333336,
          79777.56,
          66656.69426124198,
          32729.870467836256,
          60625.75,
          48795.11255319149,
          80342.5001058201,
          27639.916666666668,
          27996.75,
          93446.25709803922,
          55847.116341463414
         ],
         "yaxis": "y"
        }
       ],
       "layout": {
        "barmode": "relative",
        "legend": {
         "tracegroupgap": 0
        },
        "template": {
         "data": {
          "bar": [
           {
            "error_x": {
             "color": "#2a3f5f"
            },
            "error_y": {
             "color": "#2a3f5f"
            },
            "marker": {
             "line": {
              "color": "#E5ECF6",
              "width": 0.5
             },
             "pattern": {
              "fillmode": "overlay",
              "size": 10,
              "solidity": 0.2
             }
            },
            "type": "bar"
           }
          ],
          "barpolar": [
           {
            "marker": {
             "line": {
              "color": "#E5ECF6",
              "width": 0.5
             },
             "pattern": {
              "fillmode": "overlay",
              "size": 10,
              "solidity": 0.2
             }
            },
            "type": "barpolar"
           }
          ],
          "carpet": [
           {
            "aaxis": {
             "endlinecolor": "#2a3f5f",
             "gridcolor": "white",
             "linecolor": "white",
             "minorgridcolor": "white",
             "startlinecolor": "#2a3f5f"
            },
            "baxis": {
             "endlinecolor": "#2a3f5f",
             "gridcolor": "white",
             "linecolor": "white",
             "minorgridcolor": "white",
             "startlinecolor": "#2a3f5f"
            },
            "type": "carpet"
           }
          ],
          "choropleth": [
           {
            "colorbar": {
             "outlinewidth": 0,
             "ticks": ""
            },
            "type": "choropleth"
           }
          ],
          "contour": [
           {
            "colorbar": {
             "outlinewidth": 0,
             "ticks": ""
            },
            "colorscale": [
             [
              0,
              "#0d0887"
             ],
             [
              0.1111111111111111,
              "#46039f"
             ],
             [
              0.2222222222222222,
              "#7201a8"
             ],
             [
              0.3333333333333333,
              "#9c179e"
             ],
             [
              0.4444444444444444,
              "#bd3786"
             ],
             [
              0.5555555555555556,
              "#d8576b"
             ],
             [
              0.6666666666666666,
              "#ed7953"
             ],
             [
              0.7777777777777778,
              "#fb9f3a"
             ],
             [
              0.8888888888888888,
              "#fdca26"
             ],
             [
              1,
              "#f0f921"
             ]
            ],
            "type": "contour"
           }
          ],
          "contourcarpet": [
           {
            "colorbar": {
             "outlinewidth": 0,
             "ticks": ""
            },
            "type": "contourcarpet"
           }
          ],
          "heatmap": [
           {
            "colorbar": {
             "outlinewidth": 0,
             "ticks": ""
            },
            "colorscale": [
             [
              0,
              "#0d0887"
             ],
             [
              0.1111111111111111,
              "#46039f"
             ],
             [
              0.2222222222222222,
              "#7201a8"
             ],
             [
              0.3333333333333333,
              "#9c179e"
             ],
             [
              0.4444444444444444,
              "#bd3786"
             ],
             [
              0.5555555555555556,
              "#d8576b"
             ],
             [
              0.6666666666666666,
              "#ed7953"
             ],
             [
              0.7777777777777778,
              "#fb9f3a"
             ],
             [
              0.8888888888888888,
              "#fdca26"
             ],
             [
              1,
              "#f0f921"
             ]
            ],
            "type": "heatmap"
           }
          ],
          "heatmapgl": [
           {
            "colorbar": {
             "outlinewidth": 0,
             "ticks": ""
            },
            "colorscale": [
             [
              0,
              "#0d0887"
             ],
             [
              0.1111111111111111,
              "#46039f"
             ],
             [
              0.2222222222222222,
              "#7201a8"
             ],
             [
              0.3333333333333333,
              "#9c179e"
             ],
             [
              0.4444444444444444,
              "#bd3786"
             ],
             [
              0.5555555555555556,
              "#d8576b"
             ],
             [
              0.6666666666666666,
              "#ed7953"
             ],
             [
              0.7777777777777778,
              "#fb9f3a"
             ],
             [
              0.8888888888888888,
              "#fdca26"
             ],
             [
              1,
              "#f0f921"
             ]
            ],
            "type": "heatmapgl"
           }
          ],
          "histogram": [
           {
            "marker": {
             "pattern": {
              "fillmode": "overlay",
              "size": 10,
              "solidity": 0.2
             }
            },
            "type": "histogram"
           }
          ],
          "histogram2d": [
           {
            "colorbar": {
             "outlinewidth": 0,
             "ticks": ""
            },
            "colorscale": [
             [
              0,
              "#0d0887"
             ],
             [
              0.1111111111111111,
              "#46039f"
             ],
             [
              0.2222222222222222,
              "#7201a8"
             ],
             [
              0.3333333333333333,
              "#9c179e"
             ],
             [
              0.4444444444444444,
              "#bd3786"
             ],
             [
              0.5555555555555556,
              "#d8576b"
             ],
             [
              0.6666666666666666,
              "#ed7953"
             ],
             [
              0.7777777777777778,
              "#fb9f3a"
             ],
             [
              0.8888888888888888,
              "#fdca26"
             ],
             [
              1,
              "#f0f921"
             ]
            ],
            "type": "histogram2d"
           }
          ],
          "histogram2dcontour": [
           {
            "colorbar": {
             "outlinewidth": 0,
             "ticks": ""
            },
            "colorscale": [
             [
              0,
              "#0d0887"
             ],
             [
              0.1111111111111111,
              "#46039f"
             ],
             [
              0.2222222222222222,
              "#7201a8"
             ],
             [
              0.3333333333333333,
              "#9c179e"
             ],
             [
              0.4444444444444444,
              "#bd3786"
             ],
             [
              0.5555555555555556,
              "#d8576b"
             ],
             [
              0.6666666666666666,
              "#ed7953"
             ],
             [
              0.7777777777777778,
              "#fb9f3a"
             ],
             [
              0.8888888888888888,
              "#fdca26"
             ],
             [
              1,
              "#f0f921"
             ]
            ],
            "type": "histogram2dcontour"
           }
          ],
          "mesh3d": [
           {
            "colorbar": {
             "outlinewidth": 0,
             "ticks": ""
            },
            "type": "mesh3d"
           }
          ],
          "parcoords": [
           {
            "line": {
             "colorbar": {
              "outlinewidth": 0,
              "ticks": ""
             }
            },
            "type": "parcoords"
           }
          ],
          "pie": [
           {
            "automargin": true,
            "type": "pie"
           }
          ],
          "scatter": [
           {
            "marker": {
             "colorbar": {
              "outlinewidth": 0,
              "ticks": ""
             }
            },
            "type": "scatter"
           }
          ],
          "scatter3d": [
           {
            "line": {
             "colorbar": {
              "outlinewidth": 0,
              "ticks": ""
             }
            },
            "marker": {
             "colorbar": {
              "outlinewidth": 0,
              "ticks": ""
             }
            },
            "type": "scatter3d"
           }
          ],
          "scattercarpet": [
           {
            "marker": {
             "colorbar": {
              "outlinewidth": 0,
              "ticks": ""
             }
            },
            "type": "scattercarpet"
           }
          ],
          "scattergeo": [
           {
            "marker": {
             "colorbar": {
              "outlinewidth": 0,
              "ticks": ""
             }
            },
            "type": "scattergeo"
           }
          ],
          "scattergl": [
           {
            "marker": {
             "colorbar": {
              "outlinewidth": 0,
              "ticks": ""
             }
            },
            "type": "scattergl"
           }
          ],
          "scattermapbox": [
           {
            "marker": {
             "colorbar": {
              "outlinewidth": 0,
              "ticks": ""
             }
            },
            "type": "scattermapbox"
           }
          ],
          "scatterpolar": [
           {
            "marker": {
             "colorbar": {
              "outlinewidth": 0,
              "ticks": ""
             }
            },
            "type": "scatterpolar"
           }
          ],
          "scatterpolargl": [
           {
            "marker": {
             "colorbar": {
              "outlinewidth": 0,
              "ticks": ""
             }
            },
            "type": "scatterpolargl"
           }
          ],
          "scatterternary": [
           {
            "marker": {
             "colorbar": {
              "outlinewidth": 0,
              "ticks": ""
             }
            },
            "type": "scatterternary"
           }
          ],
          "surface": [
           {
            "colorbar": {
             "outlinewidth": 0,
             "ticks": ""
            },
            "colorscale": [
             [
              0,
              "#0d0887"
             ],
             [
              0.1111111111111111,
              "#46039f"
             ],
             [
              0.2222222222222222,
              "#7201a8"
             ],
             [
              0.3333333333333333,
              "#9c179e"
             ],
             [
              0.4444444444444444,
              "#bd3786"
             ],
             [
              0.5555555555555556,
              "#d8576b"
             ],
             [
              0.6666666666666666,
              "#ed7953"
             ],
             [
              0.7777777777777778,
              "#fb9f3a"
             ],
             [
              0.8888888888888888,
              "#fdca26"
             ],
             [
              1,
              "#f0f921"
             ]
            ],
            "type": "surface"
           }
          ],
          "table": [
           {
            "cells": {
             "fill": {
              "color": "#EBF0F8"
             },
             "line": {
              "color": "white"
             }
            },
            "header": {
             "fill": {
              "color": "#C8D4E3"
             },
             "line": {
              "color": "white"
             }
            },
            "type": "table"
           }
          ]
         },
         "layout": {
          "annotationdefaults": {
           "arrowcolor": "#2a3f5f",
           "arrowhead": 0,
           "arrowwidth": 1
          },
          "autotypenumbers": "strict",
          "coloraxis": {
           "colorbar": {
            "outlinewidth": 0,
            "ticks": ""
           }
          },
          "colorscale": {
           "diverging": [
            [
             0,
             "#8e0152"
            ],
            [
             0.1,
             "#c51b7d"
            ],
            [
             0.2,
             "#de77ae"
            ],
            [
             0.3,
             "#f1b6da"
            ],
            [
             0.4,
             "#fde0ef"
            ],
            [
             0.5,
             "#f7f7f7"
            ],
            [
             0.6,
             "#e6f5d0"
            ],
            [
             0.7,
             "#b8e186"
            ],
            [
             0.8,
             "#7fbc41"
            ],
            [
             0.9,
             "#4d9221"
            ],
            [
             1,
             "#276419"
            ]
           ],
           "sequential": [
            [
             0,
             "#0d0887"
            ],
            [
             0.1111111111111111,
             "#46039f"
            ],
            [
             0.2222222222222222,
             "#7201a8"
            ],
            [
             0.3333333333333333,
             "#9c179e"
            ],
            [
             0.4444444444444444,
             "#bd3786"
            ],
            [
             0.5555555555555556,
             "#d8576b"
            ],
            [
             0.6666666666666666,
             "#ed7953"
            ],
            [
             0.7777777777777778,
             "#fb9f3a"
            ],
            [
             0.8888888888888888,
             "#fdca26"
            ],
            [
             1,
             "#f0f921"
            ]
           ],
           "sequentialminus": [
            [
             0,
             "#0d0887"
            ],
            [
             0.1111111111111111,
             "#46039f"
            ],
            [
             0.2222222222222222,
             "#7201a8"
            ],
            [
             0.3333333333333333,
             "#9c179e"
            ],
            [
             0.4444444444444444,
             "#bd3786"
            ],
            [
             0.5555555555555556,
             "#d8576b"
            ],
            [
             0.6666666666666666,
             "#ed7953"
            ],
            [
             0.7777777777777778,
             "#fb9f3a"
            ],
            [
             0.8888888888888888,
             "#fdca26"
            ],
            [
             1,
             "#f0f921"
            ]
           ]
          },
          "colorway": [
           "#636efa",
           "#EF553B",
           "#00cc96",
           "#ab63fa",
           "#FFA15A",
           "#19d3f3",
           "#FF6692",
           "#B6E880",
           "#FF97FF",
           "#FECB52"
          ],
          "font": {
           "color": "#2a3f5f"
          },
          "geo": {
           "bgcolor": "white",
           "lakecolor": "white",
           "landcolor": "#E5ECF6",
           "showlakes": true,
           "showland": true,
           "subunitcolor": "white"
          },
          "hoverlabel": {
           "align": "left"
          },
          "hovermode": "closest",
          "mapbox": {
           "style": "light"
          },
          "paper_bgcolor": "white",
          "plot_bgcolor": "#E5ECF6",
          "polar": {
           "angularaxis": {
            "gridcolor": "white",
            "linecolor": "white",
            "ticks": ""
           },
           "bgcolor": "#E5ECF6",
           "radialaxis": {
            "gridcolor": "white",
            "linecolor": "white",
            "ticks": ""
           }
          },
          "scene": {
           "xaxis": {
            "backgroundcolor": "#E5ECF6",
            "gridcolor": "white",
            "gridwidth": 2,
            "linecolor": "white",
            "showbackground": true,
            "ticks": "",
            "zerolinecolor": "white"
           },
           "yaxis": {
            "backgroundcolor": "#E5ECF6",
            "gridcolor": "white",
            "gridwidth": 2,
            "linecolor": "white",
            "showbackground": true,
            "ticks": "",
            "zerolinecolor": "white"
           },
           "zaxis": {
            "backgroundcolor": "#E5ECF6",
            "gridcolor": "white",
            "gridwidth": 2,
            "linecolor": "white",
            "showbackground": true,
            "ticks": "",
            "zerolinecolor": "white"
           }
          },
          "shapedefaults": {
           "line": {
            "color": "#2a3f5f"
           }
          },
          "ternary": {
           "aaxis": {
            "gridcolor": "white",
            "linecolor": "white",
            "ticks": ""
           },
           "baxis": {
            "gridcolor": "white",
            "linecolor": "white",
            "ticks": ""
           },
           "bgcolor": "#E5ECF6",
           "caxis": {
            "gridcolor": "white",
            "linecolor": "white",
            "ticks": ""
           }
          },
          "title": {
           "x": 0.05
          },
          "xaxis": {
           "automargin": true,
           "gridcolor": "white",
           "linecolor": "white",
           "ticks": "",
           "title": {
            "standoff": 15
           },
           "zerolinecolor": "white",
           "zerolinewidth": 2
          },
          "yaxis": {
           "automargin": true,
           "gridcolor": "white",
           "linecolor": "white",
           "ticks": "",
           "title": {
            "standoff": 15
           },
           "zerolinecolor": "white",
           "zerolinewidth": 2
          }
         }
        },
        "title": {
         "text": "Average"
        },
        "xaxis": {
         "anchor": "y",
         "domain": [
          0,
          1
         ],
         "title": {
          "text": "Country"
         }
        },
        "yaxis": {
         "anchor": "x",
         "domain": [
          0,
          1
         ],
         "title": {
          "text": "Average annual salary [USD]"
         }
        }
       }
      }
     },
     "metadata": {},
     "output_type": "display_data"
    }
   ],
   "source": [
    "#Método 2 para criar o gráfico, através da combinação dos vetores criados no início.\n",
    "fig = px.bar(x=country, y=s_av, title='Average')\n",
    "fig.update_xaxes(title='Country')\n",
    "fig.update_yaxes(title='Average annual salary [USD]')\n",
    "fig.show()"
   ]
  },
  {
   "cell_type": "code",
   "execution_count": 22,
   "metadata": {},
   "outputs": [
    {
     "name": "stdout",
     "output_type": "stream",
     "text": [
      "   Country  Average annual salary [USD]\n",
      "0      USA                109589.195690\n",
      "1      CHN                 57333.333333\n",
      "2      DEU                 79777.560000\n",
      "3      GBR                 66656.694261\n",
      "4      IND                 32729.870468\n",
      "5      FRA                 60625.750000\n",
      "6      ITA                 48795.112553\n",
      "7      CAN                 80342.500106\n",
      "8      RUS                 27639.916667\n",
      "9      BRA                 27996.750000\n",
      "10     AUS                 93446.257098\n",
      "11     ZAF                 55847.116341\n"
     ]
    },
    {
     "data": {
      "application/vnd.plotly.v1+json": {
       "config": {
        "plotlyServerURL": "https://plot.ly"
       },
       "data": [
        {
         "geo": "geo",
         "hovertemplate": "color=USA<br>Average annual salary [USD]=%{marker.size}<br>Country=%{location}<extra></extra>",
         "legendgroup": "USA",
         "locations": [
          "USA"
         ],
         "marker": {
          "color": "#636efa",
          "size": [
           109589.19568973115
          ],
          "sizemode": "area",
          "sizeref": 273.9729892243279,
          "symbol": "circle"
         },
         "mode": "markers",
         "name": "USA",
         "showlegend": true,
         "type": "scattergeo"
        },
        {
         "geo": "geo",
         "hovertemplate": "color=CHN<br>Average annual salary [USD]=%{marker.size}<br>Country=%{location}<extra></extra>",
         "legendgroup": "CHN",
         "locations": [
          "CHN"
         ],
         "marker": {
          "color": "#EF553B",
          "size": [
           57333.333333333336
          ],
          "sizemode": "area",
          "sizeref": 273.9729892243279,
          "symbol": "circle"
         },
         "mode": "markers",
         "name": "CHN",
         "showlegend": true,
         "type": "scattergeo"
        },
        {
         "geo": "geo",
         "hovertemplate": "color=DEU<br>Average annual salary [USD]=%{marker.size}<br>Country=%{location}<extra></extra>",
         "legendgroup": "DEU",
         "locations": [
          "DEU"
         ],
         "marker": {
          "color": "#00cc96",
          "size": [
           79777.56
          ],
          "sizemode": "area",
          "sizeref": 273.9729892243279,
          "symbol": "circle"
         },
         "mode": "markers",
         "name": "DEU",
         "showlegend": true,
         "type": "scattergeo"
        },
        {
         "geo": "geo",
         "hovertemplate": "color=GBR<br>Average annual salary [USD]=%{marker.size}<br>Country=%{location}<extra></extra>",
         "legendgroup": "GBR",
         "locations": [
          "GBR"
         ],
         "marker": {
          "color": "#ab63fa",
          "size": [
           66656.69426124198
          ],
          "sizemode": "area",
          "sizeref": 273.9729892243279,
          "symbol": "circle"
         },
         "mode": "markers",
         "name": "GBR",
         "showlegend": true,
         "type": "scattergeo"
        },
        {
         "geo": "geo",
         "hovertemplate": "color=IND<br>Average annual salary [USD]=%{marker.size}<br>Country=%{location}<extra></extra>",
         "legendgroup": "IND",
         "locations": [
          "IND"
         ],
         "marker": {
          "color": "#FFA15A",
          "size": [
           32729.870467836256
          ],
          "sizemode": "area",
          "sizeref": 273.9729892243279,
          "symbol": "circle"
         },
         "mode": "markers",
         "name": "IND",
         "showlegend": true,
         "type": "scattergeo"
        },
        {
         "geo": "geo",
         "hovertemplate": "color=FRA<br>Average annual salary [USD]=%{marker.size}<br>Country=%{location}<extra></extra>",
         "legendgroup": "FRA",
         "locations": [
          "FRA"
         ],
         "marker": {
          "color": "#19d3f3",
          "size": [
           60625.75
          ],
          "sizemode": "area",
          "sizeref": 273.9729892243279,
          "symbol": "circle"
         },
         "mode": "markers",
         "name": "FRA",
         "showlegend": true,
         "type": "scattergeo"
        },
        {
         "geo": "geo",
         "hovertemplate": "color=ITA<br>Average annual salary [USD]=%{marker.size}<br>Country=%{location}<extra></extra>",
         "legendgroup": "ITA",
         "locations": [
          "ITA"
         ],
         "marker": {
          "color": "#FF6692",
          "size": [
           48795.11255319149
          ],
          "sizemode": "area",
          "sizeref": 273.9729892243279,
          "symbol": "circle"
         },
         "mode": "markers",
         "name": "ITA",
         "showlegend": true,
         "type": "scattergeo"
        },
        {
         "geo": "geo",
         "hovertemplate": "color=CAN<br>Average annual salary [USD]=%{marker.size}<br>Country=%{location}<extra></extra>",
         "legendgroup": "CAN",
         "locations": [
          "CAN"
         ],
         "marker": {
          "color": "#B6E880",
          "size": [
           80342.5001058201
          ],
          "sizemode": "area",
          "sizeref": 273.9729892243279,
          "symbol": "circle"
         },
         "mode": "markers",
         "name": "CAN",
         "showlegend": true,
         "type": "scattergeo"
        },
        {
         "geo": "geo",
         "hovertemplate": "color=RUS<br>Average annual salary [USD]=%{marker.size}<br>Country=%{location}<extra></extra>",
         "legendgroup": "RUS",
         "locations": [
          "RUS"
         ],
         "marker": {
          "color": "#FF97FF",
          "size": [
           27639.916666666668
          ],
          "sizemode": "area",
          "sizeref": 273.9729892243279,
          "symbol": "circle"
         },
         "mode": "markers",
         "name": "RUS",
         "showlegend": true,
         "type": "scattergeo"
        },
        {
         "geo": "geo",
         "hovertemplate": "color=BRA<br>Average annual salary [USD]=%{marker.size}<br>Country=%{location}<extra></extra>",
         "legendgroup": "BRA",
         "locations": [
          "BRA"
         ],
         "marker": {
          "color": "#FECB52",
          "size": [
           27996.75
          ],
          "sizemode": "area",
          "sizeref": 273.9729892243279,
          "symbol": "circle"
         },
         "mode": "markers",
         "name": "BRA",
         "showlegend": true,
         "type": "scattergeo"
        },
        {
         "geo": "geo",
         "hovertemplate": "color=AUS<br>Average annual salary [USD]=%{marker.size}<br>Country=%{location}<extra></extra>",
         "legendgroup": "AUS",
         "locations": [
          "AUS"
         ],
         "marker": {
          "color": "#636efa",
          "size": [
           93446.25709803922
          ],
          "sizemode": "area",
          "sizeref": 273.9729892243279,
          "symbol": "circle"
         },
         "mode": "markers",
         "name": "AUS",
         "showlegend": true,
         "type": "scattergeo"
        },
        {
         "geo": "geo",
         "hovertemplate": "color=ZAF<br>Average annual salary [USD]=%{marker.size}<br>Country=%{location}<extra></extra>",
         "legendgroup": "ZAF",
         "locations": [
          "ZAF"
         ],
         "marker": {
          "color": "#EF553B",
          "size": [
           55847.116341463414
          ],
          "sizemode": "area",
          "sizeref": 273.9729892243279,
          "symbol": "circle"
         },
         "mode": "markers",
         "name": "ZAF",
         "showlegend": true,
         "type": "scattergeo"
        }
       ],
       "layout": {
        "geo": {
         "center": {},
         "domain": {
          "x": [
           0,
           1
          ],
          "y": [
           0,
           1
          ]
         },
         "projection": {
          "type": "natural earth"
         }
        },
        "legend": {
         "itemsizing": "constant",
         "title": {
          "text": "color"
         },
         "tracegroupgap": 0
        },
        "template": {
         "data": {
          "bar": [
           {
            "error_x": {
             "color": "#2a3f5f"
            },
            "error_y": {
             "color": "#2a3f5f"
            },
            "marker": {
             "line": {
              "color": "#E5ECF6",
              "width": 0.5
             },
             "pattern": {
              "fillmode": "overlay",
              "size": 10,
              "solidity": 0.2
             }
            },
            "type": "bar"
           }
          ],
          "barpolar": [
           {
            "marker": {
             "line": {
              "color": "#E5ECF6",
              "width": 0.5
             },
             "pattern": {
              "fillmode": "overlay",
              "size": 10,
              "solidity": 0.2
             }
            },
            "type": "barpolar"
           }
          ],
          "carpet": [
           {
            "aaxis": {
             "endlinecolor": "#2a3f5f",
             "gridcolor": "white",
             "linecolor": "white",
             "minorgridcolor": "white",
             "startlinecolor": "#2a3f5f"
            },
            "baxis": {
             "endlinecolor": "#2a3f5f",
             "gridcolor": "white",
             "linecolor": "white",
             "minorgridcolor": "white",
             "startlinecolor": "#2a3f5f"
            },
            "type": "carpet"
           }
          ],
          "choropleth": [
           {
            "colorbar": {
             "outlinewidth": 0,
             "ticks": ""
            },
            "type": "choropleth"
           }
          ],
          "contour": [
           {
            "colorbar": {
             "outlinewidth": 0,
             "ticks": ""
            },
            "colorscale": [
             [
              0,
              "#0d0887"
             ],
             [
              0.1111111111111111,
              "#46039f"
             ],
             [
              0.2222222222222222,
              "#7201a8"
             ],
             [
              0.3333333333333333,
              "#9c179e"
             ],
             [
              0.4444444444444444,
              "#bd3786"
             ],
             [
              0.5555555555555556,
              "#d8576b"
             ],
             [
              0.6666666666666666,
              "#ed7953"
             ],
             [
              0.7777777777777778,
              "#fb9f3a"
             ],
             [
              0.8888888888888888,
              "#fdca26"
             ],
             [
              1,
              "#f0f921"
             ]
            ],
            "type": "contour"
           }
          ],
          "contourcarpet": [
           {
            "colorbar": {
             "outlinewidth": 0,
             "ticks": ""
            },
            "type": "contourcarpet"
           }
          ],
          "heatmap": [
           {
            "colorbar": {
             "outlinewidth": 0,
             "ticks": ""
            },
            "colorscale": [
             [
              0,
              "#0d0887"
             ],
             [
              0.1111111111111111,
              "#46039f"
             ],
             [
              0.2222222222222222,
              "#7201a8"
             ],
             [
              0.3333333333333333,
              "#9c179e"
             ],
             [
              0.4444444444444444,
              "#bd3786"
             ],
             [
              0.5555555555555556,
              "#d8576b"
             ],
             [
              0.6666666666666666,
              "#ed7953"
             ],
             [
              0.7777777777777778,
              "#fb9f3a"
             ],
             [
              0.8888888888888888,
              "#fdca26"
             ],
             [
              1,
              "#f0f921"
             ]
            ],
            "type": "heatmap"
           }
          ],
          "heatmapgl": [
           {
            "colorbar": {
             "outlinewidth": 0,
             "ticks": ""
            },
            "colorscale": [
             [
              0,
              "#0d0887"
             ],
             [
              0.1111111111111111,
              "#46039f"
             ],
             [
              0.2222222222222222,
              "#7201a8"
             ],
             [
              0.3333333333333333,
              "#9c179e"
             ],
             [
              0.4444444444444444,
              "#bd3786"
             ],
             [
              0.5555555555555556,
              "#d8576b"
             ],
             [
              0.6666666666666666,
              "#ed7953"
             ],
             [
              0.7777777777777778,
              "#fb9f3a"
             ],
             [
              0.8888888888888888,
              "#fdca26"
             ],
             [
              1,
              "#f0f921"
             ]
            ],
            "type": "heatmapgl"
           }
          ],
          "histogram": [
           {
            "marker": {
             "pattern": {
              "fillmode": "overlay",
              "size": 10,
              "solidity": 0.2
             }
            },
            "type": "histogram"
           }
          ],
          "histogram2d": [
           {
            "colorbar": {
             "outlinewidth": 0,
             "ticks": ""
            },
            "colorscale": [
             [
              0,
              "#0d0887"
             ],
             [
              0.1111111111111111,
              "#46039f"
             ],
             [
              0.2222222222222222,
              "#7201a8"
             ],
             [
              0.3333333333333333,
              "#9c179e"
             ],
             [
              0.4444444444444444,
              "#bd3786"
             ],
             [
              0.5555555555555556,
              "#d8576b"
             ],
             [
              0.6666666666666666,
              "#ed7953"
             ],
             [
              0.7777777777777778,
              "#fb9f3a"
             ],
             [
              0.8888888888888888,
              "#fdca26"
             ],
             [
              1,
              "#f0f921"
             ]
            ],
            "type": "histogram2d"
           }
          ],
          "histogram2dcontour": [
           {
            "colorbar": {
             "outlinewidth": 0,
             "ticks": ""
            },
            "colorscale": [
             [
              0,
              "#0d0887"
             ],
             [
              0.1111111111111111,
              "#46039f"
             ],
             [
              0.2222222222222222,
              "#7201a8"
             ],
             [
              0.3333333333333333,
              "#9c179e"
             ],
             [
              0.4444444444444444,
              "#bd3786"
             ],
             [
              0.5555555555555556,
              "#d8576b"
             ],
             [
              0.6666666666666666,
              "#ed7953"
             ],
             [
              0.7777777777777778,
              "#fb9f3a"
             ],
             [
              0.8888888888888888,
              "#fdca26"
             ],
             [
              1,
              "#f0f921"
             ]
            ],
            "type": "histogram2dcontour"
           }
          ],
          "mesh3d": [
           {
            "colorbar": {
             "outlinewidth": 0,
             "ticks": ""
            },
            "type": "mesh3d"
           }
          ],
          "parcoords": [
           {
            "line": {
             "colorbar": {
              "outlinewidth": 0,
              "ticks": ""
             }
            },
            "type": "parcoords"
           }
          ],
          "pie": [
           {
            "automargin": true,
            "type": "pie"
           }
          ],
          "scatter": [
           {
            "marker": {
             "colorbar": {
              "outlinewidth": 0,
              "ticks": ""
             }
            },
            "type": "scatter"
           }
          ],
          "scatter3d": [
           {
            "line": {
             "colorbar": {
              "outlinewidth": 0,
              "ticks": ""
             }
            },
            "marker": {
             "colorbar": {
              "outlinewidth": 0,
              "ticks": ""
             }
            },
            "type": "scatter3d"
           }
          ],
          "scattercarpet": [
           {
            "marker": {
             "colorbar": {
              "outlinewidth": 0,
              "ticks": ""
             }
            },
            "type": "scattercarpet"
           }
          ],
          "scattergeo": [
           {
            "marker": {
             "colorbar": {
              "outlinewidth": 0,
              "ticks": ""
             }
            },
            "type": "scattergeo"
           }
          ],
          "scattergl": [
           {
            "marker": {
             "colorbar": {
              "outlinewidth": 0,
              "ticks": ""
             }
            },
            "type": "scattergl"
           }
          ],
          "scattermapbox": [
           {
            "marker": {
             "colorbar": {
              "outlinewidth": 0,
              "ticks": ""
             }
            },
            "type": "scattermapbox"
           }
          ],
          "scatterpolar": [
           {
            "marker": {
             "colorbar": {
              "outlinewidth": 0,
              "ticks": ""
             }
            },
            "type": "scatterpolar"
           }
          ],
          "scatterpolargl": [
           {
            "marker": {
             "colorbar": {
              "outlinewidth": 0,
              "ticks": ""
             }
            },
            "type": "scatterpolargl"
           }
          ],
          "scatterternary": [
           {
            "marker": {
             "colorbar": {
              "outlinewidth": 0,
              "ticks": ""
             }
            },
            "type": "scatterternary"
           }
          ],
          "surface": [
           {
            "colorbar": {
             "outlinewidth": 0,
             "ticks": ""
            },
            "colorscale": [
             [
              0,
              "#0d0887"
             ],
             [
              0.1111111111111111,
              "#46039f"
             ],
             [
              0.2222222222222222,
              "#7201a8"
             ],
             [
              0.3333333333333333,
              "#9c179e"
             ],
             [
              0.4444444444444444,
              "#bd3786"
             ],
             [
              0.5555555555555556,
              "#d8576b"
             ],
             [
              0.6666666666666666,
              "#ed7953"
             ],
             [
              0.7777777777777778,
              "#fb9f3a"
             ],
             [
              0.8888888888888888,
              "#fdca26"
             ],
             [
              1,
              "#f0f921"
             ]
            ],
            "type": "surface"
           }
          ],
          "table": [
           {
            "cells": {
             "fill": {
              "color": "#EBF0F8"
             },
             "line": {
              "color": "white"
             }
            },
            "header": {
             "fill": {
              "color": "#C8D4E3"
             },
             "line": {
              "color": "white"
             }
            },
            "type": "table"
           }
          ]
         },
         "layout": {
          "annotationdefaults": {
           "arrowcolor": "#2a3f5f",
           "arrowhead": 0,
           "arrowwidth": 1
          },
          "autotypenumbers": "strict",
          "coloraxis": {
           "colorbar": {
            "outlinewidth": 0,
            "ticks": ""
           }
          },
          "colorscale": {
           "diverging": [
            [
             0,
             "#8e0152"
            ],
            [
             0.1,
             "#c51b7d"
            ],
            [
             0.2,
             "#de77ae"
            ],
            [
             0.3,
             "#f1b6da"
            ],
            [
             0.4,
             "#fde0ef"
            ],
            [
             0.5,
             "#f7f7f7"
            ],
            [
             0.6,
             "#e6f5d0"
            ],
            [
             0.7,
             "#b8e186"
            ],
            [
             0.8,
             "#7fbc41"
            ],
            [
             0.9,
             "#4d9221"
            ],
            [
             1,
             "#276419"
            ]
           ],
           "sequential": [
            [
             0,
             "#0d0887"
            ],
            [
             0.1111111111111111,
             "#46039f"
            ],
            [
             0.2222222222222222,
             "#7201a8"
            ],
            [
             0.3333333333333333,
             "#9c179e"
            ],
            [
             0.4444444444444444,
             "#bd3786"
            ],
            [
             0.5555555555555556,
             "#d8576b"
            ],
            [
             0.6666666666666666,
             "#ed7953"
            ],
            [
             0.7777777777777778,
             "#fb9f3a"
            ],
            [
             0.8888888888888888,
             "#fdca26"
            ],
            [
             1,
             "#f0f921"
            ]
           ],
           "sequentialminus": [
            [
             0,
             "#0d0887"
            ],
            [
             0.1111111111111111,
             "#46039f"
            ],
            [
             0.2222222222222222,
             "#7201a8"
            ],
            [
             0.3333333333333333,
             "#9c179e"
            ],
            [
             0.4444444444444444,
             "#bd3786"
            ],
            [
             0.5555555555555556,
             "#d8576b"
            ],
            [
             0.6666666666666666,
             "#ed7953"
            ],
            [
             0.7777777777777778,
             "#fb9f3a"
            ],
            [
             0.8888888888888888,
             "#fdca26"
            ],
            [
             1,
             "#f0f921"
            ]
           ]
          },
          "colorway": [
           "#636efa",
           "#EF553B",
           "#00cc96",
           "#ab63fa",
           "#FFA15A",
           "#19d3f3",
           "#FF6692",
           "#B6E880",
           "#FF97FF",
           "#FECB52"
          ],
          "font": {
           "color": "#2a3f5f"
          },
          "geo": {
           "bgcolor": "white",
           "lakecolor": "white",
           "landcolor": "#E5ECF6",
           "showlakes": true,
           "showland": true,
           "subunitcolor": "white"
          },
          "hoverlabel": {
           "align": "left"
          },
          "hovermode": "closest",
          "mapbox": {
           "style": "light"
          },
          "paper_bgcolor": "white",
          "plot_bgcolor": "#E5ECF6",
          "polar": {
           "angularaxis": {
            "gridcolor": "white",
            "linecolor": "white",
            "ticks": ""
           },
           "bgcolor": "#E5ECF6",
           "radialaxis": {
            "gridcolor": "white",
            "linecolor": "white",
            "ticks": ""
           }
          },
          "scene": {
           "xaxis": {
            "backgroundcolor": "#E5ECF6",
            "gridcolor": "white",
            "gridwidth": 2,
            "linecolor": "white",
            "showbackground": true,
            "ticks": "",
            "zerolinecolor": "white"
           },
           "yaxis": {
            "backgroundcolor": "#E5ECF6",
            "gridcolor": "white",
            "gridwidth": 2,
            "linecolor": "white",
            "showbackground": true,
            "ticks": "",
            "zerolinecolor": "white"
           },
           "zaxis": {
            "backgroundcolor": "#E5ECF6",
            "gridcolor": "white",
            "gridwidth": 2,
            "linecolor": "white",
            "showbackground": true,
            "ticks": "",
            "zerolinecolor": "white"
           }
          },
          "shapedefaults": {
           "line": {
            "color": "#2a3f5f"
           }
          },
          "ternary": {
           "aaxis": {
            "gridcolor": "white",
            "linecolor": "white",
            "ticks": ""
           },
           "baxis": {
            "gridcolor": "white",
            "linecolor": "white",
            "ticks": ""
           },
           "bgcolor": "#E5ECF6",
           "caxis": {
            "gridcolor": "white",
            "linecolor": "white",
            "ticks": ""
           }
          },
          "title": {
           "x": 0.05
          },
          "xaxis": {
           "automargin": true,
           "gridcolor": "white",
           "linecolor": "white",
           "ticks": "",
           "title": {
            "standoff": 15
           },
           "zerolinecolor": "white",
           "zerolinewidth": 2
          },
          "yaxis": {
           "automargin": true,
           "gridcolor": "white",
           "linecolor": "white",
           "ticks": "",
           "title": {
            "standoff": 15
           },
           "zerolinecolor": "white",
           "zerolinewidth": 2
          }
         }
        },
        "title": {
         "text": "Média de salário anual dos profissionais de TI dos paises do G12*"
        }
       }
      }
     },
     "metadata": {},
     "output_type": "display_data"
    }
   ],
   "source": [
    "df_sv = pd.DataFrame(list(zip(country,s_av)), columns = ['Country','Average annual salary [USD]'])\n",
    "print(df_sv)\n",
    "\n",
    "fig = px.scatter_geo(df_sv, locations='Country', size='Average annual salary [USD]',color=country , projection=\"natural earth\", title=f'Média de salário anual dos profissionais de TI dos paises do G12*')\n",
    "fig.show()\n"
   ]
  }
 ],
 "metadata": {
  "interpreter": {
   "hash": "8ecffdc6c758d8d591c9db2dd61d4239b732fc0649a1249e1bcab96bc3159102"
  },
  "kernelspec": {
   "display_name": "Python 3.9.7 ('base')",
   "language": "python",
   "name": "python3"
  },
  "language_info": {
   "codemirror_mode": {
    "name": "ipython",
    "version": 3
   },
   "file_extension": ".py",
   "mimetype": "text/x-python",
   "name": "python",
   "nbconvert_exporter": "python",
   "pygments_lexer": "ipython3",
   "version": "3.9.7"
  },
  "orig_nbformat": 4
 },
 "nbformat": 4,
 "nbformat_minor": 2
}
