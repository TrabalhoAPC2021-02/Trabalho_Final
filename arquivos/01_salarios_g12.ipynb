{
  "cells": [
    {
      "cell_type": "markdown",
      "metadata": {
        "id": "view-in-github",
        "colab_type": "text"
      },
      "source": [
        "<a href=\"https://colab.research.google.com/github/TrabalhoAPC2021-02/Trabalho_Final/blob/main/arquivos/01_salarios_g12.ipynb\" target=\"_parent\"><img src=\"https://colab.research.google.com/assets/colab-badge.svg\" alt=\"Open In Colab\"/></a>"
      ]
    },
    {
      "cell_type": "code",
      "execution_count": null,
      "metadata": {
        "id": "0ceGcJitsVLR"
      },
      "outputs": [],
      "source": [
        "#importando as bibliotecas\n",
        "\n",
        "import pandas as pd    # biblioteca utilizada para arquivos em dataframe\n",
        "import plotly.express as px # biclioteca responsável por plotar os gráficos"
      ]
    },
    {
      "cell_type": "code",
      "execution_count": null,
      "metadata": {
        "id": "C-m8BzHisVLV"
      },
      "outputs": [],
      "source": [
        "s_av =[]   # vetor que receberá as médias salariais \n",
        "country = [] # vetor para receber o nome do país"
      ]
    },
    {
      "cell_type": "code",
      "source": [
        "#Criando dataframe através da leitura da planilha em excel\n",
        "df = pd.read_excel('https://raw.githubusercontent.com/TrabalhoAPC2021-02/Trabalho_Final/main/arquivos/01_Data_Professional_full.xlsx')\n",
        "df.head()"
      ],
      "metadata": {
        "id": "gLyzgASS8HwC"
      },
      "execution_count": null,
      "outputs": []
    },
    {
      "cell_type": "code",
      "execution_count": null,
      "metadata": {
        "id": "eJNYeDmtsVLZ",
        "outputId": "70c35317-33fa-4d1b-bc5c-3bb52f9b7b77",
        "colab": {
          "base_uri": "https://localhost:8080/",
          "height": 235
        }
      },
      "outputs": [
        {
          "output_type": "error",
          "ename": "TypeError",
          "evalue": "ignored",
          "traceback": [
            "\u001b[0;31m---------------------------------------------------------------------------\u001b[0m",
            "\u001b[0;31mTypeError\u001b[0m                                 Traceback (most recent call last)",
            "\u001b[0;32m<ipython-input-40-126ebf2e14d8>\u001b[0m in \u001b[0;36m<module>\u001b[0;34m()\u001b[0m\n\u001b[1;32m      9\u001b[0m \u001b[0;34m\u001b[0m\u001b[0m\n\u001b[1;32m     10\u001b[0m \u001b[0;32mfor\u001b[0m \u001b[0mi\u001b[0m \u001b[0;32min\u001b[0m \u001b[0mrange\u001b[0m \u001b[0;34m(\u001b[0m\u001b[0mlen\u001b[0m\u001b[0;34m(\u001b[0m\u001b[0msalary_usa\u001b[0m\u001b[0;34m)\u001b[0m\u001b[0;34m)\u001b[0m\u001b[0;34m:\u001b[0m\u001b[0;34m\u001b[0m\u001b[0;34m\u001b[0m\u001b[0m\n\u001b[0;32m---> 11\u001b[0;31m     \u001b[0msoma_sal_usa\u001b[0m \u001b[0;34m=\u001b[0m \u001b[0msoma_sal_usa\u001b[0m \u001b[0;34m+\u001b[0m \u001b[0msalary_usa\u001b[0m\u001b[0;34m[\u001b[0m\u001b[0mi\u001b[0m\u001b[0;34m]\u001b[0m\u001b[0;34m\u001b[0m\u001b[0;34m\u001b[0m\u001b[0m\n\u001b[0m\u001b[1;32m     12\u001b[0m \u001b[0mav_usa\u001b[0m \u001b[0;34m=\u001b[0m \u001b[0msoma_sal_usa\u001b[0m\u001b[0;34m/\u001b[0m\u001b[0mlen\u001b[0m\u001b[0;34m(\u001b[0m\u001b[0msalary_usa\u001b[0m\u001b[0;34m)\u001b[0m\u001b[0;34m\u001b[0m\u001b[0;34m\u001b[0m\u001b[0m\n\u001b[1;32m     13\u001b[0m \u001b[0;34m\u001b[0m\u001b[0m\n",
            "\u001b[0;31mTypeError\u001b[0m: unsupported operand type(s) for +: 'int' and 'str'"
          ]
        }
      ],
      "source": [
        "#Selecionando os dados dos USA com slários de 2017 a 2021\n",
        "\n",
        "df_usa = df[df['Country'] == 'United States'] \n",
        "salary_usa = df_usa['SalaryUSD'].tolist() # tranformando o dataframe dos usa  com salarios de 2017 a 2021 em lista.\n",
        "\n",
        "#utilização de um laço for para calcular média dos salários dos USA \n",
        "\n",
        "soma_sal_usa = 0\n",
        "\n",
        "for i in range (len(salary_usa)):\n",
        "    soma_sal_usa = soma_sal_usa + salary_usa[i]\n",
        "av_usa = soma_sal_usa/len(salary_usa)\n",
        "\n",
        "s_av.append(av_usa)    # recebendo a media salarial\n",
        "country.append('USA')  # recebendo o código do país"
      ]
    },
    {
      "cell_type": "code",
      "execution_count": null,
      "metadata": {
        "id": "wTcnbQZTsVLb"
      },
      "outputs": [],
      "source": [
        "#Selecionando os dados dq China com slários de 2017 a 2021\n",
        "\n",
        "df_china = df[df['Country'] == 'China'] \n",
        "salary_china = df_china['SalaryUSD'].tolist() # tranformando o dataframe da china com salarios de 2017 a 2021 em lista.\n",
        "\n",
        "#utilização de um laço for para calcular média dos salários da china \n",
        "\n",
        "soma_sal_china = 0\n",
        "\n",
        "for i in range (len(salary_china)):\n",
        "    soma_sal_china = soma_sal_china + salary_china[i]\n",
        "av_china = soma_sal_china/len(salary_china)\n",
        "s_av.append(av_china)\n",
        "country.append('CHN')"
      ]
    },
    {
      "cell_type": "code",
      "execution_count": null,
      "metadata": {
        "id": "RQbQcipJsVLc"
      },
      "outputs": [],
      "source": [
        "#Selecionando os dados da Alemanha com slários de 2017 a 2021\n",
        "\n",
        "df_alemanha = df[df['Country'] == 'Germany'] \n",
        "salary_alemanha = df_alemanha['SalaryUSD'].tolist() # tranformando o dataframe da Alemanha com salarios de 2017 a 2021 em lista.\n",
        "\n",
        "#utilização de um laço for para calcular média dos salários da Alemanha\n",
        "\n",
        "soma_sal_alemanha = 0\n",
        "\n",
        "for i in range (len(salary_alemanha)):\n",
        "    soma_sal_alemanha = soma_sal_alemanha + salary_alemanha[i]\n",
        "av_alemanha = soma_sal_alemanha/len(salary_alemanha)\n",
        "s_av.append(av_alemanha)\n",
        "country.append('DEU')"
      ]
    },
    {
      "cell_type": "code",
      "execution_count": null,
      "metadata": {
        "id": "iMSGiq3msVLd"
      },
      "outputs": [],
      "source": [
        "#Selecionando os dados do Reino unido com slários de 2017 a 2021\n",
        "\n",
        "df_uk = df[df['Country'] == 'United Kingdom'] \n",
        "salary_uk = df_uk['SalaryUSD'].tolist() # tranformando o dataframe do reino unido com salarios de 2017 a 2021 em lista.\n",
        "\n",
        "#utilização de um laço for para calcular média dos salários do Reino Unido.\n",
        "\n",
        "soma_sal_uk = 0\n",
        "\n",
        "for i in range (len(salary_uk)):\n",
        "    soma_sal_uk = soma_sal_uk + salary_uk[i]\n",
        "av_uk = soma_sal_uk/len(salary_uk)\n",
        "s_av.append(av_uk)\n",
        "country.append('GBR')"
      ]
    },
    {
      "cell_type": "code",
      "execution_count": null,
      "metadata": {
        "id": "cMTz76vQsVLe"
      },
      "outputs": [],
      "source": [
        "#Selecionando os dados da Índia com slários de 2017 a 2021\n",
        "\n",
        "df_india = df[df['Country'] == 'India'] \n",
        "salary_india = df_india['SalaryUSD'].tolist() # tranformando o dataframe da India com salarios de 2017 a 2021 em lista.\n",
        "\n",
        "#utilização de um laço for para calcular média dos salários da India.\n",
        "\n",
        "soma_sal_india = 0\n",
        "\n",
        "for i in range (len(salary_india)):\n",
        "    soma_sal_india = soma_sal_india + salary_india[i]\n",
        "av_india = soma_sal_india/len(salary_india)\n",
        "s_av.append(av_india)\n",
        "country.append('IND')"
      ]
    },
    {
      "cell_type": "code",
      "execution_count": null,
      "metadata": {
        "id": "z2n8jqiPsVLf"
      },
      "outputs": [],
      "source": [
        "#Selecionando os dados da França com slários de 2017 a 2021\n",
        "\n",
        "df_france = df[df['Country'] == 'France'] \n",
        "salary_france = df_france['SalaryUSD'].tolist() # tranformando o dataframe da França com salarios de 2017 a 2021 em lista.\n",
        "\n",
        "#utilização de um laço for para calcular média dos salários da França.\n",
        "\n",
        "soma_sal_france = 0\n",
        "\n",
        "for i in range (len(salary_france)):\n",
        "    soma_sal_france = soma_sal_france + salary_france[i]\n",
        "av_france = soma_sal_france/len(salary_france)\n",
        "s_av.append(av_france)\n",
        "country.append('FRA')"
      ]
    },
    {
      "cell_type": "code",
      "execution_count": null,
      "metadata": {
        "id": "n3V8ilCWsVLg"
      },
      "outputs": [],
      "source": [
        "#Selecionando os dados da Itália com slários de 2017 a 2021\n",
        "\n",
        "df_italia = df[df['Country'] == 'Italy'] \n",
        "salary_italia = df_italia['SalaryUSD'].tolist() # tranformando o dataframe da Itália com salarios de 2017 a 2021 em lista.\n",
        "\n",
        "#utilização de um laço for para calcular média dos salários da Itália.\n",
        "\n",
        "soma_sal_italia = 0\n",
        "\n",
        "for i in range (len(salary_italia)):\n",
        "    soma_sal_italia = soma_sal_italia + salary_italia[i]\n",
        "av_italia = soma_sal_italia/len(salary_italia)\n",
        "s_av.append(av_italia)\n",
        "country.append('ITA')"
      ]
    },
    {
      "cell_type": "code",
      "execution_count": null,
      "metadata": {
        "id": "bzHmV_3osVLi"
      },
      "outputs": [],
      "source": [
        "#Selecionando os dados da Canadá com slários de 2017 a 2021\n",
        "\n",
        "df_canada = df[df['Country'] == 'Canada'] \n",
        "salary_canada = df_canada['SalaryUSD'].tolist() # tranformando o dataframe do Canadá com salarios de 2017 a 2021 em lista.\n",
        "\n",
        "#utilização de um laço for para calcular média dos salários do Canadá.\n",
        "\n",
        "soma_sal_canada = 0\n",
        "\n",
        "for i in range (len(salary_canada)):\n",
        "    soma_sal_canada = soma_sal_canada + salary_canada[i]\n",
        "av_canada = soma_sal_canada/len(salary_canada)\n",
        "s_av.append(av_canada)\n",
        "country.append('CAN')"
      ]
    },
    {
      "cell_type": "code",
      "execution_count": null,
      "metadata": {
        "id": "iMHrOrwBsVLj"
      },
      "outputs": [],
      "source": [
        "#Selecionando os dados da Russia com slários de 2017 a 2021\n",
        "\n",
        "df_russia = df[df['Country'] == 'Russia'] \n",
        "salary_russia = df_russia['SalaryUSD'].tolist() # tranformando o dataframe do Russia com salarios de 2017 a 2021 em lista.\n",
        "\n",
        "#utilização de um laço for para calcular média dos salários do Russia.\n",
        "\n",
        "soma_sal_russia = 0\n",
        "\n",
        "for i in range (len(salary_russia)):\n",
        "    soma_sal_russia = soma_sal_russia + salary_russia[i]\n",
        "av_russia = soma_sal_russia/len(salary_russia)\n",
        "s_av.append(av_russia)\n",
        "country.append('RUS')"
      ]
    },
    {
      "cell_type": "code",
      "execution_count": null,
      "metadata": {
        "id": "Zt2n0DvKsVLk"
      },
      "outputs": [],
      "source": [
        "#Selecionando os dados do Brasil com slários de 2017 a 2021\n",
        "\n",
        "df_br = df[df['Country'] == 'Brazil'] \n",
        "salary_br = df_br['SalaryUSD'].tolist() # tranformando o dataframe do Brasil com salarios de 2017 a 2021 em lista.\n",
        "\n",
        "#utilização de um laço for para calcular média dos salários do Brasil.\n",
        "\n",
        "soma_sal_br = 0\n",
        "\n",
        "for i in range (len(salary_br)):\n",
        "    soma_sal_br = soma_sal_br + salary_br[i]\n",
        "av_br = soma_sal_br/len(salary_br)\n",
        "s_av.append(av_br)\n",
        "country.append('BRA')"
      ]
    },
    {
      "cell_type": "code",
      "execution_count": null,
      "metadata": {
        "id": "HUua9CKvsVLl"
      },
      "outputs": [],
      "source": [
        "#Selecionando os dados da Austrália com slários de 2017 a 2021\n",
        "\n",
        "df_australia = df[df['Country'] == 'Australia'] \n",
        "salary_australia = df_australia['SalaryUSD'].tolist() # tranformando o dataframe do Austrália com salarios de 2017 a 2021 em lista.\n",
        "\n",
        "#utilização de um laço for para calcular média dos salários da Austrália.\n",
        "\n",
        "soma_sal_australia = 0\n",
        "\n",
        "for i in range (len(salary_australia)):\n",
        "    soma_sal_australia = soma_sal_australia + salary_australia[i]\n",
        "av_australia = soma_sal_australia/len(salary_australia)\n",
        "s_av.append(av_australia)\n",
        "country.append('AUS')"
      ]
    },
    {
      "cell_type": "code",
      "execution_count": null,
      "metadata": {
        "id": "Z9NkVj9ssVLl"
      },
      "outputs": [],
      "source": [
        "#Selecionando os dados da Africa do sul com slários de 2017 a 2021\n",
        "\n",
        "df_africasul = df[df['Country'] == 'South Africa'] \n",
        "salary_africasul = df_africasul['SalaryUSD'].tolist() # tranformando o dataframe da Africa do Sul com salarios de 2017 a 2021 em lista.\n",
        "\n",
        "#utilização de um laço for para calcular média dos salários da africa do sul.\n",
        "\n",
        "soma_sal_africasul = 0\n",
        "\n",
        "for i in range (len(salary_africasul)):\n",
        "    soma_sal_africasul = soma_sal_africasul + salary_africasul[i]\n",
        "av_africasul = soma_sal_africasul/len(salary_africasul)\n",
        "s_av.append(av_africasul)\n",
        "country.append('ZAF')"
      ]
    },
    {
      "cell_type": "code",
      "execution_count": null,
      "metadata": {
        "id": "CrTbEAF2sVLm"
      },
      "outputs": [],
      "source": [
        "print(s_av)\n",
        "print(country)"
      ]
    },
    {
      "cell_type": "code",
      "execution_count": null,
      "metadata": {
        "id": "SlXG915wsVLn"
      },
      "outputs": [],
      "source": [
        "#Método 2 para criar o gráfico, através da combinação dos vetores criados no início.\n",
        "fig = px.bar(x=country, y=s_av, title='Average')\n",
        "fig.update_xaxes(title='Country')\n",
        "fig.update_yaxes(title='Average annual salary [USD]')\n",
        "fig.show()"
      ]
    },
    {
      "cell_type": "code",
      "execution_count": null,
      "metadata": {
        "id": "0Yc5drWgsVLo"
      },
      "outputs": [],
      "source": [
        "df_sv = pd.DataFrame(list(zip(country,s_av)), columns = ['Country','Average annual salary [USD]'])\n",
        "print(df_sv)\n",
        "\n",
        "fig = px.scatter_geo(df_sv, locations='Country', size='Average annual salary [USD]',color=country , projection=\"natural earth\", title=f'Média de salário anual dos profissionais de TI dos paises do G12*')\n",
        "fig.show()\n"
      ]
    }
  ],
  "metadata": {
    "interpreter": {
      "hash": "8ecffdc6c758d8d591c9db2dd61d4239b732fc0649a1249e1bcab96bc3159102"
    },
    "kernelspec": {
      "display_name": "Python 3.9.7 ('base')",
      "language": "python",
      "name": "python3"
    },
    "language_info": {
      "codemirror_mode": {
        "name": "ipython",
        "version": 3
      },
      "file_extension": ".py",
      "mimetype": "text/x-python",
      "name": "python",
      "nbconvert_exporter": "python",
      "pygments_lexer": "ipython3",
      "version": "3.9.7"
    },
    "orig_nbformat": 4,
    "colab": {
      "name": "01_salarios_g12.ipynb",
      "provenance": [],
      "include_colab_link": true
    }
  },
  "nbformat": 4,
  "nbformat_minor": 0
}