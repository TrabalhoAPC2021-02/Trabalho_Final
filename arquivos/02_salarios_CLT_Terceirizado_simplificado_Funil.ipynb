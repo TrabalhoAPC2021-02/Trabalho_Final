{
  "cells": [
    {
      "cell_type": "code",
      "execution_count": 1,
      "metadata": {
        "id": "bbVzIr3RI2PS"
      },
      "outputs": [],
      "source": [
        "import pandas as pd # importando a biblioteca pandas para leitura de dados\n",
        "import plotly.graph_objects as go\n",
        "import plotly.express as px"
      ]
    },
    {
      "cell_type": "code",
      "execution_count": 2,
      "metadata": {
        "id": "rl_r-YykI2PY",
        "colab": {
          "base_uri": "https://localhost:8080/",
          "height": 424
        },
        "outputId": "fcbcae96-db21-4868-b19f-42339bae6ce9"
      },
      "outputs": [
        {
          "output_type": "execute_result",
          "data": {
            "text/plain": [
              "                            Cargo  Especialidade    CLT  Terceiro\n",
              "0                AD Adm. de Dados                  7415    9743.0\n",
              "1                      Adm. Cloud                  5129    5901.0\n",
              "2                    Adm. de rede                  4859    6223.0\n",
              "3   Adm. De Sistemas / Aplicações                  6084    7281.0\n",
              "4                     Agile Coach                 11715   13221.0\n",
              "..                            ...            ...    ...       ...\n",
              "79                    Programador  Visual Studio   5149    6636.0\n",
              "80       Recrutador(a) RH para TI                  3623    5016.0\n",
              "81            Técnico de Hardware                  2053    2399.0\n",
              "82             Tecnico de Suporte                  2144    2944.0\n",
              "83                   Web Designer                  3211    4037.0\n",
              "\n",
              "[84 rows x 4 columns]"
            ],
            "text/html": [
              "\n",
              "  <div id=\"df-06f430e8-24f4-496e-b898-9e5ff808a6be\">\n",
              "    <div class=\"colab-df-container\">\n",
              "      <div>\n",
              "<style scoped>\n",
              "    .dataframe tbody tr th:only-of-type {\n",
              "        vertical-align: middle;\n",
              "    }\n",
              "\n",
              "    .dataframe tbody tr th {\n",
              "        vertical-align: top;\n",
              "    }\n",
              "\n",
              "    .dataframe thead th {\n",
              "        text-align: right;\n",
              "    }\n",
              "</style>\n",
              "<table border=\"1\" class=\"dataframe\">\n",
              "  <thead>\n",
              "    <tr style=\"text-align: right;\">\n",
              "      <th></th>\n",
              "      <th>Cargo</th>\n",
              "      <th>Especialidade</th>\n",
              "      <th>CLT</th>\n",
              "      <th>Terceiro</th>\n",
              "    </tr>\n",
              "  </thead>\n",
              "  <tbody>\n",
              "    <tr>\n",
              "      <th>0</th>\n",
              "      <td>AD Adm. de Dados</td>\n",
              "      <td></td>\n",
              "      <td>7415</td>\n",
              "      <td>9743.0</td>\n",
              "    </tr>\n",
              "    <tr>\n",
              "      <th>1</th>\n",
              "      <td>Adm. Cloud</td>\n",
              "      <td></td>\n",
              "      <td>5129</td>\n",
              "      <td>5901.0</td>\n",
              "    </tr>\n",
              "    <tr>\n",
              "      <th>2</th>\n",
              "      <td>Adm. de rede</td>\n",
              "      <td></td>\n",
              "      <td>4859</td>\n",
              "      <td>6223.0</td>\n",
              "    </tr>\n",
              "    <tr>\n",
              "      <th>3</th>\n",
              "      <td>Adm. De Sistemas / Aplicações</td>\n",
              "      <td></td>\n",
              "      <td>6084</td>\n",
              "      <td>7281.0</td>\n",
              "    </tr>\n",
              "    <tr>\n",
              "      <th>4</th>\n",
              "      <td>Agile Coach</td>\n",
              "      <td></td>\n",
              "      <td>11715</td>\n",
              "      <td>13221.0</td>\n",
              "    </tr>\n",
              "    <tr>\n",
              "      <th>...</th>\n",
              "      <td>...</td>\n",
              "      <td>...</td>\n",
              "      <td>...</td>\n",
              "      <td>...</td>\n",
              "    </tr>\n",
              "    <tr>\n",
              "      <th>79</th>\n",
              "      <td>Programador</td>\n",
              "      <td>Visual Studio</td>\n",
              "      <td>5149</td>\n",
              "      <td>6636.0</td>\n",
              "    </tr>\n",
              "    <tr>\n",
              "      <th>80</th>\n",
              "      <td>Recrutador(a) RH para TI</td>\n",
              "      <td></td>\n",
              "      <td>3623</td>\n",
              "      <td>5016.0</td>\n",
              "    </tr>\n",
              "    <tr>\n",
              "      <th>81</th>\n",
              "      <td>Técnico de Hardware</td>\n",
              "      <td></td>\n",
              "      <td>2053</td>\n",
              "      <td>2399.0</td>\n",
              "    </tr>\n",
              "    <tr>\n",
              "      <th>82</th>\n",
              "      <td>Tecnico de Suporte</td>\n",
              "      <td></td>\n",
              "      <td>2144</td>\n",
              "      <td>2944.0</td>\n",
              "    </tr>\n",
              "    <tr>\n",
              "      <th>83</th>\n",
              "      <td>Web Designer</td>\n",
              "      <td></td>\n",
              "      <td>3211</td>\n",
              "      <td>4037.0</td>\n",
              "    </tr>\n",
              "  </tbody>\n",
              "</table>\n",
              "<p>84 rows × 4 columns</p>\n",
              "</div>\n",
              "      <button class=\"colab-df-convert\" onclick=\"convertToInteractive('df-06f430e8-24f4-496e-b898-9e5ff808a6be')\"\n",
              "              title=\"Convert this dataframe to an interactive table.\"\n",
              "              style=\"display:none;\">\n",
              "        \n",
              "  <svg xmlns=\"http://www.w3.org/2000/svg\" height=\"24px\"viewBox=\"0 0 24 24\"\n",
              "       width=\"24px\">\n",
              "    <path d=\"M0 0h24v24H0V0z\" fill=\"none\"/>\n",
              "    <path d=\"M18.56 5.44l.94 2.06.94-2.06 2.06-.94-2.06-.94-.94-2.06-.94 2.06-2.06.94zm-11 1L8.5 8.5l.94-2.06 2.06-.94-2.06-.94L8.5 2.5l-.94 2.06-2.06.94zm10 10l.94 2.06.94-2.06 2.06-.94-2.06-.94-.94-2.06-.94 2.06-2.06.94z\"/><path d=\"M17.41 7.96l-1.37-1.37c-.4-.4-.92-.59-1.43-.59-.52 0-1.04.2-1.43.59L10.3 9.45l-7.72 7.72c-.78.78-.78 2.05 0 2.83L4 21.41c.39.39.9.59 1.41.59.51 0 1.02-.2 1.41-.59l7.78-7.78 2.81-2.81c.8-.78.8-2.07 0-2.86zM5.41 20L4 18.59l7.72-7.72 1.47 1.35L5.41 20z\"/>\n",
              "  </svg>\n",
              "      </button>\n",
              "      \n",
              "  <style>\n",
              "    .colab-df-container {\n",
              "      display:flex;\n",
              "      flex-wrap:wrap;\n",
              "      gap: 12px;\n",
              "    }\n",
              "\n",
              "    .colab-df-convert {\n",
              "      background-color: #E8F0FE;\n",
              "      border: none;\n",
              "      border-radius: 50%;\n",
              "      cursor: pointer;\n",
              "      display: none;\n",
              "      fill: #1967D2;\n",
              "      height: 32px;\n",
              "      padding: 0 0 0 0;\n",
              "      width: 32px;\n",
              "    }\n",
              "\n",
              "    .colab-df-convert:hover {\n",
              "      background-color: #E2EBFA;\n",
              "      box-shadow: 0px 1px 2px rgba(60, 64, 67, 0.3), 0px 1px 3px 1px rgba(60, 64, 67, 0.15);\n",
              "      fill: #174EA6;\n",
              "    }\n",
              "\n",
              "    [theme=dark] .colab-df-convert {\n",
              "      background-color: #3B4455;\n",
              "      fill: #D2E3FC;\n",
              "    }\n",
              "\n",
              "    [theme=dark] .colab-df-convert:hover {\n",
              "      background-color: #434B5C;\n",
              "      box-shadow: 0px 1px 3px 1px rgba(0, 0, 0, 0.15);\n",
              "      filter: drop-shadow(0px 1px 2px rgba(0, 0, 0, 0.3));\n",
              "      fill: #FFFFFF;\n",
              "    }\n",
              "  </style>\n",
              "\n",
              "      <script>\n",
              "        const buttonEl =\n",
              "          document.querySelector('#df-06f430e8-24f4-496e-b898-9e5ff808a6be button.colab-df-convert');\n",
              "        buttonEl.style.display =\n",
              "          google.colab.kernel.accessAllowed ? 'block' : 'none';\n",
              "\n",
              "        async function convertToInteractive(key) {\n",
              "          const element = document.querySelector('#df-06f430e8-24f4-496e-b898-9e5ff808a6be');\n",
              "          const dataTable =\n",
              "            await google.colab.kernel.invokeFunction('convertToInteractive',\n",
              "                                                     [key], {});\n",
              "          if (!dataTable) return;\n",
              "\n",
              "          const docLinkHtml = 'Like what you see? Visit the ' +\n",
              "            '<a target=\"_blank\" href=https://colab.research.google.com/notebooks/data_table.ipynb>data table notebook</a>'\n",
              "            + ' to learn more about interactive tables.';\n",
              "          element.innerHTML = '';\n",
              "          dataTable['output_type'] = 'display_data';\n",
              "          await google.colab.output.renderOutput(dataTable, element);\n",
              "          const docLink = document.createElement('div');\n",
              "          docLink.innerHTML = docLinkHtml;\n",
              "          element.appendChild(docLink);\n",
              "        }\n",
              "      </script>\n",
              "    </div>\n",
              "  </div>\n",
              "  "
            ]
          },
          "metadata": {},
          "execution_count": 2
        }
      ],
      "source": [
        "# definindo um dataframe a partir do arquivo \n",
        "# definindo um dataframe a partir do arquivo \n",
        "url = 'https://raw.githubusercontent.com/TrabalhoAPC2021-02/Trabalho_Final/main/arquivos/02.1_salarios_CLT_Terceirizado.xlsx'\n",
        "df = pd.read_excel(url)\n",
        "\n",
        "#df = pd.read_excel(io.BytesIO(uploaded['sala.xlsx'])) \n",
        "df"
      ]
    },
    {
      "cell_type": "code",
      "execution_count": 3,
      "metadata": {
        "id": "1RQgn0czI2Pb",
        "colab": {
          "base_uri": "https://localhost:8080/"
        },
        "outputId": "ed2a29a2-d976-47f4-b093-5e6eca5c8bc4"
      },
      "outputs": [
        {
          "output_type": "execute_result",
          "data": {
            "text/plain": [
              "Analista Programador             10\n",
              "Programador                      10\n",
              "Analista de Suporte               6\n",
              "Analista de sistemas              5\n",
              "Consultor especialista            2\n",
              "Operador / Scheduller             2\n",
              "Analista de produção              2\n",
              "AD Adm. de Dados                  1\n",
              "Estagiário                        1\n",
              "Consultor ERP                     1\n",
              "Coordenador de projetos           1\n",
              "Coordenador de Suporte            1\n",
              "Coordenador de testes             1\n",
              "DBA Adm. Base de Dados            1\n",
              "Engenheiro de Sistemas            1\n",
              "Engenheiro de Telecom             1\n",
              "Gerente de Contas                 1\n",
              "Assistente de Informática         1\n",
              "Gerente de operação               1\n",
              "Gerente de Projetos               1\n",
              "Gerente de Sistemas               1\n",
              "Gerente de Suporte                1\n",
              "Instrutor                         1\n",
              "Lider de Projetos                 1\n",
              "Lider Técnico                     1\n",
              "Recrutador(a) RH para TI          1\n",
              "Técnico de Hardware               1\n",
              "Tecnico de Suporte                1\n",
              "Auditor de Sistemas               1\n",
              "Analista Segurança Sistemas       1\n",
              "Arquiteto de Sistemas             1\n",
              "Adm. Cloud                        1\n",
              "Adm. de rede                      1\n",
              "Adm. De Sistemas / Aplicações     1\n",
              "Agile Coach                       1\n",
              "Agile Master                      1\n",
              "Analista de Aplicações            1\n",
              "Analista de BI / Big Data         1\n",
              "Analista de Governança            1\n",
              "Analista de Implantação           1\n",
              "Analista de Infraestrutura        1\n",
              "Analista de Integração            1\n",
              "Analista de monitoramento         1\n",
              "Analista de Negócios              1\n",
              "Analista de processos             1\n",
              "Analista de Projetos              1\n",
              "Analista de Qualidade             1\n",
              "Analista de Requisitos            1\n",
              "Analista de segurança             1\n",
              "Analista de Telecomunicações      1\n",
              "Analista de testes                1\n",
              "Analista Funcional                1\n",
              "Analista Microinformática         1\n",
              "Web Designer                      1\n",
              "Name: Cargo, dtype: int64"
            ]
          },
          "metadata": {},
          "execution_count": 3
        }
      ],
      "source": [
        "# vendo valores repetidos\n",
        "\n",
        "df['Cargo'].value_counts()"
      ]
    },
    {
      "cell_type": "code",
      "execution_count": 4,
      "metadata": {
        "id": "dbclQ_-oI2Pc"
      },
      "outputs": [],
      "source": [
        "# criando um data frame para os cargos mais repetidos\n",
        "\n",
        "programador = df[df['Cargo'] == 'Programador']\n",
        "anpro = df[df['Cargo'] == 'Analista Programador']\n",
        "ansup = df[df['Cargo'] == 'Analista de Suporte']\n",
        "ansis = df[df['Cargo'] == 'Analista de sistemas']"
      ]
    },
    {
      "cell_type": "code",
      "execution_count": null,
      "metadata": {
        "id": "KK_6zOYBI2Pe"
      },
      "outputs": [],
      "source": [
        "programador"
      ]
    },
    {
      "cell_type": "code",
      "execution_count": null,
      "metadata": {
        "id": "0yul_DN7I2Pf"
      },
      "outputs": [],
      "source": [
        "anpro"
      ]
    },
    {
      "cell_type": "code",
      "execution_count": null,
      "metadata": {
        "id": "2rh_n0JfI2Pg"
      },
      "outputs": [],
      "source": [
        "ansup"
      ]
    },
    {
      "cell_type": "code",
      "execution_count": null,
      "metadata": {
        "id": "EfYn_PmvI2Pi"
      },
      "outputs": [],
      "source": [
        "ansis"
      ]
    },
    {
      "cell_type": "code",
      "execution_count": 5,
      "metadata": {
        "id": "N6Y4POFRI2Pj",
        "colab": {
          "base_uri": "https://localhost:8080/"
        },
        "outputId": "18b52f89-05c1-4859-8c62-c4d3e67eb92d"
      },
      "outputs": [
        {
          "output_type": "stream",
          "name": "stdout",
          "text": [
            "Terc_programador 54381.0 5438.1\n",
            "Terc_analista_programador 73456.0 7345.6\n",
            "Terc_analista_suporte 27288.0 4548.0\n",
            "Terc_analista_sistemas 43167.0 8633.4\n"
          ]
        }
      ],
      "source": [
        "# tratando os dados para calcular a soma e a media\n",
        "# para terceirizado\n",
        "\n",
        "t_programador = programador['Terceiro'].tolist()\n",
        "t_anpro = anpro['Terceiro'].tolist()\n",
        "t_ansup =ansup['Terceiro'].tolist()\n",
        "t_ansis = ansis['Terceiro'].tolist()\n",
        "\n",
        "# usando o for para criar uma média para cada cargo\n",
        "\n",
        "soma_t_pro = 0\n",
        "for i in range (len(t_programador)):\n",
        "  soma_t_pro = soma_t_pro + t_programador[i]\n",
        "media_pro = soma_t_pro/len(t_programador)\n",
        "print('Terc_programador',soma_t_pro, media_pro)\n",
        "\n",
        "soma_t_anpro = 0\n",
        "for i in range (len(t_anpro)):\n",
        "  soma_t_anpro = soma_t_anpro + t_anpro[i]\n",
        "media_anpro = soma_t_anpro/len(t_anpro)\n",
        "print('Terc_analista_programador',soma_t_anpro, media_anpro)\n",
        "\n",
        "soma_t_ansup = 0\n",
        "for i in range (len(t_ansup)):\n",
        "  soma_t_ansup = soma_t_ansup + t_ansup[i]\n",
        "media_ansup = soma_t_ansup/len(t_ansup)\n",
        "print('Terc_analista_suporte', soma_t_ansup, media_ansup)\n",
        "\n",
        "soma_t_ansis = 0\n",
        "for i in range (len(t_ansis)):\n",
        "  soma_t_ansis = soma_t_ansis + t_ansis[i]\n",
        "media_ansis = soma_t_ansis/len(t_ansis)\n",
        "print('Terc_analista_sistemas',soma_t_ansis, media_ansis)\n",
        "\n"
      ]
    },
    {
      "cell_type": "code",
      "execution_count": 6,
      "metadata": {
        "id": "SYNCOrVmSw0p",
        "colab": {
          "base_uri": "https://localhost:8080/"
        },
        "outputId": "8d36b470-540c-41d4-ce42-1b00f97a88a2"
      },
      "outputs": [
        {
          "output_type": "stream",
          "name": "stdout",
          "text": [
            "                 Cargo  Terceiro\n",
            "   Analista de Suporte    4548.0\n",
            "           Programador    5438.1\n",
            "  Analista programador    7345.6\n",
            "  Analista de sistemas    8633.4\n"
          ]
        }
      ],
      "source": [
        "# criando um novo dataframe\n",
        "# para terceirizado\n",
        "\n",
        "column = ['Cargo', 'Terceiro']\n",
        "line = ['', '','','']\n",
        "dados = [['Analista de Suporte', media_ansup], ['Programador', media_pro]\n",
        "         , ['Analista programador', media_anpro], ['Analista de sistemas', media_ansis]]\n",
        "tb_terceiro = pd.DataFrame(data=dados, index=line, columns=column) \n",
        "print(tb_terceiro)    \n",
        "\n"
      ]
    },
    {
      "cell_type": "code",
      "execution_count": 7,
      "metadata": {
        "id": "KeGnif-jS0oo",
        "colab": {
          "base_uri": "https://localhost:8080/"
        },
        "outputId": "561102ba-3549-4ac2-e502-f3be85028d19"
      },
      "outputs": [
        {
          "output_type": "stream",
          "name": "stdout",
          "text": [
            "CLT_programador 41864 4186.4\n",
            "CLT_analista_programador 56529 5652.9\n",
            "CLT_analista_suporte 23132 3855.3333333333335\n",
            "CLT_analista_sistemas 32274 6454.8\n"
          ]
        }
      ],
      "source": [
        "# tratando os dados para calcular a soma e a media\n",
        "# para o CLT\n",
        "\n",
        "clt_programador = programador['CLT'].tolist()\n",
        "clt_anpro = anpro['CLT'].tolist()\n",
        "clt_ansup =ansup['CLT'].tolist()\n",
        "clt_ansis = ansis['CLT'].tolist()\n",
        "\n",
        "soma_clt_pro = 0\n",
        "for i in range (len(clt_programador)):\n",
        "  soma_clt_pro = soma_clt_pro + clt_programador[i]\n",
        "media_clt_pro = soma_clt_pro/len(clt_programador)\n",
        "print('CLT_programador', soma_clt_pro, media_clt_pro)\n",
        "\n",
        "soma_clt_anpro = 0\n",
        "for i in range (len(clt_anpro)):\n",
        "  soma_clt_anpro = soma_clt_anpro + clt_anpro[i]\n",
        "media_clt_anpro = soma_clt_anpro/len(clt_anpro)\n",
        "print('CLT_analista_programador', soma_clt_anpro, media_clt_anpro)\n",
        "\n",
        "soma_clt_ansup = 0\n",
        "for i in range (len(clt_ansup)):\n",
        "  soma_clt_ansup = soma_clt_ansup + clt_ansup[i]\n",
        "media_clt_ansup = soma_clt_ansup/len(clt_ansup)\n",
        "print('CLT_analista_suporte', soma_clt_ansup, media_clt_ansup)\n",
        "\n",
        "soma_clt_ansis = 0\n",
        "for i in range (len(clt_ansis)):\n",
        "  soma_clt_ansis = soma_clt_ansis + clt_ansis[i]\n",
        "media_clt_ansis = soma_clt_ansis/len(clt_ansis)\n",
        "print('CLT_analista_sistemas',soma_clt_ansis, media_clt_ansis)\n",
        "\n"
      ]
    },
    {
      "cell_type": "code",
      "execution_count": 8,
      "metadata": {
        "id": "hoCve0QkS2tP",
        "colab": {
          "base_uri": "https://localhost:8080/"
        },
        "outputId": "4ac1ed1e-e1cd-4fb1-bc88-3a501d8db3b2"
      },
      "outputs": [
        {
          "output_type": "stream",
          "name": "stdout",
          "text": [
            "                 Cargo          CLT\n",
            "   Analista de Suporte  3855.333333\n",
            "           Programador  4186.400000\n",
            "  Analista programador  5652.900000\n",
            "  Analista de sistemas  6454.800000\n"
          ]
        }
      ],
      "source": [
        "# criando um novo dataframe\n",
        "# para o CLT\n",
        "column = ['Cargo', 'CLT']\n",
        "line = ['', '','','']\n",
        "dados = [['Analista de Suporte', media_clt_ansup], ['Programador', media_clt_pro]\n",
        "         , ['Analista programador', media_clt_anpro], ['Analista de sistemas', media_clt_ansis]]\n",
        "tb_clt = pd.DataFrame(data=dados, index=line, columns=column) \n",
        "print(tb_clt)"
      ]
    },
    {
      "cell_type": "code",
      "execution_count": 26,
      "metadata": {
        "id": "hVVpQFvwK8Qv",
        "colab": {
          "base_uri": "https://localhost:8080/",
          "height": 542
        },
        "outputId": "aaac18d9-2925-4927-cb01-7434ceeb0ec9"
      },
      "outputs": [
        {
          "output_type": "display_data",
          "data": {
            "text/html": [
              "<html>\n",
              "<head><meta charset=\"utf-8\" /></head>\n",
              "<body>\n",
              "    <div>            <script src=\"https://cdnjs.cloudflare.com/ajax/libs/mathjax/2.7.5/MathJax.js?config=TeX-AMS-MML_SVG\"></script><script type=\"text/javascript\">if (window.MathJax) {MathJax.Hub.Config({SVG: {font: \"STIX-Web\"}});}</script>                <script type=\"text/javascript\">window.PlotlyConfig = {MathJaxConfig: 'local'};</script>\n",
              "        <script src=\"https://cdn.plot.ly/plotly-2.8.3.min.js\"></script>                <div id=\"9d1cc191-1272-4a40-979b-ec0d1bf24e57\" class=\"plotly-graph-div\" style=\"height:525px; width:100%;\"></div>            <script type=\"text/javascript\">                                    window.PLOTLYENV=window.PLOTLYENV || {};                                    if (document.getElementById(\"9d1cc191-1272-4a40-979b-ec0d1bf24e57\")) {                    Plotly.newPlot(                        \"9d1cc191-1272-4a40-979b-ec0d1bf24e57\",                        [{\"name\":\"Terceiro\",\"x\":[4548.0,5438.1,7345.6,8633.4],\"y\":[\"Analista de Suporte\",\"Programador\",\"Analista programador\",\"Analista de sistemas\"],\"type\":\"funnel\"},{\"name\":\"CLT\",\"orientation\":\"h\",\"x\":[3855.3333333333335,4186.4,5652.9,6454.8],\"y\":[\"Analista de Suporte\",\"Programador\",\"Analista programador\",\"Analista de sistemas\"],\"type\":\"funnel\"}],                        {\"template\":{\"data\":{\"barpolar\":[{\"marker\":{\"line\":{\"color\":\"rgb(17,17,17)\",\"width\":0.5},\"pattern\":{\"fillmode\":\"overlay\",\"size\":10,\"solidity\":0.2}},\"type\":\"barpolar\"}],\"bar\":[{\"error_x\":{\"color\":\"#f2f5fa\"},\"error_y\":{\"color\":\"#f2f5fa\"},\"marker\":{\"line\":{\"color\":\"rgb(17,17,17)\",\"width\":0.5},\"pattern\":{\"fillmode\":\"overlay\",\"size\":10,\"solidity\":0.2}},\"type\":\"bar\"}],\"carpet\":[{\"aaxis\":{\"endlinecolor\":\"#A2B1C6\",\"gridcolor\":\"#506784\",\"linecolor\":\"#506784\",\"minorgridcolor\":\"#506784\",\"startlinecolor\":\"#A2B1C6\"},\"baxis\":{\"endlinecolor\":\"#A2B1C6\",\"gridcolor\":\"#506784\",\"linecolor\":\"#506784\",\"minorgridcolor\":\"#506784\",\"startlinecolor\":\"#A2B1C6\"},\"type\":\"carpet\"}],\"choropleth\":[{\"colorbar\":{\"outlinewidth\":0,\"ticks\":\"\"},\"type\":\"choropleth\"}],\"contourcarpet\":[{\"colorbar\":{\"outlinewidth\":0,\"ticks\":\"\"},\"type\":\"contourcarpet\"}],\"contour\":[{\"colorbar\":{\"outlinewidth\":0,\"ticks\":\"\"},\"colorscale\":[[0.0,\"#0d0887\"],[0.1111111111111111,\"#46039f\"],[0.2222222222222222,\"#7201a8\"],[0.3333333333333333,\"#9c179e\"],[0.4444444444444444,\"#bd3786\"],[0.5555555555555556,\"#d8576b\"],[0.6666666666666666,\"#ed7953\"],[0.7777777777777778,\"#fb9f3a\"],[0.8888888888888888,\"#fdca26\"],[1.0,\"#f0f921\"]],\"type\":\"contour\"}],\"heatmapgl\":[{\"colorbar\":{\"outlinewidth\":0,\"ticks\":\"\"},\"colorscale\":[[0.0,\"#0d0887\"],[0.1111111111111111,\"#46039f\"],[0.2222222222222222,\"#7201a8\"],[0.3333333333333333,\"#9c179e\"],[0.4444444444444444,\"#bd3786\"],[0.5555555555555556,\"#d8576b\"],[0.6666666666666666,\"#ed7953\"],[0.7777777777777778,\"#fb9f3a\"],[0.8888888888888888,\"#fdca26\"],[1.0,\"#f0f921\"]],\"type\":\"heatmapgl\"}],\"heatmap\":[{\"colorbar\":{\"outlinewidth\":0,\"ticks\":\"\"},\"colorscale\":[[0.0,\"#0d0887\"],[0.1111111111111111,\"#46039f\"],[0.2222222222222222,\"#7201a8\"],[0.3333333333333333,\"#9c179e\"],[0.4444444444444444,\"#bd3786\"],[0.5555555555555556,\"#d8576b\"],[0.6666666666666666,\"#ed7953\"],[0.7777777777777778,\"#fb9f3a\"],[0.8888888888888888,\"#fdca26\"],[1.0,\"#f0f921\"]],\"type\":\"heatmap\"}],\"histogram2dcontour\":[{\"colorbar\":{\"outlinewidth\":0,\"ticks\":\"\"},\"colorscale\":[[0.0,\"#0d0887\"],[0.1111111111111111,\"#46039f\"],[0.2222222222222222,\"#7201a8\"],[0.3333333333333333,\"#9c179e\"],[0.4444444444444444,\"#bd3786\"],[0.5555555555555556,\"#d8576b\"],[0.6666666666666666,\"#ed7953\"],[0.7777777777777778,\"#fb9f3a\"],[0.8888888888888888,\"#fdca26\"],[1.0,\"#f0f921\"]],\"type\":\"histogram2dcontour\"}],\"histogram2d\":[{\"colorbar\":{\"outlinewidth\":0,\"ticks\":\"\"},\"colorscale\":[[0.0,\"#0d0887\"],[0.1111111111111111,\"#46039f\"],[0.2222222222222222,\"#7201a8\"],[0.3333333333333333,\"#9c179e\"],[0.4444444444444444,\"#bd3786\"],[0.5555555555555556,\"#d8576b\"],[0.6666666666666666,\"#ed7953\"],[0.7777777777777778,\"#fb9f3a\"],[0.8888888888888888,\"#fdca26\"],[1.0,\"#f0f921\"]],\"type\":\"histogram2d\"}],\"histogram\":[{\"marker\":{\"pattern\":{\"fillmode\":\"overlay\",\"size\":10,\"solidity\":0.2}},\"type\":\"histogram\"}],\"mesh3d\":[{\"colorbar\":{\"outlinewidth\":0,\"ticks\":\"\"},\"type\":\"mesh3d\"}],\"parcoords\":[{\"line\":{\"colorbar\":{\"outlinewidth\":0,\"ticks\":\"\"}},\"type\":\"parcoords\"}],\"pie\":[{\"automargin\":true,\"type\":\"pie\"}],\"scatter3d\":[{\"line\":{\"colorbar\":{\"outlinewidth\":0,\"ticks\":\"\"}},\"marker\":{\"colorbar\":{\"outlinewidth\":0,\"ticks\":\"\"}},\"type\":\"scatter3d\"}],\"scattercarpet\":[{\"marker\":{\"colorbar\":{\"outlinewidth\":0,\"ticks\":\"\"}},\"type\":\"scattercarpet\"}],\"scattergeo\":[{\"marker\":{\"colorbar\":{\"outlinewidth\":0,\"ticks\":\"\"}},\"type\":\"scattergeo\"}],\"scattergl\":[{\"marker\":{\"line\":{\"color\":\"#283442\"}},\"type\":\"scattergl\"}],\"scattermapbox\":[{\"marker\":{\"colorbar\":{\"outlinewidth\":0,\"ticks\":\"\"}},\"type\":\"scattermapbox\"}],\"scatterpolargl\":[{\"marker\":{\"colorbar\":{\"outlinewidth\":0,\"ticks\":\"\"}},\"type\":\"scatterpolargl\"}],\"scatterpolar\":[{\"marker\":{\"colorbar\":{\"outlinewidth\":0,\"ticks\":\"\"}},\"type\":\"scatterpolar\"}],\"scatter\":[{\"marker\":{\"line\":{\"color\":\"#283442\"}},\"type\":\"scatter\"}],\"scatterternary\":[{\"marker\":{\"colorbar\":{\"outlinewidth\":0,\"ticks\":\"\"}},\"type\":\"scatterternary\"}],\"surface\":[{\"colorbar\":{\"outlinewidth\":0,\"ticks\":\"\"},\"colorscale\":[[0.0,\"#0d0887\"],[0.1111111111111111,\"#46039f\"],[0.2222222222222222,\"#7201a8\"],[0.3333333333333333,\"#9c179e\"],[0.4444444444444444,\"#bd3786\"],[0.5555555555555556,\"#d8576b\"],[0.6666666666666666,\"#ed7953\"],[0.7777777777777778,\"#fb9f3a\"],[0.8888888888888888,\"#fdca26\"],[1.0,\"#f0f921\"]],\"type\":\"surface\"}],\"table\":[{\"cells\":{\"fill\":{\"color\":\"#506784\"},\"line\":{\"color\":\"rgb(17,17,17)\"}},\"header\":{\"fill\":{\"color\":\"#2a3f5f\"},\"line\":{\"color\":\"rgb(17,17,17)\"}},\"type\":\"table\"}]},\"layout\":{\"annotationdefaults\":{\"arrowcolor\":\"#f2f5fa\",\"arrowhead\":0,\"arrowwidth\":1},\"autotypenumbers\":\"strict\",\"coloraxis\":{\"colorbar\":{\"outlinewidth\":0,\"ticks\":\"\"}},\"colorscale\":{\"diverging\":[[0,\"#8e0152\"],[0.1,\"#c51b7d\"],[0.2,\"#de77ae\"],[0.3,\"#f1b6da\"],[0.4,\"#fde0ef\"],[0.5,\"#f7f7f7\"],[0.6,\"#e6f5d0\"],[0.7,\"#b8e186\"],[0.8,\"#7fbc41\"],[0.9,\"#4d9221\"],[1,\"#276419\"]],\"sequential\":[[0.0,\"#0d0887\"],[0.1111111111111111,\"#46039f\"],[0.2222222222222222,\"#7201a8\"],[0.3333333333333333,\"#9c179e\"],[0.4444444444444444,\"#bd3786\"],[0.5555555555555556,\"#d8576b\"],[0.6666666666666666,\"#ed7953\"],[0.7777777777777778,\"#fb9f3a\"],[0.8888888888888888,\"#fdca26\"],[1.0,\"#f0f921\"]],\"sequentialminus\":[[0.0,\"#0d0887\"],[0.1111111111111111,\"#46039f\"],[0.2222222222222222,\"#7201a8\"],[0.3333333333333333,\"#9c179e\"],[0.4444444444444444,\"#bd3786\"],[0.5555555555555556,\"#d8576b\"],[0.6666666666666666,\"#ed7953\"],[0.7777777777777778,\"#fb9f3a\"],[0.8888888888888888,\"#fdca26\"],[1.0,\"#f0f921\"]]},\"colorway\":[\"#636efa\",\"#EF553B\",\"#00cc96\",\"#ab63fa\",\"#FFA15A\",\"#19d3f3\",\"#FF6692\",\"#B6E880\",\"#FF97FF\",\"#FECB52\"],\"font\":{\"color\":\"#f2f5fa\"},\"geo\":{\"bgcolor\":\"rgb(17,17,17)\",\"lakecolor\":\"rgb(17,17,17)\",\"landcolor\":\"rgb(17,17,17)\",\"showlakes\":true,\"showland\":true,\"subunitcolor\":\"#506784\"},\"hoverlabel\":{\"align\":\"left\"},\"hovermode\":\"closest\",\"mapbox\":{\"style\":\"dark\"},\"paper_bgcolor\":\"rgb(17,17,17)\",\"plot_bgcolor\":\"rgb(17,17,17)\",\"polar\":{\"angularaxis\":{\"gridcolor\":\"#506784\",\"linecolor\":\"#506784\",\"ticks\":\"\"},\"bgcolor\":\"rgb(17,17,17)\",\"radialaxis\":{\"gridcolor\":\"#506784\",\"linecolor\":\"#506784\",\"ticks\":\"\"}},\"scene\":{\"xaxis\":{\"backgroundcolor\":\"rgb(17,17,17)\",\"gridcolor\":\"#506784\",\"gridwidth\":2,\"linecolor\":\"#506784\",\"showbackground\":true,\"ticks\":\"\",\"zerolinecolor\":\"#C8D4E3\"},\"yaxis\":{\"backgroundcolor\":\"rgb(17,17,17)\",\"gridcolor\":\"#506784\",\"gridwidth\":2,\"linecolor\":\"#506784\",\"showbackground\":true,\"ticks\":\"\",\"zerolinecolor\":\"#C8D4E3\"},\"zaxis\":{\"backgroundcolor\":\"rgb(17,17,17)\",\"gridcolor\":\"#506784\",\"gridwidth\":2,\"linecolor\":\"#506784\",\"showbackground\":true,\"ticks\":\"\",\"zerolinecolor\":\"#C8D4E3\"}},\"shapedefaults\":{\"line\":{\"color\":\"#f2f5fa\"}},\"sliderdefaults\":{\"bgcolor\":\"#C8D4E3\",\"bordercolor\":\"rgb(17,17,17)\",\"borderwidth\":1,\"tickwidth\":0},\"ternary\":{\"aaxis\":{\"gridcolor\":\"#506784\",\"linecolor\":\"#506784\",\"ticks\":\"\"},\"baxis\":{\"gridcolor\":\"#506784\",\"linecolor\":\"#506784\",\"ticks\":\"\"},\"bgcolor\":\"rgb(17,17,17)\",\"caxis\":{\"gridcolor\":\"#506784\",\"linecolor\":\"#506784\",\"ticks\":\"\"}},\"title\":{\"x\":0.05},\"updatemenudefaults\":{\"bgcolor\":\"#506784\",\"borderwidth\":0},\"xaxis\":{\"automargin\":true,\"gridcolor\":\"#283442\",\"linecolor\":\"#506784\",\"ticks\":\"\",\"title\":{\"standoff\":15},\"zerolinecolor\":\"#283442\",\"zerolinewidth\":2},\"yaxis\":{\"automargin\":true,\"gridcolor\":\"#283442\",\"linecolor\":\"#506784\",\"ticks\":\"\",\"title\":{\"standoff\":15},\"zerolinecolor\":\"#283442\",\"zerolinewidth\":2}}},\"title\":{\"text\":\"Compara\\u00e7\\u00e3o entre sal\\u00e1rios de contratados pela CLT e sal\\u00e1rios de terceirizados\"}},                        {\"responsive\": true}                    ).then(function(){\n",
              "                            \n",
              "var gd = document.getElementById('9d1cc191-1272-4a40-979b-ec0d1bf24e57');\n",
              "var x = new MutationObserver(function (mutations, observer) {{\n",
              "        var display = window.getComputedStyle(gd).display;\n",
              "        if (!display || display === 'none') {{\n",
              "            console.log([gd, 'removed!']);\n",
              "            Plotly.purge(gd);\n",
              "            observer.disconnect();\n",
              "        }}\n",
              "}});\n",
              "\n",
              "// Listen for the removal of the full notebook cells\n",
              "var notebookContainer = gd.closest('#notebook-container');\n",
              "if (notebookContainer) {{\n",
              "    x.observe(notebookContainer, {childList: true});\n",
              "}}\n",
              "\n",
              "// Listen for the clearing of the current output cell\n",
              "var outputEl = gd.closest('.output');\n",
              "if (outputEl) {{\n",
              "    x.observe(outputEl, {childList: true});\n",
              "}}\n",
              "\n",
              "                        })                };                            </script>        </div>\n",
              "</body>\n",
              "</html>"
            ]
          },
          "metadata": {}
        }
      ],
      "source": [
        "fig = go.Figure()\n",
        "\n",
        "fig.add_trace(go.Funnel(name='Terceiro', y=tb_terceiro['Cargo'], x=tb_terceiro['Terceiro']))\n",
        "\n",
        "fig.add_trace(go.Funnel(name='CLT', orientation='h', y=tb_clt['Cargo'], x=tb_clt['CLT']))\n",
        "\n",
        "\n",
        "fig.update_layout(title='Comparação entre salários de contratados pela CLT e salários de terceirizados', template='plotly_dark')\n",
        "fig.show()"
      ]
    }
  ],
  "metadata": {
    "colab": {
      "collapsed_sections": [],
      "name": "02_salarios_CLT_Terceirizado_simplificado_barras_duplas.ipynb",
      "provenance": []
    },
    "interpreter": {
      "hash": "f9f85f796d01129d0dd105a088854619f454435301f6ffec2fea96ecbd9be4ac"
    },
    "kernelspec": {
      "display_name": "Python 3.9.12 64-bit",
      "language": "python",
      "name": "python3"
    },
    "language_info": {
      "codemirror_mode": {
        "name": "ipython",
        "version": 3
      },
      "file_extension": ".py",
      "mimetype": "text/x-python",
      "name": "python",
      "nbconvert_exporter": "python",
      "pygments_lexer": "ipython3",
      "version": "3.10.2"
    },
    "orig_nbformat": 4
  },
  "nbformat": 4,
  "nbformat_minor": 0
}